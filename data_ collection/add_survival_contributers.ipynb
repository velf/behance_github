{
 "cells": [
  {
   "cell_type": "code",
   "execution_count": 1,
   "metadata": {},
   "outputs": [
    {
     "name": "stderr",
     "output_type": "stream",
     "text": [
      "\n",
      "Bad key text.latex.preview in file /Users/vorsi/opt/anaconda3/lib/python3.8/site-packages/matplotlib/mpl-data/stylelib/_classic_test.mplstyle, line 123 ('text.latex.preview : False')\n",
      "You probably need to get an updated matplotlibrc file from\n",
      "https://github.com/matplotlib/matplotlib/blob/v3.7.4/lib/matplotlib/mpl-data/matplotlibrc\n",
      "or from the matplotlib source distribution\n",
      "\n",
      "Bad key mathtext.fallback_to_cm in file /Users/vorsi/opt/anaconda3/lib/python3.8/site-packages/matplotlib/mpl-data/stylelib/_classic_test.mplstyle, line 155 ('mathtext.fallback_to_cm : True  # When True, use symbols from the Computer Modern')\n",
      "You probably need to get an updated matplotlibrc file from\n",
      "https://github.com/matplotlib/matplotlib/blob/v3.7.4/lib/matplotlib/mpl-data/matplotlibrc\n",
      "or from the matplotlib source distribution\n",
      "\n",
      "Bad key savefig.jpeg_quality in file /Users/vorsi/opt/anaconda3/lib/python3.8/site-packages/matplotlib/mpl-data/stylelib/_classic_test.mplstyle, line 418 ('savefig.jpeg_quality: 95       # when a jpeg is saved, the default quality parameter.')\n",
      "You probably need to get an updated matplotlibrc file from\n",
      "https://github.com/matplotlib/matplotlib/blob/v3.7.4/lib/matplotlib/mpl-data/matplotlibrc\n",
      "or from the matplotlib source distribution\n",
      "\n",
      "Bad key keymap.all_axes in file /Users/vorsi/opt/anaconda3/lib/python3.8/site-packages/matplotlib/mpl-data/stylelib/_classic_test.mplstyle, line 466 ('keymap.all_axes : a                 # enable all axes')\n",
      "You probably need to get an updated matplotlibrc file from\n",
      "https://github.com/matplotlib/matplotlib/blob/v3.7.4/lib/matplotlib/mpl-data/matplotlibrc\n",
      "or from the matplotlib source distribution\n",
      "\n",
      "Bad key animation.avconv_path in file /Users/vorsi/opt/anaconda3/lib/python3.8/site-packages/matplotlib/mpl-data/stylelib/_classic_test.mplstyle, line 477 ('animation.avconv_path: avconv     # Path to avconv binary. Without full path')\n",
      "You probably need to get an updated matplotlibrc file from\n",
      "https://github.com/matplotlib/matplotlib/blob/v3.7.4/lib/matplotlib/mpl-data/matplotlibrc\n",
      "or from the matplotlib source distribution\n",
      "\n",
      "Bad key animation.avconv_args in file /Users/vorsi/opt/anaconda3/lib/python3.8/site-packages/matplotlib/mpl-data/stylelib/_classic_test.mplstyle, line 479 ('animation.avconv_args:            # Additional arguments to pass to avconv')\n",
      "You probably need to get an updated matplotlibrc file from\n",
      "https://github.com/matplotlib/matplotlib/blob/v3.7.4/lib/matplotlib/mpl-data/matplotlibrc\n",
      "or from the matplotlib source distribution\n"
     ]
    }
   ],
   "source": [
    "import pandas as pd\n",
    "import numpy as np\n",
    "import os\n",
    "\n",
    "%matplotlib inline"
   ]
  },
  {
   "cell_type": "code",
   "execution_count": 4,
   "metadata": {},
   "outputs": [],
   "source": [
    "data=pd.read_csv('behance_sample1_with_femaleness.csv')"
   ]
  },
  {
   "cell_type": "code",
   "execution_count": 7,
   "metadata": {},
   "outputs": [],
   "source": [
    "#data['username']"
   ]
  },
  {
   "cell_type": "code",
   "execution_count": 25,
   "metadata": {},
   "outputs": [
    {
     "data": {
      "text/html": [
       "<div>\n",
       "<style scoped>\n",
       "    .dataframe tbody tr th:only-of-type {\n",
       "        vertical-align: middle;\n",
       "    }\n",
       "\n",
       "    .dataframe tbody tr th {\n",
       "        vertical-align: top;\n",
       "    }\n",
       "\n",
       "    .dataframe thead th {\n",
       "        text-align: right;\n",
       "    }\n",
       "</style>\n",
       "<table border=\"1\" class=\"dataframe\">\n",
       "  <thead>\n",
       "    <tr style=\"text-align: right;\">\n",
       "      <th></th>\n",
       "      <th>user_id</th>\n",
       "      <th>fields</th>\n",
       "      <th>followers</th>\n",
       "      <th>following</th>\n",
       "      <th>username</th>\n",
       "      <th>gender</th>\n",
       "      <th>country</th>\n",
       "      <th>comments</th>\n",
       "      <th>project_counts</th>\n",
       "      <th>project_views</th>\n",
       "      <th>...</th>\n",
       "      <th>Branding</th>\n",
       "      <th>Art_Direction</th>\n",
       "      <th>Digital_Art</th>\n",
       "      <th>Fashion_Photography</th>\n",
       "      <th>Fine_Arts</th>\n",
       "      <th>Web_design_UX</th>\n",
       "      <th>Advertising</th>\n",
       "      <th>gender_female</th>\n",
       "      <th>gender_male</th>\n",
       "      <th>femaleness_2_new</th>\n",
       "    </tr>\n",
       "  </thead>\n",
       "  <tbody>\n",
       "    <tr>\n",
       "      <th>46</th>\n",
       "      <td>1313349</td>\n",
       "      <td>Graphic Design|Branding|Typography</td>\n",
       "      <td>1401</td>\n",
       "      <td>2208</td>\n",
       "      <td>nicky-genov</td>\n",
       "      <td>male</td>\n",
       "      <td>Bulgaria</td>\n",
       "      <td>6259</td>\n",
       "      <td>7</td>\n",
       "      <td>72395</td>\n",
       "      <td>...</td>\n",
       "      <td>1.363678</td>\n",
       "      <td>-2.098721</td>\n",
       "      <td>-0.699705</td>\n",
       "      <td>0.700807</td>\n",
       "      <td>0.062761</td>\n",
       "      <td>-1.254402</td>\n",
       "      <td>0.737132</td>\n",
       "      <td>0</td>\n",
       "      <td>1</td>\n",
       "      <td>0.282373</td>\n",
       "    </tr>\n",
       "  </tbody>\n",
       "</table>\n",
       "<p>1 rows × 80 columns</p>\n",
       "</div>"
      ],
      "text/plain": [
       "    user_id                              fields  followers  following  \\\n",
       "46  1313349  Graphic Design|Branding|Typography       1401       2208   \n",
       "\n",
       "       username gender   country  comments  project_counts  project_views  \\\n",
       "46  nicky-genov   male  Bulgaria      6259               7          72395   \n",
       "\n",
       "          ...         Branding  Art_Direction  Digital_Art  \\\n",
       "46        ...         1.363678      -2.098721    -0.699705   \n",
       "\n",
       "   Fashion_Photography  Fine_Arts  Web_design_UX  Advertising  gender_female  \\\n",
       "46            0.700807   0.062761      -1.254402     0.737132              0   \n",
       "\n",
       "    gender_male  femaleness_2_new  \n",
       "46            1          0.282373  \n",
       "\n",
       "[1 rows x 80 columns]"
      ]
     },
     "execution_count": 25,
     "metadata": {},
     "output_type": "execute_result"
    }
   ],
   "source": [
    "data[data['user_id']==1313349]"
   ]
  },
  {
   "cell_type": "code",
   "execution_count": 5,
   "metadata": {},
   "outputs": [
    {
     "data": {
      "text/plain": [
       "'/Users/orsi/Dropbox/behance-data'"
      ]
     },
     "execution_count": 5,
     "metadata": {},
     "output_type": "execute_result"
    }
   ],
   "source": [
    "pwd"
   ]
  },
  {
   "cell_type": "code",
   "execution_count": 8,
   "metadata": {},
   "outputs": [],
   "source": [
    "path='/Users/vorsi/Dropbox/behance-data/behance_projects/'\n",
    "files=[f for f in os.listdir(path) if f.endswith(\".csv\")]"
   ]
  },
  {
   "cell_type": "code",
   "execution_count": 9,
   "metadata": {},
   "outputs": [],
   "source": [
    "import datetime"
   ]
  },
  {
   "cell_type": "code",
   "execution_count": 10,
   "metadata": {},
   "outputs": [
    {
     "data": {
      "text/plain": [
       "['behance_user_projects2000.csv',\n",
       " 'behance_user_projects11000.csv',\n",
       " 'behance_user_projects8000.csv',\n",
       " 'behance_user_projects4000.csv',\n",
       " 'behance_user_projects6000.csv',\n",
       " 'behance_user_projects3000.csv',\n",
       " 'behance_user_projects12000.csv',\n",
       " 'behance_user_projects10000.csv',\n",
       " 'behance_user_projects1000.csv',\n",
       " 'behance_user_projects9000.csv',\n",
       " 'behance_user_projects5000.csv',\n",
       " 'behance_user_projects7000.csv']"
      ]
     },
     "execution_count": 10,
     "metadata": {},
     "output_type": "execute_result"
    }
   ],
   "source": [
    "files"
   ]
  },
  {
   "cell_type": "code",
   "execution_count": 11,
   "metadata": {},
   "outputs": [],
   "source": [
    "t=pd.read_csv(path+sorted(files)[0])\n",
    "t['created2'] = pd.to_datetime(t['created'],unit='s')"
   ]
  },
  {
   "cell_type": "code",
   "execution_count": 12,
   "metadata": {},
   "outputs": [
    {
     "data": {
      "text/html": [
       "<div>\n",
       "<style scoped>\n",
       "    .dataframe tbody tr th:only-of-type {\n",
       "        vertical-align: middle;\n",
       "    }\n",
       "\n",
       "    .dataframe tbody tr th {\n",
       "        vertical-align: top;\n",
       "    }\n",
       "\n",
       "    .dataframe thead th {\n",
       "        text-align: right;\n",
       "    }\n",
       "</style>\n",
       "<table border=\"1\" class=\"dataframe\">\n",
       "  <thead>\n",
       "    <tr style=\"text-align: right;\">\n",
       "      <th></th>\n",
       "      <th>Unnamed: 0</th>\n",
       "      <th>created</th>\n",
       "      <th>owners</th>\n",
       "      <th>project_id</th>\n",
       "      <th>stats</th>\n",
       "      <th>user_id</th>\n",
       "      <th>created2</th>\n",
       "    </tr>\n",
       "  </thead>\n",
       "  <tbody>\n",
       "    <tr>\n",
       "      <th>20</th>\n",
       "      <td>20</td>\n",
       "      <td>1.360864e+09</td>\n",
       "      <td>[181566]</td>\n",
       "      <td>7155141.0</td>\n",
       "      <td>{'views': 2564, 'appreciations': 42, 'comments...</td>\n",
       "      <td>181566.0</td>\n",
       "      <td>2013-02-14 17:45:50</td>\n",
       "    </tr>\n",
       "    <tr>\n",
       "      <th>21</th>\n",
       "      <td>21</td>\n",
       "      <td>1.359903e+09</td>\n",
       "      <td>[181566]</td>\n",
       "      <td>6977275.0</td>\n",
       "      <td>{'views': 816, 'appreciations': 13, 'comments'...</td>\n",
       "      <td>181566.0</td>\n",
       "      <td>2013-02-03 14:46:34</td>\n",
       "    </tr>\n",
       "    <tr>\n",
       "      <th>22</th>\n",
       "      <td>22</td>\n",
       "      <td>1.340291e+09</td>\n",
       "      <td>[181566]</td>\n",
       "      <td>4301189.0</td>\n",
       "      <td>{'views': 1417, 'appreciations': 19, 'comments...</td>\n",
       "      <td>181566.0</td>\n",
       "      <td>2012-06-21 15:07:44</td>\n",
       "    </tr>\n",
       "    <tr>\n",
       "      <th>23</th>\n",
       "      <td>23</td>\n",
       "      <td>1.340189e+09</td>\n",
       "      <td>[181566]</td>\n",
       "      <td>4285879.0</td>\n",
       "      <td>{'views': 347, 'appreciations': 7, 'comments': 0}</td>\n",
       "      <td>181566.0</td>\n",
       "      <td>2012-06-20 10:46:30</td>\n",
       "    </tr>\n",
       "    <tr>\n",
       "      <th>24</th>\n",
       "      <td>24</td>\n",
       "      <td>1.277199e+09</td>\n",
       "      <td>[181566]</td>\n",
       "      <td>551194.0</td>\n",
       "      <td>{'views': 189, 'appreciations': 7, 'comments': 0}</td>\n",
       "      <td>181566.0</td>\n",
       "      <td>2010-06-22 09:32:29</td>\n",
       "    </tr>\n",
       "    <tr>\n",
       "      <th>...</th>\n",
       "      <td>...</td>\n",
       "      <td>...</td>\n",
       "      <td>...</td>\n",
       "      <td>...</td>\n",
       "      <td>...</td>\n",
       "      <td>...</td>\n",
       "      <td>...</td>\n",
       "    </tr>\n",
       "    <tr>\n",
       "      <th>45326</th>\n",
       "      <td>45326</td>\n",
       "      <td>1.380819e+09</td>\n",
       "      <td>[1204165]</td>\n",
       "      <td>11270577.0</td>\n",
       "      <td>{'views': 438, 'appreciations': 22, 'comments'...</td>\n",
       "      <td>1204165.0</td>\n",
       "      <td>2013-10-03 16:50:29</td>\n",
       "    </tr>\n",
       "    <tr>\n",
       "      <th>45327</th>\n",
       "      <td>45327</td>\n",
       "      <td>1.380573e+09</td>\n",
       "      <td>[1204165]</td>\n",
       "      <td>11207241.0</td>\n",
       "      <td>{'views': 349, 'appreciations': 19, 'comments'...</td>\n",
       "      <td>1204165.0</td>\n",
       "      <td>2013-09-30 20:26:23</td>\n",
       "    </tr>\n",
       "    <tr>\n",
       "      <th>45328</th>\n",
       "      <td>45328</td>\n",
       "      <td>1.344619e+09</td>\n",
       "      <td>[1204165]</td>\n",
       "      <td>4786761.0</td>\n",
       "      <td>{'views': 389, 'appreciations': 9, 'comments': 0}</td>\n",
       "      <td>1204165.0</td>\n",
       "      <td>2012-08-10 17:10:12</td>\n",
       "    </tr>\n",
       "    <tr>\n",
       "      <th>45329</th>\n",
       "      <td>45329</td>\n",
       "      <td>1.385143e+09</td>\n",
       "      <td>[1204165]</td>\n",
       "      <td>12360659.0</td>\n",
       "      <td>{'views': 244, 'appreciations': 8, 'comments': 0}</td>\n",
       "      <td>1204165.0</td>\n",
       "      <td>2013-11-22 17:53:32</td>\n",
       "    </tr>\n",
       "    <tr>\n",
       "      <th>45330</th>\n",
       "      <td>45330</td>\n",
       "      <td>1.381515e+09</td>\n",
       "      <td>[1204165]</td>\n",
       "      <td>11431315.0</td>\n",
       "      <td>{'views': 399, 'appreciations': 44, 'comments'...</td>\n",
       "      <td>1204165.0</td>\n",
       "      <td>2013-10-11 18:02:16</td>\n",
       "    </tr>\n",
       "  </tbody>\n",
       "</table>\n",
       "<p>45311 rows × 7 columns</p>\n",
       "</div>"
      ],
      "text/plain": [
       "       Unnamed: 0       created     owners  project_id  \\\n",
       "20             20  1.360864e+09   [181566]   7155141.0   \n",
       "21             21  1.359903e+09   [181566]   6977275.0   \n",
       "22             22  1.340291e+09   [181566]   4301189.0   \n",
       "23             23  1.340189e+09   [181566]   4285879.0   \n",
       "24             24  1.277199e+09   [181566]    551194.0   \n",
       "...           ...           ...        ...         ...   \n",
       "45326       45326  1.380819e+09  [1204165]  11270577.0   \n",
       "45327       45327  1.380573e+09  [1204165]  11207241.0   \n",
       "45328       45328  1.344619e+09  [1204165]   4786761.0   \n",
       "45329       45329  1.385143e+09  [1204165]  12360659.0   \n",
       "45330       45330  1.381515e+09  [1204165]  11431315.0   \n",
       "\n",
       "                                                   stats    user_id  \\\n",
       "20     {'views': 2564, 'appreciations': 42, 'comments...   181566.0   \n",
       "21     {'views': 816, 'appreciations': 13, 'comments'...   181566.0   \n",
       "22     {'views': 1417, 'appreciations': 19, 'comments...   181566.0   \n",
       "23     {'views': 347, 'appreciations': 7, 'comments': 0}   181566.0   \n",
       "24     {'views': 189, 'appreciations': 7, 'comments': 0}   181566.0   \n",
       "...                                                  ...        ...   \n",
       "45326  {'views': 438, 'appreciations': 22, 'comments'...  1204165.0   \n",
       "45327  {'views': 349, 'appreciations': 19, 'comments'...  1204165.0   \n",
       "45328  {'views': 389, 'appreciations': 9, 'comments': 0}  1204165.0   \n",
       "45329  {'views': 244, 'appreciations': 8, 'comments': 0}  1204165.0   \n",
       "45330  {'views': 399, 'appreciations': 44, 'comments'...  1204165.0   \n",
       "\n",
       "                 created2  \n",
       "20    2013-02-14 17:45:50  \n",
       "21    2013-02-03 14:46:34  \n",
       "22    2012-06-21 15:07:44  \n",
       "23    2012-06-20 10:46:30  \n",
       "24    2010-06-22 09:32:29  \n",
       "...                   ...  \n",
       "45326 2013-10-03 16:50:29  \n",
       "45327 2013-09-30 20:26:23  \n",
       "45328 2012-08-10 17:10:12  \n",
       "45329 2013-11-22 17:53:32  \n",
       "45330 2013-10-11 18:02:16  \n",
       "\n",
       "[45311 rows x 7 columns]"
      ]
     },
     "execution_count": 12,
     "metadata": {},
     "output_type": "execute_result"
    }
   ],
   "source": [
    "t[20:]"
   ]
  },
  {
   "cell_type": "code",
   "execution_count": 13,
   "metadata": {
    "scrolled": true
   },
   "outputs": [
    {
     "data": {
      "text/plain": [
       "Timestamp('2016-05-09 11:14:09')"
      ]
     },
     "execution_count": 13,
     "metadata": {},
     "output_type": "execute_result"
    }
   ],
   "source": [
    "t[t['user_id']==1313349].sort_values(by='created2', ascending=False)['created2'][0]"
   ]
  },
  {
   "cell_type": "code",
   "execution_count": 14,
   "metadata": {},
   "outputs": [],
   "source": [
    "# ollection time plus one year\n",
    "collection_time=datetime.datetime(2017,11,1)"
   ]
  },
  {
   "cell_type": "code",
   "execution_count": 30,
   "metadata": {
    "collapsed": true
   },
   "outputs": [],
   "source": [
    "users=list(data['user_id'])"
   ]
  },
  {
   "cell_type": "code",
   "execution_count": 54,
   "metadata": {},
   "outputs": [
    {
     "data": {
      "text/plain": [
       "Timestamp('2015-08-08 11:13:08')"
      ]
     },
     "execution_count": 54,
     "metadata": {},
     "output_type": "execute_result"
    }
   ],
   "source": [
    "t[t['user_id']==u].sort_values(by='created2', ascending=False)['created2'].iloc[0]"
   ]
  },
  {
   "cell_type": "code",
   "execution_count": 16,
   "metadata": {},
   "outputs": [],
   "source": [
    "from collections import defaultdict\n",
    "\n",
    "user_surv=defaultdict(tuple)\n",
    "for f in files[1:]:\n",
    "    t=pd.read_csv(path+f)\n",
    "    t['created2'] = pd.to_datetime(t['created'],unit='s')\n",
    "    for u in list(t['user_id']):\n",
    "        last_act=t[t['user_id']==u].sort_values(by='created2', ascending=False)['created2'].iloc[0]\n",
    "        if last_act>collection_time:\n",
    "            surv=1\n",
    "        else:\n",
    "            surv=0\n",
    "        user_surv[u]=((last_act,surv))    "
   ]
  },
  {
   "cell_type": "code",
   "execution_count": 17,
   "metadata": {},
   "outputs": [],
   "source": [
    "users_survival=pd.DataFrame(user_surv).T"
   ]
  },
  {
   "cell_type": "code",
   "execution_count": 18,
   "metadata": {},
   "outputs": [],
   "source": [
    "users_survival2=users_survival.rename(columns={0:'last_activity', 1:'survival'})"
   ]
  },
  {
   "cell_type": "code",
   "execution_count": 19,
   "metadata": {},
   "outputs": [
    {
     "data": {
      "text/html": [
       "<div>\n",
       "<style scoped>\n",
       "    .dataframe tbody tr th:only-of-type {\n",
       "        vertical-align: middle;\n",
       "    }\n",
       "\n",
       "    .dataframe tbody tr th {\n",
       "        vertical-align: top;\n",
       "    }\n",
       "\n",
       "    .dataframe thead th {\n",
       "        text-align: right;\n",
       "    }\n",
       "</style>\n",
       "<table border=\"1\" class=\"dataframe\">\n",
       "  <thead>\n",
       "    <tr style=\"text-align: right;\">\n",
       "      <th></th>\n",
       "      <th>last_activity</th>\n",
       "      <th>survival</th>\n",
       "    </tr>\n",
       "  </thead>\n",
       "  <tbody>\n",
       "    <tr>\n",
       "      <th>4929539.0</th>\n",
       "      <td>2014-03-02 14:39:33</td>\n",
       "      <td>0</td>\n",
       "    </tr>\n",
       "    <tr>\n",
       "      <th>9748109.0</th>\n",
       "      <td>2018-10-22 15:57:14</td>\n",
       "      <td>1</td>\n",
       "    </tr>\n",
       "    <tr>\n",
       "      <th>21331677.0</th>\n",
       "      <td>2018-10-10 11:34:09</td>\n",
       "      <td>1</td>\n",
       "    </tr>\n",
       "    <tr>\n",
       "      <th>1582083.0</th>\n",
       "      <td>2018-06-12 18:49:49</td>\n",
       "      <td>1</td>\n",
       "    </tr>\n",
       "    <tr>\n",
       "      <th>169406.0</th>\n",
       "      <td>2017-09-28 22:34:04</td>\n",
       "      <td>0</td>\n",
       "    </tr>\n",
       "  </tbody>\n",
       "</table>\n",
       "</div>"
      ],
      "text/plain": [
       "                 last_activity survival\n",
       "4929539.0  2014-03-02 14:39:33        0\n",
       "9748109.0  2018-10-22 15:57:14        1\n",
       "21331677.0 2018-10-10 11:34:09        1\n",
       "1582083.0  2018-06-12 18:49:49        1\n",
       "169406.0   2017-09-28 22:34:04        0"
      ]
     },
     "execution_count": 19,
     "metadata": {},
     "output_type": "execute_result"
    }
   ],
   "source": [
    "users_survival2.head()"
   ]
  },
  {
   "cell_type": "code",
   "execution_count": 20,
   "metadata": {},
   "outputs": [],
   "source": [
    "users_survival2.to_csv(\"/Users/vorsi/Dropbox/behance-data/NEW_ANALYSIS/data/behance/survival_behance.csv\")"
   ]
  },
  {
   "cell_type": "code",
   "execution_count": 69,
   "metadata": {
    "collapsed": true
   },
   "outputs": [],
   "source": [
    "data2=data.set_index('user_id').join(users_survival2)"
   ]
  },
  {
   "cell_type": "code",
   "execution_count": 93,
   "metadata": {
    "collapsed": true
   },
   "outputs": [],
   "source": [
    "data2['survival2']=data2['survival'].replace(np.nan, 3)"
   ]
  },
  {
   "cell_type": "code",
   "execution_count": 96,
   "metadata": {},
   "outputs": [
    {
     "data": {
      "text/plain": [
       "0    6152\n",
       "1    4705\n",
       "3    1143\n",
       "Name: survival2, dtype: int64"
      ]
     },
     "execution_count": 96,
     "metadata": {},
     "output_type": "execute_result"
    }
   ],
   "source": [
    "data2['survival2'].value_counts()"
   ]
  },
  {
   "cell_type": "code",
   "execution_count": 210,
   "metadata": {
    "collapsed": true
   },
   "outputs": [],
   "source": [
    "def survival_clean(row):\n",
    "    if row['survival']==0:\n",
    "        return 1\n",
    "    elif row['survival']==1:\n",
    "        return 1\n",
    "    else:\n",
    "        return 0"
   ]
  },
  {
   "cell_type": "code",
   "execution_count": 211,
   "metadata": {
    "collapsed": true
   },
   "outputs": [],
   "source": [
    "data2['survivial_clean']=data2.apply(survival_clean, 1)"
   ]
  },
  {
   "cell_type": "code",
   "execution_count": 97,
   "metadata": {
    "collapsed": true
   },
   "outputs": [],
   "source": [
    "data2.to_csv('sample1_with_femaleness_PCA_survival.csv')"
   ]
  },
  {
   "cell_type": "code",
   "execution_count": 75,
   "metadata": {
    "collapsed": true
   },
   "outputs": [],
   "source": [
    "#missing_data=list(set(data2.index)-set(data2[pd.notna(data2['survival'])].index))"
   ]
  },
  {
   "cell_type": "markdown",
   "metadata": {},
   "source": [
    "# add contributors"
   ]
  },
  {
   "cell_type": "code",
   "execution_count": 153,
   "metadata": {},
   "outputs": [],
   "source": [
    "from ast import literal_eval\n",
    "def has_contributors(row):\n",
    "    if len(literal_eval(row['owners']))>1:\n",
    "        return 1\n",
    "    else:\n",
    "        return 0"
   ]
  },
  {
   "cell_type": "code",
   "execution_count": 184,
   "metadata": {
    "scrolled": true
   },
   "outputs": [],
   "source": [
    "from collections import defaultdict\n",
    "\n",
    "#user_contr=defaultdict(list)\n",
    "for f in files[1:]:\n",
    "    t=pd.read_csv(path+f)\n",
    "    t['created2'] = pd.to_datetime(t['created'],unit='s')\n",
    "    t['before2016nov']=t['created2']<=datetime.datetime(2016,11,1)\n",
    "    t2016['rel']=t2016.apply(has_contributors,1)\n",
    "    t2016_cont=t2016[t2016['rel']==1]\n",
    "    contributors_dict=t2016_cont[['owners','user_id']].set_index('user_id').to_dict()['owners']\n",
    "    for user_id, contributors in contributors_dict.items():\n",
    "        for c in literal_eval(contributors):\n",
    "            if c!= user_id and c not in user_contr[user_id]:\n",
    "                user_contr[user_id].append(c)"
   ]
  },
  {
   "cell_type": "markdown",
   "metadata": {},
   "source": [
    "# import all known gender"
   ]
  },
  {
   "cell_type": "code",
   "execution_count": 186,
   "metadata": {
    "collapsed": true
   },
   "outputs": [],
   "source": [
    "full_data=pd.read_csv(\"users-100-restored.csv\")"
   ]
  },
  {
   "cell_type": "code",
   "execution_count": 221,
   "metadata": {},
   "outputs": [
    {
     "data": {
      "text/plain": [
       "0.052"
      ]
     },
     "execution_count": 221,
     "metadata": {},
     "output_type": "execute_result"
    }
   ],
   "source": [
    "len(user_contr)/len(data)"
   ]
  },
  {
   "cell_type": "code",
   "execution_count": 188,
   "metadata": {},
   "outputs": [],
   "source": [
    "genders=full_data[['user_id', 'gender']].set_index('user_id').to_dict()['gender']"
   ]
  },
  {
   "cell_type": "code",
   "execution_count": 191,
   "metadata": {},
   "outputs": [
    {
     "data": {
      "text/plain": [
       "37777"
      ]
     },
     "execution_count": 191,
     "metadata": {},
     "output_type": "execute_result"
    }
   ],
   "source": [
    "len(genders)"
   ]
  },
  {
   "cell_type": "code",
   "execution_count": 200,
   "metadata": {},
   "outputs": [],
   "source": [
    "missing_profiles=[]\n",
    "cont_gender=defaultdict(list)\n",
    "num_cont=defaultdict(int)\n",
    "for user_id, contributors in user_contr.items():\n",
    "    num_cont[user_id]=len(contributors)\n",
    "    for c in contributors:\n",
    "        if c in genders.keys():\n",
    "            gen_of_cont=genders[c]\n",
    "        else:\n",
    "            gen_of_cont='unknown'\n",
    "            missing_profiles.append(c)\n",
    "        cont_gender[user_id].append(gen_of_cont)"
   ]
  },
  {
   "cell_type": "code",
   "execution_count": 214,
   "metadata": {},
   "outputs": [],
   "source": [
    "contr=pd.DataFrame.from_dict(num_cont, 'index').rename(columns={0:'number_of_contributors'})"
   ]
  },
  {
   "cell_type": "code",
   "execution_count": 217,
   "metadata": {},
   "outputs": [],
   "source": [
    "data3=data2.join(contr)\n",
    "data3['number_of_contributors']=data3['number_of_contributors'].replace(np.nan,0)"
   ]
  },
  {
   "cell_type": "code",
   "execution_count": 219,
   "metadata": {},
   "outputs": [],
   "source": [
    "data3.to_csv('sample1_with_femaleness_PCA_survival_contributors.csv')"
   ]
  }
 ],
 "metadata": {
  "kernelspec": {
   "display_name": "Python 3",
   "language": "python",
   "name": "python3"
  },
  "language_info": {
   "codemirror_mode": {
    "name": "ipython",
    "version": 3
   },
   "file_extension": ".py",
   "mimetype": "text/x-python",
   "name": "python",
   "nbconvert_exporter": "python",
   "pygments_lexer": "ipython3",
   "version": "3.8.8"
  }
 },
 "nbformat": 4,
 "nbformat_minor": 2
}
