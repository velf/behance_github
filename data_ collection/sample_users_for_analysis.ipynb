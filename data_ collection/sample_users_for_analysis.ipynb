{
 "cells": [
  {
   "cell_type": "code",
   "execution_count": 23,
   "metadata": {},
   "outputs": [],
   "source": [
    "import pandas as pd"
   ]
  },
  {
   "cell_type": "code",
   "execution_count": 24,
   "metadata": {},
   "outputs": [
    {
     "name": "stderr",
     "output_type": "stream",
     "text": [
      "UsageError: Line magic function `%` not found.\n"
     ]
    }
   ],
   "source": [
    "% matplotlib inline"
   ]
  },
  {
   "cell_type": "code",
   "execution_count": 25,
   "metadata": {},
   "outputs": [],
   "source": [
    "users=pd.read_csv(\"users-100-restored.csv\")"
   ]
  },
  {
   "cell_type": "code",
   "execution_count": 26,
   "metadata": {},
   "outputs": [],
   "source": [
    "links=pd.read_csv('links-100-restored.csv')"
   ]
  },
  {
   "cell_type": "code",
   "execution_count": 27,
   "metadata": {},
   "outputs": [],
   "source": [
    "users['created2'] = pd.to_datetime(users['created_on'],unit='s')"
   ]
  },
  {
   "cell_type": "code",
   "execution_count": 28,
   "metadata": {},
   "outputs": [],
   "source": [
    "users['tenure'] = users['created2'].dt.year"
   ]
  },
  {
   "cell_type": "code",
   "execution_count": 29,
   "metadata": {
    "scrolled": true
   },
   "outputs": [
    {
     "data": {
      "text/plain": [
       "(31572, 37777)"
      ]
     },
     "execution_count": 29,
     "metadata": {},
     "output_type": "execute_result"
    }
   ],
   "source": [
    "len(users[users['project_counts']>1]),len(users)"
   ]
  },
  {
   "cell_type": "code",
   "execution_count": 30,
   "metadata": {},
   "outputs": [
    {
     "data": {
      "text/html": [
       "<div>\n",
       "<style scoped>\n",
       "    .dataframe tbody tr th:only-of-type {\n",
       "        vertical-align: middle;\n",
       "    }\n",
       "\n",
       "    .dataframe tbody tr th {\n",
       "        vertical-align: top;\n",
       "    }\n",
       "\n",
       "    .dataframe thead th {\n",
       "        text-align: right;\n",
       "    }\n",
       "</style>\n",
       "<table border=\"1\" class=\"dataframe\">\n",
       "  <thead>\n",
       "    <tr style=\"text-align: right;\">\n",
       "      <th></th>\n",
       "      <th>user_id</th>\n",
       "      <th>design_id</th>\n",
       "      <th>type</th>\n",
       "    </tr>\n",
       "  </thead>\n",
       "  <tbody>\n",
       "    <tr>\n",
       "      <th>0</th>\n",
       "      <td>13780629</td>\n",
       "      <td>40706181</td>\n",
       "      <td>create</td>\n",
       "    </tr>\n",
       "    <tr>\n",
       "      <th>1</th>\n",
       "      <td>13780629</td>\n",
       "      <td>40706139</td>\n",
       "      <td>create</td>\n",
       "    </tr>\n",
       "    <tr>\n",
       "      <th>2</th>\n",
       "      <td>13780629</td>\n",
       "      <td>40637719</td>\n",
       "      <td>create</td>\n",
       "    </tr>\n",
       "    <tr>\n",
       "      <th>3</th>\n",
       "      <td>13780629</td>\n",
       "      <td>40636271</td>\n",
       "      <td>create</td>\n",
       "    </tr>\n",
       "    <tr>\n",
       "      <th>4</th>\n",
       "      <td>368615</td>\n",
       "      <td>40305107</td>\n",
       "      <td>appreciate</td>\n",
       "    </tr>\n",
       "  </tbody>\n",
       "</table>\n",
       "</div>"
      ],
      "text/plain": [
       "    user_id  design_id        type\n",
       "0  13780629   40706181      create\n",
       "1  13780629   40706139      create\n",
       "2  13780629   40637719      create\n",
       "3  13780629   40636271      create\n",
       "4    368615   40305107  appreciate"
      ]
     },
     "execution_count": 30,
     "metadata": {},
     "output_type": "execute_result"
    }
   ],
   "source": [
    "links.head()"
   ]
  },
  {
   "cell_type": "code",
   "execution_count": 31,
   "metadata": {},
   "outputs": [
    {
     "data": {
      "text/html": [
       "<div>\n",
       "<style scoped>\n",
       "    .dataframe tbody tr th:only-of-type {\n",
       "        vertical-align: middle;\n",
       "    }\n",
       "\n",
       "    .dataframe tbody tr th {\n",
       "        vertical-align: top;\n",
       "    }\n",
       "\n",
       "    .dataframe thead th {\n",
       "        text-align: right;\n",
       "    }\n",
       "</style>\n",
       "<table border=\"1\" class=\"dataframe\">\n",
       "  <thead>\n",
       "    <tr style=\"text-align: right;\">\n",
       "      <th></th>\n",
       "      <th>user_id</th>\n",
       "      <th>fields</th>\n",
       "      <th>followers</th>\n",
       "      <th>following</th>\n",
       "      <th>username</th>\n",
       "      <th>gender</th>\n",
       "      <th>country</th>\n",
       "      <th>comments</th>\n",
       "      <th>project_counts</th>\n",
       "      <th>project_views</th>\n",
       "      <th>project_appreciations</th>\n",
       "      <th>project_comments</th>\n",
       "      <th>created_on</th>\n",
       "      <th>created2</th>\n",
       "      <th>tenure</th>\n",
       "    </tr>\n",
       "  </thead>\n",
       "  <tbody>\n",
       "    <tr>\n",
       "      <th>0</th>\n",
       "      <td>655363</td>\n",
       "      <td>Graphic Design|Typography|Illustration</td>\n",
       "      <td>829</td>\n",
       "      <td>735</td>\n",
       "      <td>marleenannema</td>\n",
       "      <td>female</td>\n",
       "      <td>Netherlands</td>\n",
       "      <td>41</td>\n",
       "      <td>26</td>\n",
       "      <td>22886</td>\n",
       "      <td>2203</td>\n",
       "      <td>93</td>\n",
       "      <td>1316771916</td>\n",
       "      <td>2011-09-23 09:58:36</td>\n",
       "      <td>2011</td>\n",
       "    </tr>\n",
       "    <tr>\n",
       "      <th>1</th>\n",
       "      <td>37617671</td>\n",
       "      <td>Interior Design|Architecture|Furniture Design</td>\n",
       "      <td>824</td>\n",
       "      <td>19</td>\n",
       "      <td>design-17</td>\n",
       "      <td>female</td>\n",
       "      <td>Ukraine</td>\n",
       "      <td>66</td>\n",
       "      <td>9</td>\n",
       "      <td>58265</td>\n",
       "      <td>15111</td>\n",
       "      <td>79</td>\n",
       "      <td>1466358073</td>\n",
       "      <td>2016-06-19 17:41:13</td>\n",
       "      <td>2016</td>\n",
       "    </tr>\n",
       "    <tr>\n",
       "      <th>2</th>\n",
       "      <td>1048585</td>\n",
       "      <td>Illustration|Digital Art|Photography</td>\n",
       "      <td>251</td>\n",
       "      <td>5399</td>\n",
       "      <td>Reks_kok</td>\n",
       "      <td>male</td>\n",
       "      <td>New Zealand</td>\n",
       "      <td>5</td>\n",
       "      <td>17</td>\n",
       "      <td>3674</td>\n",
       "      <td>282</td>\n",
       "      <td>20</td>\n",
       "      <td>1333334842</td>\n",
       "      <td>2012-04-02 02:47:22</td>\n",
       "      <td>2012</td>\n",
       "    </tr>\n",
       "    <tr>\n",
       "      <th>3</th>\n",
       "      <td>7733261</td>\n",
       "      <td>Graphic Design|Illustration|Drawing</td>\n",
       "      <td>21</td>\n",
       "      <td>23</td>\n",
       "      <td>awacolours</td>\n",
       "      <td>female</td>\n",
       "      <td>Venezuela</td>\n",
       "      <td>2</td>\n",
       "      <td>18</td>\n",
       "      <td>729</td>\n",
       "      <td>79</td>\n",
       "      <td>4</td>\n",
       "      <td>1409436883</td>\n",
       "      <td>2014-08-30 22:14:43</td>\n",
       "      <td>2014</td>\n",
       "    </tr>\n",
       "    <tr>\n",
       "      <th>4</th>\n",
       "      <td>1441807</td>\n",
       "      <td>Photography|Retouching|Digital Art</td>\n",
       "      <td>89</td>\n",
       "      <td>1118</td>\n",
       "      <td>AshPhotoArt</td>\n",
       "      <td>male</td>\n",
       "      <td>India</td>\n",
       "      <td>5</td>\n",
       "      <td>9</td>\n",
       "      <td>1486</td>\n",
       "      <td>83</td>\n",
       "      <td>17</td>\n",
       "      <td>1344345169</td>\n",
       "      <td>2012-08-07 13:12:49</td>\n",
       "      <td>2012</td>\n",
       "    </tr>\n",
       "  </tbody>\n",
       "</table>\n",
       "</div>"
      ],
      "text/plain": [
       "    user_id                                         fields  followers  \\\n",
       "0    655363         Graphic Design|Typography|Illustration        829   \n",
       "1  37617671  Interior Design|Architecture|Furniture Design        824   \n",
       "2   1048585           Illustration|Digital Art|Photography        251   \n",
       "3   7733261            Graphic Design|Illustration|Drawing         21   \n",
       "4   1441807             Photography|Retouching|Digital Art         89   \n",
       "\n",
       "   following       username  gender      country  comments  project_counts  \\\n",
       "0        735  marleenannema  female  Netherlands        41              26   \n",
       "1         19      design-17  female      Ukraine        66               9   \n",
       "2       5399       Reks_kok    male  New Zealand         5              17   \n",
       "3         23     awacolours  female    Venezuela         2              18   \n",
       "4       1118    AshPhotoArt    male        India         5               9   \n",
       "\n",
       "   project_views  project_appreciations  project_comments  created_on  \\\n",
       "0          22886                   2203                93  1316771916   \n",
       "1          58265                  15111                79  1466358073   \n",
       "2           3674                    282                20  1333334842   \n",
       "3            729                     79                 4  1409436883   \n",
       "4           1486                     83                17  1344345169   \n",
       "\n",
       "             created2  tenure  \n",
       "0 2011-09-23 09:58:36    2011  \n",
       "1 2016-06-19 17:41:13    2016  \n",
       "2 2012-04-02 02:47:22    2012  \n",
       "3 2014-08-30 22:14:43    2014  \n",
       "4 2012-08-07 13:12:49    2012  "
      ]
     },
     "execution_count": 31,
     "metadata": {},
     "output_type": "execute_result"
    }
   ],
   "source": [
    "users.head()"
   ]
  },
  {
   "cell_type": "code",
   "execution_count": 32,
   "metadata": {},
   "outputs": [],
   "source": [
    "appreciated=links[links['type']=='appreciate']"
   ]
  },
  {
   "cell_type": "code",
   "execution_count": 33,
   "metadata": {},
   "outputs": [],
   "source": [
    "num_apr=appreciated.groupby('user_id')[['design_id']].count().rename(columns={'design_id':'appreciate'})"
   ]
  },
  {
   "cell_type": "code",
   "execution_count": 34,
   "metadata": {},
   "outputs": [],
   "source": [
    "users=users.set_index('user_id').join(num_apr)"
   ]
  },
  {
   "cell_type": "code",
   "execution_count": 35,
   "metadata": {},
   "outputs": [
    {
     "data": {
      "text/plain": [
       "37777"
      ]
     },
     "execution_count": 35,
     "metadata": {},
     "output_type": "execute_result"
    }
   ],
   "source": [
    "len(users)"
   ]
  },
  {
   "cell_type": "markdown",
   "metadata": {},
   "source": [
    "# FILTER USERS WITH AT LEAST 10 ACTIVITY"
   ]
  },
  {
   "cell_type": "code",
   "execution_count": 36,
   "metadata": {},
   "outputs": [],
   "source": [
    "users['total_activity']=users['project_counts']+users['appreciate']"
   ]
  },
  {
   "cell_type": "code",
   "execution_count": 37,
   "metadata": {},
   "outputs": [],
   "source": [
    "min10=users[users['total_activity']>10]"
   ]
  },
  {
   "cell_type": "code",
   "execution_count": 38,
   "metadata": {},
   "outputs": [
    {
     "data": {
      "text/plain": [
       "male      21617\n",
       "female     8569\n",
       "Name: gender, dtype: int64"
      ]
     },
     "execution_count": 38,
     "metadata": {},
     "output_type": "execute_result"
    }
   ],
   "source": [
    "min10['gender'].value_counts()"
   ]
  },
  {
   "cell_type": "code",
   "execution_count": 74,
   "metadata": {
    "collapsed": true
   },
   "outputs": [],
   "source": [
    "import numpy as np"
   ]
  },
  {
   "cell_type": "code",
   "execution_count": 85,
   "metadata": {
    "collapsed": true
   },
   "outputs": [],
   "source": [
    "min10_max500following=min10.sort_values(by='following', ascending=False)[299:]"
   ]
  },
  {
   "cell_type": "code",
   "execution_count": 86,
   "metadata": {},
   "outputs": [
    {
     "data": {
      "text/plain": [
       "<matplotlib.axes._subplots.AxesSubplot at 0x1206efc50>"
      ]
     },
     "execution_count": 86,
     "metadata": {},
     "output_type": "execute_result"
    },
    {
     "data": {
      "image/png": "[encoded data removed]",
      "text/plain": [
       "<Figure size 432x288 with 1 Axes>"
      ]
     },
     "metadata": {},
     "output_type": "display_data"
    }
   ],
   "source": [
    "np.log10(min10_max500following['following']+1).hist(log=True)"
   ]
  },
  {
   "cell_type": "markdown",
   "metadata": {},
   "source": [
    "# Sampling"
   ]
  },
  {
   "cell_type": "code",
   "execution_count": 93,
   "metadata": {
    "collapsed": true
   },
   "outputs": [],
   "source": [
    "fields=pd.read_csv('fields_with_PCAs_top1000.csv').set_index('Unnamed: 0')"
   ]
  },
  {
   "cell_type": "code",
   "execution_count": 94,
   "metadata": {},
   "outputs": [
    {
     "data": {
      "text/html": [
       "<div>\n",
       "<style scoped>\n",
       "    .dataframe tbody tr th:only-of-type {\n",
       "        vertical-align: middle;\n",
       "    }\n",
       "\n",
       "    .dataframe tbody tr th {\n",
       "        vertical-align: top;\n",
       "    }\n",
       "\n",
       "    .dataframe thead th {\n",
       "        text-align: right;\n",
       "    }\n",
       "</style>\n",
       "<table border=\"1\" class=\"dataframe\">\n",
       "  <thead>\n",
       "    <tr style=\"text-align: right;\">\n",
       "      <th></th>\n",
       "      <th>graphic_design</th>\n",
       "      <th>illustration</th>\n",
       "      <th>branding</th>\n",
       "      <th>art_direction</th>\n",
       "      <th>digital_art</th>\n",
       "      <th>photography</th>\n",
       "      <th>advertising</th>\n",
       "      <th>drawing</th>\n",
       "      <th>typography</th>\n",
       "      <th>print_design</th>\n",
       "      <th>...</th>\n",
       "      <th>automotive_design</th>\n",
       "      <th>Photography</th>\n",
       "      <th>Graphic_Design</th>\n",
       "      <th>Branding</th>\n",
       "      <th>Art_Direction</th>\n",
       "      <th>Digital_Art</th>\n",
       "      <th>Fashion_Photography</th>\n",
       "      <th>Fine_Arts</th>\n",
       "      <th>Web_design_UX</th>\n",
       "      <th>Advertising</th>\n",
       "    </tr>\n",
       "    <tr>\n",
       "      <th>Unnamed: 0</th>\n",
       "      <th></th>\n",
       "      <th></th>\n",
       "      <th></th>\n",
       "      <th></th>\n",
       "      <th></th>\n",
       "      <th></th>\n",
       "      <th></th>\n",
       "      <th></th>\n",
       "      <th></th>\n",
       "      <th></th>\n",
       "      <th></th>\n",
       "      <th></th>\n",
       "      <th></th>\n",
       "      <th></th>\n",
       "      <th></th>\n",
       "      <th></th>\n",
       "      <th></th>\n",
       "      <th></th>\n",
       "      <th></th>\n",
       "      <th></th>\n",
       "      <th></th>\n",
       "    </tr>\n",
       "  </thead>\n",
       "  <tbody>\n",
       "    <tr>\n",
       "      <th>50001</th>\n",
       "      <td>23.0</td>\n",
       "      <td>0.0</td>\n",
       "      <td>9.0</td>\n",
       "      <td>0.0</td>\n",
       "      <td>0.0</td>\n",
       "      <td>0.0</td>\n",
       "      <td>0.0</td>\n",
       "      <td>0.0</td>\n",
       "      <td>0.0</td>\n",
       "      <td>18.0</td>\n",
       "      <td>...</td>\n",
       "      <td>0.0</td>\n",
       "      <td>-2.843443</td>\n",
       "      <td>10.574208</td>\n",
       "      <td>17.666705</td>\n",
       "      <td>-11.341136</td>\n",
       "      <td>-1.534516</td>\n",
       "      <td>1.025927</td>\n",
       "      <td>5.856523</td>\n",
       "      <td>3.278943</td>\n",
       "      <td>-2.338689</td>\n",
       "    </tr>\n",
       "    <tr>\n",
       "      <th>50004</th>\n",
       "      <td>5.0</td>\n",
       "      <td>0.0</td>\n",
       "      <td>2.0</td>\n",
       "      <td>1.0</td>\n",
       "      <td>0.0</td>\n",
       "      <td>3.0</td>\n",
       "      <td>0.0</td>\n",
       "      <td>0.0</td>\n",
       "      <td>2.0</td>\n",
       "      <td>2.0</td>\n",
       "      <td>...</td>\n",
       "      <td>0.0</td>\n",
       "      <td>-1.960955</td>\n",
       "      <td>-4.553452</td>\n",
       "      <td>3.648332</td>\n",
       "      <td>-2.369650</td>\n",
       "      <td>-1.609945</td>\n",
       "      <td>1.679688</td>\n",
       "      <td>2.083386</td>\n",
       "      <td>4.467978</td>\n",
       "      <td>-0.325217</td>\n",
       "    </tr>\n",
       "    <tr>\n",
       "      <th>50000</th>\n",
       "      <td>0.0</td>\n",
       "      <td>0.0</td>\n",
       "      <td>0.0</td>\n",
       "      <td>0.0</td>\n",
       "      <td>0.0</td>\n",
       "      <td>1.0</td>\n",
       "      <td>0.0</td>\n",
       "      <td>0.0</td>\n",
       "      <td>0.0</td>\n",
       "      <td>0.0</td>\n",
       "      <td>...</td>\n",
       "      <td>0.0</td>\n",
       "      <td>-4.404304</td>\n",
       "      <td>-8.031808</td>\n",
       "      <td>-0.788132</td>\n",
       "      <td>-1.153125</td>\n",
       "      <td>-0.731708</td>\n",
       "      <td>1.535553</td>\n",
       "      <td>1.043185</td>\n",
       "      <td>3.629778</td>\n",
       "      <td>0.167361</td>\n",
       "    </tr>\n",
       "    <tr>\n",
       "      <th>50020</th>\n",
       "      <td>7.0</td>\n",
       "      <td>0.0</td>\n",
       "      <td>0.0</td>\n",
       "      <td>0.0</td>\n",
       "      <td>0.0</td>\n",
       "      <td>23.0</td>\n",
       "      <td>0.0</td>\n",
       "      <td>0.0</td>\n",
       "      <td>0.0</td>\n",
       "      <td>0.0</td>\n",
       "      <td>...</td>\n",
       "      <td>0.0</td>\n",
       "      <td>17.071628</td>\n",
       "      <td>-10.179533</td>\n",
       "      <td>5.269223</td>\n",
       "      <td>-4.013192</td>\n",
       "      <td>-1.404825</td>\n",
       "      <td>3.354565</td>\n",
       "      <td>1.339837</td>\n",
       "      <td>-1.982801</td>\n",
       "      <td>0.125105</td>\n",
       "    </tr>\n",
       "    <tr>\n",
       "      <th>50030</th>\n",
       "      <td>14.0</td>\n",
       "      <td>36.0</td>\n",
       "      <td>5.0</td>\n",
       "      <td>110.0</td>\n",
       "      <td>81.0</td>\n",
       "      <td>5.0</td>\n",
       "      <td>52.0</td>\n",
       "      <td>1.0</td>\n",
       "      <td>2.0</td>\n",
       "      <td>1.0</td>\n",
       "      <td>...</td>\n",
       "      <td>2.0</td>\n",
       "      <td>23.588008</td>\n",
       "      <td>66.403038</td>\n",
       "      <td>23.407436</td>\n",
       "      <td>102.936013</td>\n",
       "      <td>56.514127</td>\n",
       "      <td>17.569063</td>\n",
       "      <td>-16.591992</td>\n",
       "      <td>11.466204</td>\n",
       "      <td>21.819668</td>\n",
       "    </tr>\n",
       "  </tbody>\n",
       "</table>\n",
       "<p>5 rows × 60 columns</p>\n",
       "</div>"
      ],
      "text/plain": [
       "            graphic_design  illustration  branding  art_direction  \\\n",
       "Unnamed: 0                                                          \n",
       "50001                 23.0           0.0       9.0            0.0   \n",
       "50004                  5.0           0.0       2.0            1.0   \n",
       "50000                  0.0           0.0       0.0            0.0   \n",
       "50020                  7.0           0.0       0.0            0.0   \n",
       "50030                 14.0          36.0       5.0          110.0   \n",
       "\n",
       "            digital_art  photography  advertising  drawing  typography  \\\n",
       "Unnamed: 0                                                               \n",
       "50001               0.0          0.0          0.0      0.0         0.0   \n",
       "50004               0.0          3.0          0.0      0.0         2.0   \n",
       "50000               0.0          1.0          0.0      0.0         0.0   \n",
       "50020               0.0         23.0          0.0      0.0         0.0   \n",
       "50030              81.0          5.0         52.0      1.0         2.0   \n",
       "\n",
       "            print_design     ...       automotive_design  Photography  \\\n",
       "Unnamed: 0                   ...                                        \n",
       "50001               18.0     ...                     0.0    -2.843443   \n",
       "50004                2.0     ...                     0.0    -1.960955   \n",
       "50000                0.0     ...                     0.0    -4.404304   \n",
       "50020                0.0     ...                     0.0    17.071628   \n",
       "50030                1.0     ...                     2.0    23.588008   \n",
       "\n",
       "            Graphic_Design   Branding  Art_Direction  Digital_Art  \\\n",
       "Unnamed: 0                                                          \n",
       "50001            10.574208  17.666705     -11.341136    -1.534516   \n",
       "50004            -4.553452   3.648332      -2.369650    -1.609945   \n",
       "50000            -8.031808  -0.788132      -1.153125    -0.731708   \n",
       "50020           -10.179533   5.269223      -4.013192    -1.404825   \n",
       "50030            66.403038  23.407436     102.936013    56.514127   \n",
       "\n",
       "            Fashion_Photography  Fine_Arts  Web_design_UX  Advertising  \n",
       "Unnamed: 0                                                              \n",
       "50001                  1.025927   5.856523       3.278943    -2.338689  \n",
       "50004                  1.679688   2.083386       4.467978    -0.325217  \n",
       "50000                  1.535553   1.043185       3.629778     0.167361  \n",
       "50020                  3.354565   1.339837      -1.982801     0.125105  \n",
       "50030                 17.569063 -16.591992      11.466204    21.819668  \n",
       "\n",
       "[5 rows x 60 columns]"
      ]
     },
     "execution_count": 94,
     "metadata": {},
     "output_type": "execute_result"
    }
   ],
   "source": [
    "fields.head()"
   ]
  },
  {
   "cell_type": "code",
   "execution_count": 97,
   "metadata": {
    "collapsed": true
   },
   "outputs": [],
   "source": [
    "min10_max500following_fields=min10_max500following.join(fields)"
   ]
  },
  {
   "cell_type": "code",
   "execution_count": 98,
   "metadata": {
    "scrolled": true
   },
   "outputs": [
    {
     "name": "stderr",
     "output_type": "stream",
     "text": [
      "/Users/orsi/anaconda3/lib/python3.6/site-packages/ipykernel_launcher.py:1: UserWarning: Boolean Series key will be reindexed to match DataFrame index.\n",
      "  \"\"\"Entry point for launching an IPython kernel.\n",
      "/Users/orsi/anaconda3/lib/python3.6/site-packages/ipykernel_launcher.py:2: UserWarning: Boolean Series key will be reindexed to match DataFrame index.\n",
      "  \n"
     ]
    }
   ],
   "source": [
    "males=min10_max500following_fields[users['gender']=='male']\n",
    "females=min10_max500following_fields[users['gender']=='female']"
   ]
  },
  {
   "cell_type": "code",
   "execution_count": 99,
   "metadata": {},
   "outputs": [
    {
     "data": {
      "text/plain": [
       "male      21350\n",
       "female     8537\n",
       "Name: gender, dtype: int64"
      ]
     },
     "execution_count": 99,
     "metadata": {},
     "output_type": "execute_result"
    }
   ],
   "source": [
    "min10_max500following_fields['gender'].value_counts()"
   ]
  },
  {
   "cell_type": "code",
   "execution_count": 100,
   "metadata": {
    "collapsed": true
   },
   "outputs": [],
   "source": [
    "for i in range(0,5):\n",
    "    male_sample=males.sample(n=6000, random_state=1)\n",
    "    female_sample=females.sample(n=6000, random_state=1)\n",
    "    sample=male_sample.append(female_sample)\n",
    "    sample.to_csv('behance_filtered_sample_min10_act_max5000_following_sample'+str(i)+\".csv\")\n",
    "    "
   ]
  }
 ],
 "metadata": {
  "kernelspec": {
   "display_name": "Python 3",
   "language": "python",
   "name": "python3"
  },
  "language_info": {
   "codemirror_mode": {
    "name": "ipython",
    "version": 3
   },
   "file_extension": ".py",
   "mimetype": "text/x-python",
   "name": "python",
   "nbconvert_exporter": "python",
   "pygments_lexer": "ipython3",
   "version": "3.8.8"
  }
 },
 "nbformat": 4,
 "nbformat_minor": 2
}
