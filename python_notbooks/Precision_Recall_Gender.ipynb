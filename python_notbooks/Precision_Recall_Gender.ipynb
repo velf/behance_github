{
 "cells": [
  {
   "cell_type": "code",
   "execution_count": 1,
   "metadata": {},
   "outputs": [],
   "source": [
    "import pandas as pd"
   ]
  },
  {
   "cell_type": "code",
   "execution_count": 2,
   "metadata": {},
   "outputs": [],
   "source": [
    "females_behance=pd.read_excel(\"data_check_gender_female.xlsx\")\n",
    "male_behance=pd.read_excel(\"data_check_gender.xlsx\")"
   ]
  },
  {
   "cell_type": "code",
   "execution_count": 52,
   "metadata": {},
   "outputs": [
    {
     "data": {
      "text/plain": [
       "0.1125"
      ]
     },
     "execution_count": 52,
     "metadata": {},
     "output_type": "execute_result"
    }
   ],
   "source": [
    "45/400"
   ]
  },
  {
   "cell_type": "code",
   "execution_count": 3,
   "metadata": {},
   "outputs": [],
   "source": [
    "B=females_behance.append(male_behance)"
   ]
  },
  {
   "cell_type": "code",
   "execution_count": 4,
   "metadata": {},
   "outputs": [],
   "source": [
    "G=pd.read_excel('/Users/orsi/Dropbox/behance-data/NEW_ANALYSIS/data/sampled_users_for_gender_inferring_BALAZS.xlsx')"
   ]
  },
  {
   "cell_type": "code",
   "execution_count": 5,
   "metadata": {},
   "outputs": [],
   "source": [
    "# GET USERS NAME FROM GITHUB\n",
    "import requests\n",
    "import json\n",
    "\n",
    "####\n",
    "# inputs\n",
    "####\n",
    "owner = 'velf'\n",
    "\n",
    "# from https://github.com/user/settings/tokens\n",
    "access_token = '7e93cd6ec456aa7cbbbd259f09362a448ae16b3f '\n",
    "\n",
    "#url = \"https://api.github.com\"\n",
    "\n",
    "headers = {'Authorization':\"Token \"+access_token}\n",
    "\n",
    "# get the list of repos belonging to me\n",
    "#repos = json.loads(gh_session.get(repos_url).text)\n",
    "\n",
    "    \n",
    "# make more requests using \"gh_session\" to create repos, list issues, etc."
   ]
  },
  {
   "cell_type": "code",
   "execution_count": null,
   "metadata": {},
   "outputs": [],
   "source": [
    "alistaire47"
   ]
  },
  {
   "cell_type": "code",
   "execution_count": 6,
   "metadata": {},
   "outputs": [
    {
     "ename": "NameError",
     "evalue": "name 'all_repo_names' is not defined",
     "output_type": "error",
     "traceback": [
      "\u001b[0;31m---------------------------------------------------------------------------\u001b[0m",
      "\u001b[0;31mNameError\u001b[0m                                 Traceback (most recent call last)",
      "\u001b[0;32m<ipython-input-6-0eddaad12ffa>\u001b[0m in \u001b[0;36m<module>\u001b[0;34m\u001b[0m\n\u001b[1;32m      1\u001b[0m \u001b[0mall_contributors\u001b[0m\u001b[0;34m=\u001b[0m\u001b[0;34m[\u001b[0m\u001b[0;34m]\u001b[0m \u001b[0;31m# create an empty coontainer\u001b[0m\u001b[0;34m\u001b[0m\u001b[0;34m\u001b[0m\u001b[0m\n\u001b[0;32m----> 2\u001b[0;31m \u001b[0;32mfor\u001b[0m \u001b[0mrepo_name\u001b[0m \u001b[0;32min\u001b[0m \u001b[0mall_repo_names\u001b[0m\u001b[0;34m:\u001b[0m\u001b[0;34m\u001b[0m\u001b[0;34m\u001b[0m\u001b[0m\n\u001b[0m\u001b[1;32m      3\u001b[0m     \u001b[0murl\u001b[0m \u001b[0;34m=\u001b[0m \u001b[0;34mf\"https://api.github.com/repos/{owner}/{repo_name}/contributors\"\u001b[0m\u001b[0;34m\u001b[0m\u001b[0;34m\u001b[0m\u001b[0m\n\u001b[1;32m      4\u001b[0m \u001b[0;31m# make the request and return the json\u001b[0m\u001b[0;34m\u001b[0m\u001b[0;34m\u001b[0m\u001b[0;34m\u001b[0m\u001b[0m\n\u001b[1;32m      5\u001b[0m     \u001b[0mcontributors\u001b[0m\u001b[0;34m=\u001b[0m \u001b[0mrequests\u001b[0m\u001b[0;34m.\u001b[0m\u001b[0mget\u001b[0m\u001b[0;34m(\u001b[0m\u001b[0murl\u001b[0m\u001b[0;34m,\u001b[0m\u001b[0mheaders\u001b[0m\u001b[0;34m=\u001b[0m\u001b[0mheaders\u001b[0m\u001b[0;34m)\u001b[0m\u001b[0;34m.\u001b[0m\u001b[0mjson\u001b[0m\u001b[0;34m(\u001b[0m\u001b[0;34m)\u001b[0m\u001b[0;34m\u001b[0m\u001b[0;34m\u001b[0m\u001b[0m\n",
      "\u001b[0;31mNameError\u001b[0m: name 'all_repo_names' is not defined"
     ]
    }
   ],
   "source": [
    "all_contributors=[] # create an empty coontainer\n",
    "for repo_name in all_repo_names:\n",
    "    url = f\"https://api.github.com/repos/{owner}/{repo_name}/contributors\"\n",
    "# make the request and return the json\n",
    "    contributors= requests.get(url,headers=headers).json()\n",
    "    all_contributors.append(contributors)"
   ]
  },
  {
   "cell_type": "code",
   "execution_count": 7,
   "metadata": {},
   "outputs": [],
   "source": [
    "from collections import defaultdict"
   ]
  },
  {
   "cell_type": "code",
   "execution_count": 11,
   "metadata": {},
   "outputs": [],
   "source": [
    "users=defaultdict(str)\n",
    "for github_user in list(G['userlogin']):\n",
    "    url=f\"https://api.github.com/users/{github_user}\" \n",
    "    a=requests.get(url,headers=headers).json()\n",
    "    try:\n",
    "        users[a['login']]=a['name']\n",
    "    except:\n",
    "        pass"
   ]
  },
  {
   "cell_type": "code",
   "execution_count": 12,
   "metadata": {},
   "outputs": [],
   "source": [
    "names=pd.DataFrame.from_dict(users, 'index')"
   ]
  },
  {
   "cell_type": "code",
   "execution_count": 13,
   "metadata": {},
   "outputs": [
    {
     "data": {
      "text/html": [
       "<div>\n",
       "<style scoped>\n",
       "    .dataframe tbody tr th:only-of-type {\n",
       "        vertical-align: middle;\n",
       "    }\n",
       "\n",
       "    .dataframe tbody tr th {\n",
       "        vertical-align: top;\n",
       "    }\n",
       "\n",
       "    .dataframe thead th {\n",
       "        text-align: right;\n",
       "    }\n",
       "</style>\n",
       "<table border=\"1\" class=\"dataframe\">\n",
       "  <thead>\n",
       "    <tr style=\"text-align: right;\">\n",
       "      <th></th>\n",
       "      <th>full_name</th>\n",
       "    </tr>\n",
       "  </thead>\n",
       "  <tbody>\n",
       "    <tr>\n",
       "      <th>alistaire47</th>\n",
       "      <td>Edward Visel</td>\n",
       "    </tr>\n",
       "    <tr>\n",
       "      <th>pbrooker</th>\n",
       "      <td>Paul Brooker</td>\n",
       "    </tr>\n",
       "    <tr>\n",
       "      <th>SoukainaEZZAMANE</th>\n",
       "      <td>Soukaina EZZAMANE</td>\n",
       "    </tr>\n",
       "    <tr>\n",
       "      <th>KinglyKrab</th>\n",
       "      <td>Alex</td>\n",
       "    </tr>\n",
       "    <tr>\n",
       "      <th>drokita</th>\n",
       "      <td>None</td>\n",
       "    </tr>\n",
       "    <tr>\n",
       "      <th>...</th>\n",
       "      <td>...</td>\n",
       "    </tr>\n",
       "    <tr>\n",
       "      <th>Trude</th>\n",
       "      <td>Trude M. Kristoffersen</td>\n",
       "    </tr>\n",
       "    <tr>\n",
       "      <th>NeoTeo</th>\n",
       "      <td>Teo Sartori</td>\n",
       "    </tr>\n",
       "    <tr>\n",
       "      <th>kschmidt2</th>\n",
       "      <td>Kiersten Schmidt</td>\n",
       "    </tr>\n",
       "    <tr>\n",
       "      <th>mwvd</th>\n",
       "      <td>Mackenzie Davidson</td>\n",
       "    </tr>\n",
       "    <tr>\n",
       "      <th>amenotu</th>\n",
       "      <td>Kristine Yabut</td>\n",
       "    </tr>\n",
       "  </tbody>\n",
       "</table>\n",
       "<p>551 rows × 1 columns</p>\n",
       "</div>"
      ],
      "text/plain": [
       "                               full_name\n",
       "alistaire47                 Edward Visel\n",
       "pbrooker                    Paul Brooker\n",
       "SoukainaEZZAMANE       Soukaina EZZAMANE\n",
       "KinglyKrab                          Alex\n",
       "drokita                             None\n",
       "...                                  ...\n",
       "Trude             Trude M. Kristoffersen\n",
       "NeoTeo                       Teo Sartori\n",
       "kschmidt2               Kiersten Schmidt\n",
       "mwvd                  Mackenzie Davidson\n",
       "amenotu                   Kristine Yabut\n",
       "\n",
       "[551 rows x 1 columns]"
      ]
     },
     "execution_count": 13,
     "metadata": {},
     "output_type": "execute_result"
    }
   ],
   "source": [
    "names.rename(columns={0:'full_name'})"
   ]
  },
  {
   "cell_type": "code",
   "execution_count": 14,
   "metadata": {},
   "outputs": [],
   "source": [
    "G['gender_manual']=G['gender_manual'].replace(0, 'unknown').replace(\"unknwon\", 'unknown')"
   ]
  },
  {
   "cell_type": "code",
   "execution_count": 15,
   "metadata": {},
   "outputs": [],
   "source": [
    "G=G.set_index('userlogin').join(names.rename(columns={0:'full_name'}))"
   ]
  },
  {
   "cell_type": "code",
   "execution_count": 16,
   "metadata": {},
   "outputs": [],
   "source": [
    "import gender_guesser.detector as gender"
   ]
  },
  {
   "cell_type": "code",
   "execution_count": 17,
   "metadata": {},
   "outputs": [],
   "source": [
    "d = gender.Detector()"
   ]
  },
  {
   "cell_type": "code",
   "execution_count": 18,
   "metadata": {},
   "outputs": [],
   "source": [
    "def get_gender(row):\n",
    "    try:\n",
    "        return d.get_gender(row['full_name'].split(' ')[0])\n",
    "    except:\n",
    "        return \"unknown\""
   ]
  },
  {
   "cell_type": "code",
   "execution_count": 19,
   "metadata": {},
   "outputs": [],
   "source": [
    "G['gender_guesser']=G.apply(get_gender,1)"
   ]
  },
  {
   "cell_type": "code",
   "execution_count": 20,
   "metadata": {},
   "outputs": [
    {
     "data": {
      "text/plain": [
       "unknown          249\n",
       "male             193\n",
       "female           121\n",
       "mostly_male       16\n",
       "andy              14\n",
       "mostly_female      7\n",
       "Name: gender_guesser, dtype: int64"
      ]
     },
     "execution_count": 20,
     "metadata": {},
     "output_type": "execute_result"
    }
   ],
   "source": [
    "G['gender_guesser'].value_counts()"
   ]
  },
  {
   "cell_type": "code",
   "execution_count": 21,
   "metadata": {},
   "outputs": [],
   "source": [
    "G['gender_guesser']=G['gender_guesser'].replace('mostly_male','male').replace(\"mostly_female\", 'female' ).replace(\"andy\", 'unknown' )"
   ]
  },
  {
   "cell_type": "code",
   "execution_count": 22,
   "metadata": {},
   "outputs": [
    {
     "data": {
      "text/html": [
       "<div>\n",
       "<style scoped>\n",
       "    .dataframe tbody tr th:only-of-type {\n",
       "        vertical-align: middle;\n",
       "    }\n",
       "\n",
       "    .dataframe tbody tr th {\n",
       "        vertical-align: top;\n",
       "    }\n",
       "\n",
       "    .dataframe thead th {\n",
       "        text-align: right;\n",
       "    }\n",
       "</style>\n",
       "<table border=\"1\" class=\"dataframe\">\n",
       "  <thead>\n",
       "    <tr style=\"text-align: right;\">\n",
       "      <th></th>\n",
       "      <th>user_id</th>\n",
       "      <th>display_name</th>\n",
       "      <th>username</th>\n",
       "      <th>first_name</th>\n",
       "      <th>last_name</th>\n",
       "      <th>country</th>\n",
       "      <th>gender_manual</th>\n",
       "      <th>gender</th>\n",
       "    </tr>\n",
       "  </thead>\n",
       "  <tbody>\n",
       "    <tr>\n",
       "      <th>0</th>\n",
       "      <td>1981771</td>\n",
       "      <td>NaN</td>\n",
       "      <td>NyChevannes</td>\n",
       "      <td>NaN</td>\n",
       "      <td>NaN</td>\n",
       "      <td>United Kingdom</td>\n",
       "      <td>unknown</td>\n",
       "      <td>female</td>\n",
       "    </tr>\n",
       "    <tr>\n",
       "      <th>1</th>\n",
       "      <td>8858791</td>\n",
       "      <td>NaN</td>\n",
       "      <td>Usmihnena</td>\n",
       "      <td>NaN</td>\n",
       "      <td>NaN</td>\n",
       "      <td>Ukraine</td>\n",
       "      <td>unknown</td>\n",
       "      <td>female</td>\n",
       "    </tr>\n",
       "    <tr>\n",
       "      <th>2</th>\n",
       "      <td>138799</td>\n",
       "      <td>Zuzanna Kucharska</td>\n",
       "      <td>zuza3D</td>\n",
       "      <td>Zuzanna</td>\n",
       "      <td>Kucharska</td>\n",
       "      <td>United Kingdom</td>\n",
       "      <td>female</td>\n",
       "      <td>female</td>\n",
       "    </tr>\n",
       "    <tr>\n",
       "      <th>3</th>\n",
       "      <td>219409</td>\n",
       "      <td>Julia Molares</td>\n",
       "      <td>moloka</td>\n",
       "      <td>Julia</td>\n",
       "      <td>Molares</td>\n",
       "      <td>Argentina</td>\n",
       "      <td>female</td>\n",
       "      <td>female</td>\n",
       "    </tr>\n",
       "    <tr>\n",
       "      <th>4</th>\n",
       "      <td>16259833</td>\n",
       "      <td>Kana Urbanowicz</td>\n",
       "      <td>kanapeco</td>\n",
       "      <td>Kana</td>\n",
       "      <td>Urbanowicz</td>\n",
       "      <td>Japan</td>\n",
       "      <td>female</td>\n",
       "      <td>female</td>\n",
       "    </tr>\n",
       "    <tr>\n",
       "      <th>...</th>\n",
       "      <td>...</td>\n",
       "      <td>...</td>\n",
       "      <td>...</td>\n",
       "      <td>...</td>\n",
       "      <td>...</td>\n",
       "      <td>...</td>\n",
       "      <td>...</td>\n",
       "      <td>...</td>\n",
       "    </tr>\n",
       "    <tr>\n",
       "      <th>195</th>\n",
       "      <td>2947041</td>\n",
       "      <td>Domenico Nicoletti</td>\n",
       "      <td>domeniconicoletti</td>\n",
       "      <td>Domenico</td>\n",
       "      <td>Nicoletti</td>\n",
       "      <td>Italy</td>\n",
       "      <td>male</td>\n",
       "      <td>male</td>\n",
       "    </tr>\n",
       "    <tr>\n",
       "      <th>196</th>\n",
       "      <td>9617845</td>\n",
       "      <td>youssef yasin</td>\n",
       "      <td>Youssef-y-Designs</td>\n",
       "      <td>youssef</td>\n",
       "      <td>yasin</td>\n",
       "      <td>Egypt</td>\n",
       "      <td>male</td>\n",
       "      <td>male</td>\n",
       "    </tr>\n",
       "    <tr>\n",
       "      <th>197</th>\n",
       "      <td>41348661</td>\n",
       "      <td>hosny mabrouk</td>\n",
       "      <td>hosnymabro3369</td>\n",
       "      <td>hosny</td>\n",
       "      <td>mabrouk</td>\n",
       "      <td>Egypt</td>\n",
       "      <td>male</td>\n",
       "      <td>male</td>\n",
       "    </tr>\n",
       "    <tr>\n",
       "      <th>198</th>\n",
       "      <td>130670</td>\n",
       "      <td>Ross Burwell</td>\n",
       "      <td>rossburwell</td>\n",
       "      <td>Ross</td>\n",
       "      <td>Burwell</td>\n",
       "      <td>United States</td>\n",
       "      <td>male</td>\n",
       "      <td>male</td>\n",
       "    </tr>\n",
       "    <tr>\n",
       "      <th>199</th>\n",
       "      <td>7735677</td>\n",
       "      <td>sajeev rp</td>\n",
       "      <td>sajeevrp</td>\n",
       "      <td>sajeev</td>\n",
       "      <td>rp</td>\n",
       "      <td>India</td>\n",
       "      <td>unknown</td>\n",
       "      <td>male</td>\n",
       "    </tr>\n",
       "  </tbody>\n",
       "</table>\n",
       "<p>400 rows × 8 columns</p>\n",
       "</div>"
      ],
      "text/plain": [
       "      user_id        display_name           username first_name   last_name  \\\n",
       "0     1981771                 NaN        NyChevannes        NaN         NaN   \n",
       "1     8858791                 NaN          Usmihnena        NaN         NaN   \n",
       "2      138799   Zuzanna Kucharska             zuza3D    Zuzanna   Kucharska   \n",
       "3      219409       Julia Molares             moloka      Julia     Molares   \n",
       "4    16259833     Kana Urbanowicz           kanapeco       Kana  Urbanowicz   \n",
       "..        ...                 ...                ...        ...         ...   \n",
       "195   2947041  Domenico Nicoletti  domeniconicoletti   Domenico   Nicoletti   \n",
       "196   9617845       youssef yasin  Youssef-y-Designs    youssef       yasin   \n",
       "197  41348661       hosny mabrouk     hosnymabro3369      hosny     mabrouk   \n",
       "198    130670        Ross Burwell        rossburwell       Ross     Burwell   \n",
       "199   7735677           sajeev rp           sajeevrp     sajeev          rp   \n",
       "\n",
       "            country gender_manual  gender  \n",
       "0    United Kingdom       unknown  female  \n",
       "1           Ukraine       unknown  female  \n",
       "2    United Kingdom        female  female  \n",
       "3         Argentina        female  female  \n",
       "4             Japan        female  female  \n",
       "..              ...           ...     ...  \n",
       "195           Italy          male    male  \n",
       "196           Egypt          male    male  \n",
       "197           Egypt          male    male  \n",
       "198   United States          male    male  \n",
       "199           India       unknown    male  \n",
       "\n",
       "[400 rows x 8 columns]"
      ]
     },
     "execution_count": 22,
     "metadata": {},
     "output_type": "execute_result"
    }
   ],
   "source": [
    "B"
   ]
  },
  {
   "cell_type": "code",
   "execution_count": 23,
   "metadata": {},
   "outputs": [],
   "source": [
    "def get_gender2(row):\n",
    "    try:\n",
    "        return d.get_gender(row['display_name'].split(' ')[0])\n",
    "    except:\n",
    "        return \"unknown\""
   ]
  },
  {
   "cell_type": "code",
   "execution_count": 24,
   "metadata": {},
   "outputs": [],
   "source": [
    "B['gender_guesser']=B.apply(get_gender2,1)"
   ]
  },
  {
   "cell_type": "code",
   "execution_count": 25,
   "metadata": {},
   "outputs": [],
   "source": [
    "B['gender_guesser']=B['gender_guesser'].replace('mostly_male','male').replace(\"mostly_female\", 'female' ).replace(\"andy\", 'unknown' )"
   ]
  },
  {
   "cell_type": "code",
   "execution_count": 26,
   "metadata": {},
   "outputs": [
    {
     "data": {
      "text/plain": [
       "female     137\n",
       "male       137\n",
       "unknown    126\n",
       "Name: gender_guesser, dtype: int64"
      ]
     },
     "execution_count": 26,
     "metadata": {},
     "output_type": "execute_result"
    }
   ],
   "source": [
    "B['gender_guesser'].value_counts()"
   ]
  },
  {
   "cell_type": "markdown",
   "metadata": {},
   "source": [
    "# New_genders B.xlsx"
   ]
  },
  {
   "cell_type": "code",
   "execution_count": 27,
   "metadata": {},
   "outputs": [],
   "source": [
    "import numpy as np"
   ]
  },
  {
   "cell_type": "code",
   "execution_count": 28,
   "metadata": {},
   "outputs": [],
   "source": [
    "def create_df(precision, recall, fscore, support, method_name):\n",
    "    df=pd.DataFrame()\n",
    "    df['Precision']=precision\n",
    "    df['Recall']=recall\n",
    "    df['F score']=fscore\n",
    "    df['Support']=support\n",
    "    df.index=['Female', 'Male', 'Unknown']\n",
    "    df['Method']=method_name\n",
    "    return df"
   ]
  },
  {
   "cell_type": "code",
   "execution_count": 29,
   "metadata": {},
   "outputs": [
    {
     "name": "stdout",
     "output_type": "stream",
     "text": [
      "             female,       male,       unknown\n",
      "precision: [0.91 0.86 0.  ]\n",
      "recall: [0.99453552 1.         0.        ]\n",
      "fscore: [0.95039164 0.92473118 0.        ]\n",
      "support: [183 172  45]\n"
     ]
    },
    {
     "name": "stderr",
     "output_type": "stream",
     "text": [
      "/Users/orsi/anaconda3/lib/python3.7/site-packages/sklearn/metrics/_classification.py:1221: UndefinedMetricWarning: Precision and F-score are ill-defined and being set to 0.0 in labels with no predicted samples. Use `zero_division` parameter to control this behavior.\n",
      "  _warn_prf(average, modifier, msg_start, len(result))\n"
     ]
    }
   ],
   "source": [
    "from sklearn.metrics import precision_recall_fscore_support as score\n",
    "\n",
    "predicted = B['gender'] \n",
    "y_test = B['gender_manual']\n",
    "\n",
    "precision, recall, fscore, support = score(y_test, predicted)\n",
    "df2=create_df(precision, recall, fscore, support, \"Gender API\")\n",
    "print('             female,       male,       unknown')\n",
    "print('precision: {}'.format(precision))\n",
    "print('recall: {}'.format(recall))\n",
    "print('fscore: {}'.format(fscore))\n",
    "print('support: {}'.format(support))\n"
   ]
  },
  {
   "cell_type": "code",
   "execution_count": 30,
   "metadata": {},
   "outputs": [
    {
     "name": "stdout",
     "output_type": "stream",
     "text": [
      "             female,       male,       unknown\n",
      "precision: [0.97810219 0.97810219 0.34126984]\n",
      "recall: [0.73224044 0.77906977 0.95555556]\n",
      "fscore: [0.8375     0.86731392 0.50292398]\n",
      "support: [183 172  45]\n"
     ]
    }
   ],
   "source": [
    "predicted = B['gender_guesser'] \n",
    "y_test = B['gender_manual']\n",
    "\n",
    "precision, recall, fscore, support = score(y_test, predicted)\n",
    "df2_=create_df(precision, recall, fscore, support, \"Gender Guesser,\\nPython Package\")\n",
    "print('             female,       male,       unknown')\n",
    "print('precision: {}'.format(precision))\n",
    "print('recall: {}'.format(recall))\n",
    "print('fscore: {}'.format(fscore))\n",
    "print('support: {}'.format(support))"
   ]
  },
  {
   "cell_type": "code",
   "execution_count": 31,
   "metadata": {},
   "outputs": [
    {
     "name": "stdout",
     "output_type": "stream",
     "text": [
      "             female,       male,       unknown\n",
      "precision: [0.69 0.9  0.56]\n",
      "recall: [0.93243243 0.6360424  0.66272189]\n",
      "fscore: [0.79310345 0.74534161 0.60704607]\n",
      "support: [148 283 169]\n"
     ]
    }
   ],
   "source": [
    "predicted = G['gender'] \n",
    "y_test = G['gender_manual']\n",
    "\n",
    "precision, recall, fscore, support = score(y_test, predicted)\n",
    "df3=create_df(precision, recall, fscore, support, \"Vedres-Vasarhelyi,2019\")\n",
    "print('             female,       male,       unknown')\n",
    "print('precision: {}'.format(precision))\n",
    "print('recall: {}'.format(recall))\n",
    "print('fscore: {}'.format(fscore))\n",
    "print('support: {}'.format(support))"
   ]
  },
  {
   "cell_type": "code",
   "execution_count": 32,
   "metadata": {},
   "outputs": [
    {
     "name": "stdout",
     "output_type": "stream",
     "text": [
      "             female,       male,       unknown\n",
      "precision: [0.875      0.93301435 0.57794677]\n",
      "recall: [0.75675676 0.68904594 0.89940828]\n",
      "fscore: [0.8115942  0.79268293 0.7037037 ]\n",
      "support: [148 283 169]\n"
     ]
    }
   ],
   "source": [
    "predicted = G['gender_guesser'] \n",
    "y_test = G['gender_manual']\n",
    "\n",
    "precision, recall, fscore, support = score(y_test, predicted)\n",
    "df3_=create_df(precision, recall, fscore, support, \"Gender Guesser,\\nPython Package\")\n",
    "print('             female,       male,       unknown')\n",
    "print('precision: {}'.format(precision))\n",
    "print('recall: {}'.format(recall))\n",
    "print('fscore: {}'.format(fscore))\n",
    "print('support: {}'.format(support))"
   ]
  },
  {
   "cell_type": "code",
   "execution_count": 33,
   "metadata": {},
   "outputs": [],
   "source": [
    "import matplotlib.pyplot as plt\n",
    "%matplotlib  inline"
   ]
  },
  {
   "cell_type": "code",
   "execution_count": 34,
   "metadata": {},
   "outputs": [
    {
     "data": {
      "text/html": [
       "<div>\n",
       "<style scoped>\n",
       "    .dataframe tbody tr th:only-of-type {\n",
       "        vertical-align: middle;\n",
       "    }\n",
       "\n",
       "    .dataframe tbody tr th {\n",
       "        vertical-align: top;\n",
       "    }\n",
       "\n",
       "    .dataframe thead th {\n",
       "        text-align: right;\n",
       "    }\n",
       "</style>\n",
       "<table border=\"1\" class=\"dataframe\">\n",
       "  <thead>\n",
       "    <tr style=\"text-align: right;\">\n",
       "      <th></th>\n",
       "      <th>Precision</th>\n",
       "      <th>Recall</th>\n",
       "      <th>F score</th>\n",
       "      <th>Support</th>\n",
       "      <th>Method</th>\n",
       "    </tr>\n",
       "  </thead>\n",
       "  <tbody>\n",
       "    <tr>\n",
       "      <th>Female</th>\n",
       "      <td>0.69</td>\n",
       "      <td>0.932432</td>\n",
       "      <td>0.793103</td>\n",
       "      <td>148</td>\n",
       "      <td>Vedres-Vasarhelyi,2019</td>\n",
       "    </tr>\n",
       "    <tr>\n",
       "      <th>Male</th>\n",
       "      <td>0.90</td>\n",
       "      <td>0.636042</td>\n",
       "      <td>0.745342</td>\n",
       "      <td>283</td>\n",
       "      <td>Vedres-Vasarhelyi,2019</td>\n",
       "    </tr>\n",
       "    <tr>\n",
       "      <th>Unknown</th>\n",
       "      <td>0.56</td>\n",
       "      <td>0.662722</td>\n",
       "      <td>0.607046</td>\n",
       "      <td>169</td>\n",
       "      <td>Vedres-Vasarhelyi,2019</td>\n",
       "    </tr>\n",
       "  </tbody>\n",
       "</table>\n",
       "</div>"
      ],
      "text/plain": [
       "         Precision    Recall   F score  Support                  Method\n",
       "Female        0.69  0.932432  0.793103      148  Vedres-Vasarhelyi,2019\n",
       "Male          0.90  0.636042  0.745342      283  Vedres-Vasarhelyi,2019\n",
       "Unknown       0.56  0.662722  0.607046      169  Vedres-Vasarhelyi,2019"
      ]
     },
     "execution_count": 34,
     "metadata": {},
     "output_type": "execute_result"
    }
   ],
   "source": [
    "df3.head()"
   ]
  },
  {
   "cell_type": "code",
   "execution_count": 35,
   "metadata": {},
   "outputs": [
    {
     "data": {
      "image/png": "[encoded data removed]",
      "text/plain": [
       "<Figure size 432x288 with 1 Axes>"
      ]
     },
     "metadata": {
      "needs_background": "light"
     },
     "output_type": "display_data"
    }
   ],
   "source": [
    "import seaborn as sns\n",
    "df2[[\"Precision\",\"Recall\",\"F score\"]].plot(kind=\"bar\", color=['darkblue', 'darkred', \"grey\"])\n",
    "sns.despine()\n",
    "plt.legend(ncol=1, bbox_to_anchor=(1.15, 1.05))\n",
    "plt.tight_layout()\n",
    "plt.savefig('Precision_Recall.pdf')"
   ]
  },
  {
   "cell_type": "code",
   "execution_count": 36,
   "metadata": {},
   "outputs": [],
   "source": [
    "#pal=['darkblue', 'darkred', \"grey\"]"
   ]
  },
  {
   "cell_type": "code",
   "execution_count": 37,
   "metadata": {},
   "outputs": [],
   "source": [
    "df4=df2.append(df2_)"
   ]
  },
  {
   "cell_type": "code",
   "execution_count": 38,
   "metadata": {},
   "outputs": [],
   "source": [
    "df5=df3.append(df3_)\n",
    "df5['Gender']=df5.index"
   ]
  },
  {
   "cell_type": "code",
   "execution_count": 39,
   "metadata": {},
   "outputs": [],
   "source": [
    "df4['Gender']=df4.index"
   ]
  },
  {
   "cell_type": "code",
   "execution_count": 40,
   "metadata": {},
   "outputs": [
    {
     "data": {
      "text/html": [
       "<div>\n",
       "<style scoped>\n",
       "    .dataframe tbody tr th:only-of-type {\n",
       "        vertical-align: middle;\n",
       "    }\n",
       "\n",
       "    .dataframe tbody tr th {\n",
       "        vertical-align: top;\n",
       "    }\n",
       "\n",
       "    .dataframe thead th {\n",
       "        text-align: right;\n",
       "    }\n",
       "</style>\n",
       "<table border=\"1\" class=\"dataframe\">\n",
       "  <thead>\n",
       "    <tr style=\"text-align: right;\">\n",
       "      <th></th>\n",
       "      <th>Precision</th>\n",
       "      <th>Recall</th>\n",
       "      <th>F score</th>\n",
       "      <th>Support</th>\n",
       "      <th>Method</th>\n",
       "      <th>Gender</th>\n",
       "    </tr>\n",
       "  </thead>\n",
       "  <tbody>\n",
       "    <tr>\n",
       "      <th>Female</th>\n",
       "      <td>0.910000</td>\n",
       "      <td>0.994536</td>\n",
       "      <td>0.950392</td>\n",
       "      <td>183</td>\n",
       "      <td>Gender API</td>\n",
       "      <td>Female</td>\n",
       "    </tr>\n",
       "    <tr>\n",
       "      <th>Male</th>\n",
       "      <td>0.860000</td>\n",
       "      <td>1.000000</td>\n",
       "      <td>0.924731</td>\n",
       "      <td>172</td>\n",
       "      <td>Gender API</td>\n",
       "      <td>Male</td>\n",
       "    </tr>\n",
       "    <tr>\n",
       "      <th>Unknown</th>\n",
       "      <td>0.000000</td>\n",
       "      <td>0.000000</td>\n",
       "      <td>0.000000</td>\n",
       "      <td>45</td>\n",
       "      <td>Gender API</td>\n",
       "      <td>Unknown</td>\n",
       "    </tr>\n",
       "    <tr>\n",
       "      <th>Female</th>\n",
       "      <td>0.978102</td>\n",
       "      <td>0.732240</td>\n",
       "      <td>0.837500</td>\n",
       "      <td>183</td>\n",
       "      <td>Gender Guesser,\\nPython Package</td>\n",
       "      <td>Female</td>\n",
       "    </tr>\n",
       "    <tr>\n",
       "      <th>Male</th>\n",
       "      <td>0.978102</td>\n",
       "      <td>0.779070</td>\n",
       "      <td>0.867314</td>\n",
       "      <td>172</td>\n",
       "      <td>Gender Guesser,\\nPython Package</td>\n",
       "      <td>Male</td>\n",
       "    </tr>\n",
       "    <tr>\n",
       "      <th>Unknown</th>\n",
       "      <td>0.341270</td>\n",
       "      <td>0.955556</td>\n",
       "      <td>0.502924</td>\n",
       "      <td>45</td>\n",
       "      <td>Gender Guesser,\\nPython Package</td>\n",
       "      <td>Unknown</td>\n",
       "    </tr>\n",
       "  </tbody>\n",
       "</table>\n",
       "</div>"
      ],
      "text/plain": [
       "         Precision    Recall   F score  Support  \\\n",
       "Female    0.910000  0.994536  0.950392      183   \n",
       "Male      0.860000  1.000000  0.924731      172   \n",
       "Unknown   0.000000  0.000000  0.000000       45   \n",
       "Female    0.978102  0.732240  0.837500      183   \n",
       "Male      0.978102  0.779070  0.867314      172   \n",
       "Unknown   0.341270  0.955556  0.502924       45   \n",
       "\n",
       "                                  Method   Gender  \n",
       "Female                        Gender API   Female  \n",
       "Male                          Gender API     Male  \n",
       "Unknown                       Gender API  Unknown  \n",
       "Female   Gender Guesser,\\nPython Package   Female  \n",
       "Male     Gender Guesser,\\nPython Package     Male  \n",
       "Unknown  Gender Guesser,\\nPython Package  Unknown  "
      ]
     },
     "execution_count": 40,
     "metadata": {},
     "output_type": "execute_result"
    }
   ],
   "source": [
    "df4"
   ]
  },
  {
   "cell_type": "code",
   "execution_count": 45,
   "metadata": {},
   "outputs": [],
   "source": [
    "pal=['#44AA99', 'grey']\n",
    "\n",
    "\n",
    "#pal=sns.xkcd_palette(['#44AA99', 'gray'])"
   ]
  },
  {
   "cell_type": "code",
   "execution_count": 46,
   "metadata": {},
   "outputs": [],
   "source": [
    "pal2=['indianred', 'grey']"
   ]
  },
  {
   "cell_type": "code",
   "execution_count": 48,
   "metadata": {},
   "outputs": [
    {
     "data": {
      "image/png": "[encoded data removed]",
      "text/plain": [
       "<Figure size 720x360 with 6 Axes>"
      ]
     },
     "metadata": {
      "needs_background": "light"
     },
     "output_type": "display_data"
    }
   ],
   "source": [
    "f, axes = plt.subplots(2, 3, sharey=True, sharex=True,  figsize=(10,5))\n",
    "#f.suptitle(\"Precision, recall and F score of gender inferring algorithms\", fontsize=18)\n",
    "\n",
    "sns.barplot(x=\"Gender\", y=\"Precision\", hue=\"Method\",\n",
    "                  data=df4, ax=axes[1][0], palette=pal2)\n",
    "\n",
    "sns.barplot(x=\"Gender\", y=\"Recall\", hue=\"Method\",\n",
    "                  data=df4, ax=axes[1][1], palette=pal2)\n",
    "\n",
    "sns.barplot(x=\"Gender\", y=\"F score\", hue=\"Method\",\n",
    "                  data=df4, ax=axes[1][2], palette=pal2)\n",
    "plt.ylim(0,1)\n",
    "\n",
    "#grid.axes[0][0].legend()\n",
    "axes[1][2].legend(bbox_to_anchor=(1.70, 1.01), loc=1, prop={'size': 9.4}, frameon=False)\n",
    "axes[1][1].legend(\"\", bbox_to_anchor=(2.05, 1))\n",
    "axes[1][0].legend(\"\", bbox_to_anchor=(2.05, 1))\n",
    "\n",
    "#axes[0].title.set_position([0., 1.01])\n",
    "axes[0][0].title.set_text('Precision')\n",
    "#axes[1].title.set_position([0., 1.01])\n",
    "axes[0][1].title.set_text('Recall')\n",
    "#axes[2].title.set_position([0., 1.01])\n",
    "axes[0][2].title.set_text('F-score')\n",
    "\n",
    "axes[0][0].set_xlabel('.', color=(0, 0, 0, 0))\n",
    "axes[0][2].set_xlabel('.', color=(0, 0, 0, 0))\n",
    "axes[1][0].set_xlabel('.', color=(0, 0, 0, 0))\n",
    "axes[1][2].set_xlabel('.', color=(0, 0, 0, 0))\n",
    "\n",
    "sns.barplot(x=\"Gender\", y=\"Precision\", hue=\"Method\",\n",
    "                  data=df5, ax=axes[0][0], palette=pal)\n",
    "\n",
    "sns.barplot(x=\"Gender\", y=\"Recall\", hue=\"Method\",\n",
    "                  data=df5, ax=axes[0][1], palette=pal)\n",
    "\n",
    "sns.barplot(x=\"Gender\", y=\"F score\", hue=\"Method\",\n",
    "                  data=df5, ax=axes[0][2], palette=pal)\n",
    "\n",
    "axes[0][2].legend(bbox_to_anchor=(1.89, 1.01), loc=1, prop={'size': 9.4}, frameon=False)\n",
    "axes[0][1].legend(\"\", bbox_to_anchor=(2.05, 1))\n",
    "axes[0][0].legend(\"\", bbox_to_anchor=(2.05, 1))\n",
    "\n",
    "\n",
    "axes[0][0].yaxis.set_label_coords(-.2, 0.5)\n",
    "axes[1][0].yaxis.set_label_coords(-.2, 0.5)\n",
    "axes[0][0].set_ylabel(\"GitHub\", fontsize=15)\n",
    "axes[1][0].set_ylabel('Behance', fontsize=15)\n",
    "\n",
    "axes[0][1].set_xlabel('')\n",
    "axes[1][1].set_ylabel('')\n",
    "axes[0][1].set_ylabel(\"\")\n",
    "axes[1][2].set_ylabel('')\n",
    "axes[0][2].set_ylabel(\"\")\n",
    "\n",
    "\n",
    "#f.tight_layout()\n",
    "#plt.savefig('Gender_inferring.pdf', bbox_inches='tight')\n",
    "#plt.savefig('Gender_inferring.png', bbox_inches='tight')\n",
    "\n",
    "\n",
    "#ax[0].set_ylabel('.', color=(0, 0, 0, 0))\n",
    "#f.title(\"Precision and Recall of Gender Inferring Algorithms\", loc=\"left\")\n",
    "plt.savefig('/Users/orsi/Dropbox/behance-data/NEW_ANALYSIS/Precision_Recall.pdf', bbox_inches='tight')"
   ]
  },
  {
   "cell_type": "code",
   "execution_count": null,
   "metadata": {},
   "outputs": [],
   "source": []
  },
  {
   "cell_type": "code",
   "execution_count": null,
   "metadata": {},
   "outputs": [],
   "source": [
    "f, axes = plt.subplots(1, 3, sharey=True, sharex=True,  figsize=(10,5))\n",
    "#f.suptitle(\"Precision, recall and F score of gender inferring algorithms\", fontsize=18)\n",
    "\n",
    "sns.barplot(x=\"Gender\", y=\"Precision\", hue=\"Method\",\n",
    "                  data=df4, ax=axes[0], palette=pal)\n",
    "\n",
    "sns.barplot(x=\"Gender\", y=\"Recall\", hue=\"Method\",\n",
    "                  data=df4, ax=axes[1], palette=pal)\n",
    "\n",
    "sns.barplot(x=\"Gender\", y=\"F score\", hue=\"Method\",\n",
    "                  data=df4, ax=axes[2], palette=pal)\n",
    "plt.ylim(0,1)\n",
    "\n",
    "#grid.axes[0][0].legend()\n",
    "axes[2].legend(bbox_to_anchor=(1.5, 1.01), loc=1, prop={'size': 9.4}, frameon=False)\n",
    "axes[1].legend(\"\", bbox_to_anchor=(2.05, 1))\n",
    "axes[0].legend(\"\", bbox_to_anchor=(2.05, 1))\n",
    "\n",
    "#axes[0].title.set_position([0., 1.01])\n",
    "#axes[0].title.set_text('Precision')\n",
    "#axes[1].title.set_position([0., 1.01])\n",
    "#axes[1].title.set_text('Recall')\n",
    "#axes[2].title.set_position([0., 1.01])\n",
    "#axes[2].title.set_text('F-score')\n",
    "\n",
    "axes[0].set_xlabel('.', color=(0, 0, 0, 0))\n",
    "axes[2].set_xlabel('.', color=(0, 0, 0, 0))\n",
    "#f.tight_layout()\n",
    "plt.savefig('Gender_inferring.pdf', bbox_inches='tight')\n",
    "plt.savefig('Gender_inferring.png', bbox_inches='tight')\n",
    "\n",
    "\n",
    "#ax[0].set_ylabel('.', color=(0, 0, 0, 0))\n",
    "#f.title(\"Precision and Recall of Gender Inferring Algorithms\", loc=\"left\")\n",
    "#plt.savefig(\"Precision_Recall_cop.pdf\")"
   ]
  },
  {
   "cell_type": "code",
   "execution_count": 44,
   "metadata": {},
   "outputs": [
    {
     "data": {
      "text/plain": [
       "Male       66\n",
       "Female     28\n",
       "Unknown     6\n",
       "Name: Good, dtype: int64"
      ]
     },
     "execution_count": 44,
     "metadata": {},
     "output_type": "execute_result"
    }
   ],
   "source": [
    "df[\"Good\"].value_counts()"
   ]
  },
  {
   "cell_type": "code",
   "execution_count": 90,
   "metadata": {},
   "outputs": [
    {
     "data": {
      "text/html": [
       "<div>\n",
       "<style scoped>\n",
       "    .dataframe tbody tr th:only-of-type {\n",
       "        vertical-align: middle;\n",
       "    }\n",
       "\n",
       "    .dataframe tbody tr th {\n",
       "        vertical-align: top;\n",
       "    }\n",
       "\n",
       "    .dataframe thead th {\n",
       "        text-align: right;\n",
       "    }\n",
       "</style>\n",
       "<table border=\"1\" class=\"dataframe\">\n",
       "  <thead>\n",
       "    <tr style=\"text-align: right;\">\n",
       "      <th></th>\n",
       "      <th>0</th>\n",
       "      <th>1</th>\n",
       "      <th>2</th>\n",
       "    </tr>\n",
       "  </thead>\n",
       "  <tbody>\n",
       "    <tr>\n",
       "      <th>female</th>\n",
       "      <td>0.956522</td>\n",
       "      <td>NaN</td>\n",
       "      <td>NaN</td>\n",
       "    </tr>\n",
       "    <tr>\n",
       "      <th>male</th>\n",
       "      <td>NaN</td>\n",
       "      <td>1.0</td>\n",
       "      <td>NaN</td>\n",
       "    </tr>\n",
       "    <tr>\n",
       "      <th>unknown</th>\n",
       "      <td>NaN</td>\n",
       "      <td>NaN</td>\n",
       "      <td>0.272727</td>\n",
       "    </tr>\n",
       "  </tbody>\n",
       "</table>\n",
       "</div>"
      ],
      "text/plain": [
       "                0    1         2\n",
       "female   0.956522  NaN       NaN\n",
       "male          NaN  1.0       NaN\n",
       "unknown       NaN  NaN  0.272727"
      ]
     },
     "execution_count": 90,
     "metadata": {},
     "output_type": "execute_result"
    }
   ],
   "source": [
    "pd.DataFrame.from_dict([{g:s} for (g,s) in list(zip((\"female\",\"male\",\"unknown\"), precision))]).T"
   ]
  },
  {
   "cell_type": "code",
   "execution_count": 91,
   "metadata": {},
   "outputs": [
    {
     "ename": "NameError",
     "evalue": "name 'nb2' is not defined",
     "output_type": "error",
     "traceback": [
      "\u001b[0;31m---------------------------------------------------------------------------\u001b[0m",
      "\u001b[0;31mNameError\u001b[0m                                 Traceback (most recent call last)",
      "\u001b[0;32m<ipython-input-91-03342b39478e>\u001b[0m in \u001b[0;36m<module>\u001b[0;34m\u001b[0m\n\u001b[0;32m----> 1\u001b[0;31m \u001b[0mpredicted\u001b[0m \u001b[0;34m=\u001b[0m \u001b[0mnb2\u001b[0m\u001b[0;34m[\u001b[0m\u001b[0;34m'simple_gender2'\u001b[0m\u001b[0;34m]\u001b[0m\u001b[0;34m\u001b[0m\u001b[0;34m\u001b[0m\u001b[0m\n\u001b[0m\u001b[1;32m      2\u001b[0m \u001b[0my_test\u001b[0m \u001b[0;34m=\u001b[0m \u001b[0mnb2\u001b[0m\u001b[0;34m[\u001b[0m\u001b[0;34m'cons_clean'\u001b[0m\u001b[0;34m]\u001b[0m\u001b[0;34m\u001b[0m\u001b[0;34m\u001b[0m\u001b[0m\n\u001b[1;32m      3\u001b[0m \u001b[0;34m\u001b[0m\u001b[0m\n\u001b[1;32m      4\u001b[0m \u001b[0mprecision\u001b[0m\u001b[0;34m,\u001b[0m \u001b[0mrecall\u001b[0m\u001b[0;34m,\u001b[0m \u001b[0mfscore\u001b[0m\u001b[0;34m,\u001b[0m \u001b[0msupport\u001b[0m \u001b[0;34m=\u001b[0m \u001b[0mscore\u001b[0m\u001b[0;34m(\u001b[0m\u001b[0my_test\u001b[0m\u001b[0;34m,\u001b[0m \u001b[0mpredicted\u001b[0m\u001b[0;34m)\u001b[0m\u001b[0;34m\u001b[0m\u001b[0;34m\u001b[0m\u001b[0m\n\u001b[1;32m      5\u001b[0m \u001b[0mdf2\u001b[0m\u001b[0;34m=\u001b[0m\u001b[0mcreate_df\u001b[0m\u001b[0;34m(\u001b[0m\u001b[0mprecision\u001b[0m\u001b[0;34m,\u001b[0m \u001b[0mrecall\u001b[0m\u001b[0;34m,\u001b[0m \u001b[0mfscore\u001b[0m\u001b[0;34m,\u001b[0m \u001b[0msupport\u001b[0m\u001b[0;34m,\u001b[0m \u001b[0;34m\"Ford, 2017\"\u001b[0m\u001b[0;34m)\u001b[0m\u001b[0;34m\u001b[0m\u001b[0;34m\u001b[0m\u001b[0m\n",
      "\u001b[0;31mNameError\u001b[0m: name 'nb2' is not defined"
     ]
    }
   ],
   "source": [
    "predicted = nb2['simple_gender2'] \n",
    "y_test = nb2['cons_clean']\n",
    "\n",
    "precision, recall, fscore, support = score(y_test, predicted)\n",
    "df2=create_df(precision, recall, fscore, support, \"Ford, 2017\")\n",
    "print('             female,       male,       unknown')\n",
    "print('precision: {}'.format(precision))\n",
    "print('recall: {}'.format(recall))\n",
    "print('fscore: {}'.format(fscore))\n",
    "print('support: {}'.format(support))"
   ]
  },
  {
   "cell_type": "code",
   "execution_count": 375,
   "metadata": {},
   "outputs": [
    {
     "data": {
      "text/html": [
       "<div>\n",
       "<style scoped>\n",
       "    .dataframe tbody tr th:only-of-type {\n",
       "        vertical-align: middle;\n",
       "    }\n",
       "\n",
       "    .dataframe tbody tr th {\n",
       "        vertical-align: top;\n",
       "    }\n",
       "\n",
       "    .dataframe thead th {\n",
       "        text-align: right;\n",
       "    }\n",
       "</style>\n",
       "<table border=\"1\" class=\"dataframe\">\n",
       "  <thead>\n",
       "    <tr style=\"text-align: right;\">\n",
       "      <th></th>\n",
       "      <th>Precision</th>\n",
       "      <th>Recall</th>\n",
       "      <th>F score</th>\n",
       "      <th>Support</th>\n",
       "      <th>Method</th>\n",
       "    </tr>\n",
       "  </thead>\n",
       "  <tbody>\n",
       "    <tr>\n",
       "      <th>Female</th>\n",
       "      <td>0.836478</td>\n",
       "      <td>0.852564</td>\n",
       "      <td>0.844444</td>\n",
       "      <td>156</td>\n",
       "      <td>Ford, 2017</td>\n",
       "    </tr>\n",
       "    <tr>\n",
       "      <th>Male</th>\n",
       "      <td>0.934211</td>\n",
       "      <td>0.710000</td>\n",
       "      <td>0.806818</td>\n",
       "      <td>300</td>\n",
       "      <td>Ford, 2017</td>\n",
       "    </tr>\n",
       "    <tr>\n",
       "      <th>Unknown</th>\n",
       "      <td>0.485549</td>\n",
       "      <td>0.807692</td>\n",
       "      <td>0.606498</td>\n",
       "      <td>104</td>\n",
       "      <td>Ford, 2017</td>\n",
       "    </tr>\n",
       "  </tbody>\n",
       "</table>\n",
       "</div>"
      ],
      "text/plain": [
       "         Precision    Recall   F score  Support      Method\n",
       "Female    0.836478  0.852564  0.844444      156  Ford, 2017\n",
       "Male      0.934211  0.710000  0.806818      300  Ford, 2017\n",
       "Unknown   0.485549  0.807692  0.606498      104  Ford, 2017"
      ]
     },
     "execution_count": 375,
     "metadata": {},
     "output_type": "execute_result"
    }
   ],
   "source": [
    "df2"
   ]
  },
  {
   "cell_type": "code",
   "execution_count": 376,
   "metadata": {},
   "outputs": [
    {
     "name": "stderr",
     "output_type": "stream",
     "text": [
      "/Users/orsi/anaconda3/lib/python3.6/site-packages/ipykernel_launcher.py:1: SettingWithCopyWarning: \n",
      "A value is trying to be set on a copy of a slice from a DataFrame.\n",
      "Try using .loc[row_indexer,col_indexer] = value instead\n",
      "\n",
      "See the caveats in the documentation: http://pandas.pydata.org/pandas-docs/stable/indexing.html#indexing-view-versus-copy\n",
      "  \"\"\"Entry point for launching an IPython kernel.\n",
      "/Users/orsi/anaconda3/lib/python3.6/site-packages/ipykernel_launcher.py:2: SettingWithCopyWarning: \n",
      "A value is trying to be set on a copy of a slice from a DataFrame.\n",
      "Try using .loc[row_indexer,col_indexer] = value instead\n",
      "\n",
      "See the caveats in the documentation: http://pandas.pydata.org/pandas-docs/stable/indexing.html#indexing-view-versus-copy\n",
      "  \n"
     ]
    }
   ],
   "source": [
    "nb2['gender_computer']=nb2['gender_computer'].replace(np.nan,'unknown')\n",
    "nb2['gender_computer']=nb2['gender_computer'].replace('unisex','unknown')"
   ]
  },
  {
   "cell_type": "code",
   "execution_count": 377,
   "metadata": {},
   "outputs": [
    {
     "name": "stdout",
     "output_type": "stream",
     "text": [
      "             female,       male,       unknown\n",
      "precision: [0.56175299 0.93073593 0.3974359 ]\n",
      "recall: [0.90384615 0.71666667 0.29807692]\n",
      "fscore: [0.69287469 0.80979284 0.34065934]\n",
      "support: [156 300 104]\n"
     ]
    }
   ],
   "source": [
    "predicted = nb2['gender_computer'] \n",
    "y_test = nb2['cons_clean']\n",
    "\n",
    "precision, recall, fscore, support = score(y_test, predicted)\n",
    "df3=create_df(precision, recall, fscore, support, \"Vasilescu, 2012\")\n",
    "print('             female,       male,       unknown')\n",
    "print('precision: {}'.format(precision))\n",
    "print('recall: {}'.format(recall))\n",
    "print('fscore: {}'.format(fscore))\n",
    "print('support: {}'.format(support))"
   ]
  },
  {
   "cell_type": "code",
   "execution_count": 378,
   "metadata": {
    "collapsed": true
   },
   "outputs": [],
   "source": [
    "cols=[\"precision\",\"recall\",\"fscore\"]"
   ]
  },
  {
   "cell_type": "code",
   "execution_count": 382,
   "metadata": {
    "collapsed": true
   },
   "outputs": [],
   "source": [
    "df4=df1.append(df2).append(df3)"
   ]
  },
  {
   "cell_type": "code",
   "execution_count": 383,
   "metadata": {
    "collapsed": true
   },
   "outputs": [],
   "source": [
    "df4['Gender']=df4.index"
   ]
  },
  {
   "cell_type": "code",
   "execution_count": 384,
   "metadata": {},
   "outputs": [
    {
     "data": {
      "text/html": [
       "<div>\n",
       "<style scoped>\n",
       "    .dataframe tbody tr th:only-of-type {\n",
       "        vertical-align: middle;\n",
       "    }\n",
       "\n",
       "    .dataframe tbody tr th {\n",
       "        vertical-align: top;\n",
       "    }\n",
       "\n",
       "    .dataframe thead th {\n",
       "        text-align: right;\n",
       "    }\n",
       "</style>\n",
       "<table border=\"1\" class=\"dataframe\">\n",
       "  <thead>\n",
       "    <tr style=\"text-align: right;\">\n",
       "      <th></th>\n",
       "      <th>Precision</th>\n",
       "      <th>Recall</th>\n",
       "      <th>F score</th>\n",
       "      <th>Support</th>\n",
       "      <th>Method</th>\n",
       "      <th>Gender</th>\n",
       "    </tr>\n",
       "  </thead>\n",
       "  <tbody>\n",
       "    <tr>\n",
       "      <th>Female</th>\n",
       "      <td>0.765957</td>\n",
       "      <td>0.923077</td>\n",
       "      <td>0.837209</td>\n",
       "      <td>156</td>\n",
       "      <td>Our method</td>\n",
       "      <td>Female</td>\n",
       "    </tr>\n",
       "    <tr>\n",
       "      <th>Male</th>\n",
       "      <td>0.948718</td>\n",
       "      <td>0.616667</td>\n",
       "      <td>0.747475</td>\n",
       "      <td>300</td>\n",
       "      <td>Our method</td>\n",
       "      <td>Male</td>\n",
       "    </tr>\n",
       "    <tr>\n",
       "      <th>Unknown</th>\n",
       "      <td>0.435028</td>\n",
       "      <td>0.740385</td>\n",
       "      <td>0.548043</td>\n",
       "      <td>104</td>\n",
       "      <td>Our method</td>\n",
       "      <td>Unknown</td>\n",
       "    </tr>\n",
       "    <tr>\n",
       "      <th>Female</th>\n",
       "      <td>0.836478</td>\n",
       "      <td>0.852564</td>\n",
       "      <td>0.844444</td>\n",
       "      <td>156</td>\n",
       "      <td>Ford, 2017</td>\n",
       "      <td>Female</td>\n",
       "    </tr>\n",
       "    <tr>\n",
       "      <th>Male</th>\n",
       "      <td>0.934211</td>\n",
       "      <td>0.710000</td>\n",
       "      <td>0.806818</td>\n",
       "      <td>300</td>\n",
       "      <td>Ford, 2017</td>\n",
       "      <td>Male</td>\n",
       "    </tr>\n",
       "    <tr>\n",
       "      <th>Unknown</th>\n",
       "      <td>0.485549</td>\n",
       "      <td>0.807692</td>\n",
       "      <td>0.606498</td>\n",
       "      <td>104</td>\n",
       "      <td>Ford, 2017</td>\n",
       "      <td>Unknown</td>\n",
       "    </tr>\n",
       "    <tr>\n",
       "      <th>Female</th>\n",
       "      <td>0.561753</td>\n",
       "      <td>0.903846</td>\n",
       "      <td>0.692875</td>\n",
       "      <td>156</td>\n",
       "      <td>Vasilescu, 2012</td>\n",
       "      <td>Female</td>\n",
       "    </tr>\n",
       "    <tr>\n",
       "      <th>Male</th>\n",
       "      <td>0.930736</td>\n",
       "      <td>0.716667</td>\n",
       "      <td>0.809793</td>\n",
       "      <td>300</td>\n",
       "      <td>Vasilescu, 2012</td>\n",
       "      <td>Male</td>\n",
       "    </tr>\n",
       "    <tr>\n",
       "      <th>Unknown</th>\n",
       "      <td>0.397436</td>\n",
       "      <td>0.298077</td>\n",
       "      <td>0.340659</td>\n",
       "      <td>104</td>\n",
       "      <td>Vasilescu, 2012</td>\n",
       "      <td>Unknown</td>\n",
       "    </tr>\n",
       "  </tbody>\n",
       "</table>\n",
       "</div>"
      ],
      "text/plain": [
       "         Precision    Recall   F score  Support           Method   Gender\n",
       "Female    0.765957  0.923077  0.837209      156       Our method   Female\n",
       "Male      0.948718  0.616667  0.747475      300       Our method     Male\n",
       "Unknown   0.435028  0.740385  0.548043      104       Our method  Unknown\n",
       "Female    0.836478  0.852564  0.844444      156       Ford, 2017   Female\n",
       "Male      0.934211  0.710000  0.806818      300       Ford, 2017     Male\n",
       "Unknown   0.485549  0.807692  0.606498      104       Ford, 2017  Unknown\n",
       "Female    0.561753  0.903846  0.692875      156  Vasilescu, 2012   Female\n",
       "Male      0.930736  0.716667  0.809793      300  Vasilescu, 2012     Male\n",
       "Unknown   0.397436  0.298077  0.340659      104  Vasilescu, 2012  Unknown"
      ]
     },
     "execution_count": 384,
     "metadata": {},
     "output_type": "execute_result"
    }
   ],
   "source": [
    "df4"
   ]
  },
  {
   "cell_type": "code",
   "execution_count": 385,
   "metadata": {
    "collapsed": true
   },
   "outputs": [],
   "source": [
    "import seaborn as sns"
   ]
  },
  {
   "cell_type": "code",
   "execution_count": 24,
   "metadata": {},
   "outputs": [],
   "source": [
    "pal=sns.xkcd_palette([\"orange\", \"grey\", 'silver'])"
   ]
  },
  {
   "cell_type": "code",
   "execution_count": 96,
   "metadata": {},
   "outputs": [],
   "source": [
    "sns.set_context(rc={\"lines.linewidth\": 2.5})"
   ]
  },
  {
   "cell_type": "code",
   "execution_count": 397,
   "metadata": {},
   "outputs": [
    {
     "name": "stderr",
     "output_type": "stream",
     "text": [
      "/Users/orsi/anaconda3/lib/python3.6/site-packages/seaborn/categorical.py:1508: FutureWarning: remove_na is deprecated and is a private function. Do not use.\n",
      "  stat_data = remove_na(group_data[hue_mask])\n"
     ]
    },
    {
     "data": {
      "image/png": "[encoded data removed]",
      "text/plain": [
       "<Figure size 720x360 with 3 Axes>"
      ]
     },
     "metadata": {},
     "output_type": "display_data"
    }
   ],
   "source": [
    "f, axes = plt.subplots(1, 3, sharey=True, sharex=True,  figsize=(10,5))\n",
    "#f.suptitle(\"Precision, recall and F score of gender inferring algorithms\", fontsize=18)\n",
    "\n",
    "sns.barplot(x=\"Gender\", y=\"Precision\", hue=\"Method\",\n",
    "                  data=df4, ax=axes[0], palette=pal)\n",
    "\n",
    "sns.barplot(x=\"Gender\", y=\"Recall\", hue=\"Method\",\n",
    "                  data=df4, ax=axes[1], palette=pal)\n",
    "\n",
    "sns.barplot(x=\"Gender\", y=\"F score\", hue=\"Method\",\n",
    "                  data=df4, ax=axes[2], palette=pal)\n",
    "plt.ylim(0,1)\n",
    "\n",
    "#grid.axes[0][0].legend()\n",
    "axes[2].legend(bbox_to_anchor=(1.032, 1.01), loc=1, prop={'size': 9.4}, frameon=False)\n",
    "axes[1].legend(\"\", bbox_to_anchor=(2.05, 1))\n",
    "axes[0].legend(\"\", bbox_to_anchor=(2.05, 1))\n",
    "\n",
    "axes[0].title.set_position([0., 1.01])\n",
    "axes[0].title.set_text('a')\n",
    "axes[1].title.set_position([0., 1.01])\n",
    "axes[1].title.set_text('b')\n",
    "axes[2].title.set_position([0., 1.01])\n",
    "axes[2].title.set_text('c')\n",
    "\n",
    "axes[0].set_xlabel('.', color=(0, 0, 0, 0))\n",
    "axes[2].set_xlabel('.', color=(0, 0, 0, 0))\n",
    "#f.tight_layout()\n",
    "plt.savefig('Gender_inferring.pdf', bbox_inches='tight')\n",
    "plt.savefig('Gender_inferring.png', bbox_inches='tight')\n",
    "\n",
    "#ax[0].set_ylabel('.', color=(0, 0, 0, 0))\n",
    "#f.title(\"Precision and Recall of Gender Inferring Algorithms\", loc=\"left\")\n"
   ]
  },
  {
   "cell_type": "code",
   "execution_count": 330,
   "metadata": {
    "collapsed": true
   },
   "outputs": [],
   "source": [
    "sns.set_style({'font.family': ['Arial']})"
   ]
  },
  {
   "cell_type": "code",
   "execution_count": 286,
   "metadata": {},
   "outputs": [
    {
     "data": {
      "text/plain": [
       "male       300\n",
       "female     156\n",
       "unknown    104\n",
       "0           40\n",
       "Name: cons_clean, dtype: int64"
      ]
     },
     "execution_count": 286,
     "metadata": {},
     "output_type": "execute_result"
    }
   ],
   "source": [
    "nb['cons_clean'].value_counts()"
   ]
  },
  {
   "cell_type": "code",
   "execution_count": 259,
   "metadata": {
    "collapsed": true
   },
   "outputs": [],
   "source": [
    "nb['user']=nb.index"
   ]
  },
  {
   "cell_type": "code",
   "execution_count": 261,
   "metadata": {},
   "outputs": [
    {
     "data": {
      "text/plain": [
       "605"
      ]
     },
     "execution_count": 261,
     "metadata": {},
     "output_type": "execute_result"
    }
   ],
   "source": [
    "len(nb)"
   ]
  },
  {
   "cell_type": "code",
   "execution_count": 250,
   "metadata": {},
   "outputs": [
    {
     "data": {
      "text/plain": [
       "6.666666666666667"
      ]
     },
     "execution_count": 250,
     "metadata": {},
     "output_type": "execute_result"
    }
   ],
   "source": [
    "40/600*100"
   ]
  },
  {
   "cell_type": "code",
   "execution_count": 254,
   "metadata": {},
   "outputs": [
    {
     "data": {
      "text/plain": [
       "0.12166666666666667"
      ]
     },
     "execution_count": 254,
     "metadata": {},
     "output_type": "execute_result"
    }
   ],
   "source": [
    "len(nb[nb[\"O\"]!=nb[\"B\"]])/600"
   ]
  },
  {
   "cell_type": "code",
   "execution_count": 393,
   "metadata": {},
   "outputs": [
    {
     "data": {
      "text/html": [
       "<div>\n",
       "<style scoped>\n",
       "    .dataframe tbody tr th:only-of-type {\n",
       "        vertical-align: middle;\n",
       "    }\n",
       "\n",
       "    .dataframe tbody tr th {\n",
       "        vertical-align: top;\n",
       "    }\n",
       "\n",
       "    .dataframe thead th {\n",
       "        text-align: right;\n",
       "    }\n",
       "</style>\n",
       "<table border=\"1\" class=\"dataframe\">\n",
       "  <thead>\n",
       "    <tr style=\"text-align: right;\">\n",
       "      <th></th>\n",
       "      <th>B</th>\n",
       "      <th>O</th>\n",
       "      <th>simple_gender2</th>\n",
       "      <th>gender_computer</th>\n",
       "      <th>gender</th>\n",
       "      <th>MISMATCH</th>\n",
       "      <th>consensus</th>\n",
       "      <th>cons_clean</th>\n",
       "      <th>user</th>\n",
       "    </tr>\n",
       "  </thead>\n",
       "  <tbody>\n",
       "    <tr>\n",
       "      <th>1NESLEiN</th>\n",
       "      <td>1</td>\n",
       "      <td>1</td>\n",
       "      <td>male</td>\n",
       "      <td>male</td>\n",
       "      <td>male</td>\n",
       "      <td>0</td>\n",
       "      <td>NaN</td>\n",
       "      <td>male</td>\n",
       "      <td>1NESLEiN</td>\n",
       "    </tr>\n",
       "    <tr>\n",
       "      <th>A440251</th>\n",
       "      <td>3</td>\n",
       "      <td>3</td>\n",
       "      <td>unknown</td>\n",
       "      <td>female</td>\n",
       "      <td>unknown</td>\n",
       "      <td>0</td>\n",
       "      <td>NaN</td>\n",
       "      <td>unknown</td>\n",
       "      <td>A440251</td>\n",
       "    </tr>\n",
       "    <tr>\n",
       "      <th>AdriVC</th>\n",
       "      <td>2</td>\n",
       "      <td>2</td>\n",
       "      <td>unknown</td>\n",
       "      <td>female</td>\n",
       "      <td>unknown</td>\n",
       "      <td>0</td>\n",
       "      <td>NaN</td>\n",
       "      <td>female</td>\n",
       "      <td>AdriVC</td>\n",
       "    </tr>\n",
       "    <tr>\n",
       "      <th>AlexMitan</th>\n",
       "      <td>1</td>\n",
       "      <td>1</td>\n",
       "      <td>male</td>\n",
       "      <td>male</td>\n",
       "      <td>male</td>\n",
       "      <td>0</td>\n",
       "      <td>NaN</td>\n",
       "      <td>male</td>\n",
       "      <td>AlexMitan</td>\n",
       "    </tr>\n",
       "    <tr>\n",
       "      <th>Almazzzzz</th>\n",
       "      <td>1</td>\n",
       "      <td>2</td>\n",
       "      <td>female</td>\n",
       "      <td>female</td>\n",
       "      <td>female</td>\n",
       "      <td>1</td>\n",
       "      <td>female</td>\n",
       "      <td>female</td>\n",
       "      <td>Almazzzzz</td>\n",
       "    </tr>\n",
       "  </tbody>\n",
       "</table>\n",
       "</div>"
      ],
      "text/plain": [
       "           B  O simple_gender2 gender_computer   gender  MISMATCH consensus  \\\n",
       "1NESLEiN   1  1           male            male     male         0       NaN   \n",
       "A440251    3  3        unknown          female  unknown         0       NaN   \n",
       "AdriVC     2  2        unknown          female  unknown         0       NaN   \n",
       "AlexMitan  1  1           male            male     male         0       NaN   \n",
       "Almazzzzz  1  2         female          female   female         1    female   \n",
       "\n",
       "          cons_clean       user  \n",
       "1NESLEiN        male   1NESLEiN  \n",
       "A440251      unknown    A440251  \n",
       "AdriVC        female     AdriVC  \n",
       "AlexMitan       male  AlexMitan  \n",
       "Almazzzzz     female  Almazzzzz  "
      ]
     },
     "execution_count": 393,
     "metadata": {},
     "output_type": "execute_result"
    }
   ],
   "source": [
    "nb2.head()"
   ]
  },
  {
   "cell_type": "code",
   "execution_count": 355,
   "metadata": {},
   "outputs": [
    {
     "data": {
      "text/html": [
       "<div>\n",
       "<style scoped>\n",
       "    .dataframe tbody tr th:only-of-type {\n",
       "        vertical-align: middle;\n",
       "    }\n",
       "\n",
       "    .dataframe tbody tr th {\n",
       "        vertical-align: top;\n",
       "    }\n",
       "\n",
       "    .dataframe thead th {\n",
       "        text-align: right;\n",
       "    }\n",
       "</style>\n",
       "<table border=\"1\" class=\"dataframe\">\n",
       "  <thead>\n",
       "    <tr style=\"text-align: right;\">\n",
       "      <th>cons_clean</th>\n",
       "      <th>female</th>\n",
       "      <th>male</th>\n",
       "      <th>unknown</th>\n",
       "    </tr>\n",
       "    <tr>\n",
       "      <th>gender</th>\n",
       "      <th></th>\n",
       "      <th></th>\n",
       "      <th></th>\n",
       "    </tr>\n",
       "  </thead>\n",
       "  <tbody>\n",
       "    <tr>\n",
       "      <th>female</th>\n",
       "      <td>144</td>\n",
       "      <td>26</td>\n",
       "      <td>18</td>\n",
       "    </tr>\n",
       "    <tr>\n",
       "      <th>male</th>\n",
       "      <td>1</td>\n",
       "      <td>185</td>\n",
       "      <td>9</td>\n",
       "    </tr>\n",
       "    <tr>\n",
       "      <th>unknown</th>\n",
       "      <td>11</td>\n",
       "      <td>89</td>\n",
       "      <td>77</td>\n",
       "    </tr>\n",
       "  </tbody>\n",
       "</table>\n",
       "</div>"
      ],
      "text/plain": [
       "cons_clean  female  male  unknown\n",
       "gender                           \n",
       "female         144    26       18\n",
       "male             1   185        9\n",
       "unknown         11    89       77"
      ]
     },
     "execution_count": 355,
     "metadata": {},
     "output_type": "execute_result"
    }
   ],
   "source": [
    "pd.crosstab(nb2['gender'], nb2['cons_clean'])"
   ]
  },
  {
   "cell_type": "code",
   "execution_count": 358,
   "metadata": {},
   "outputs": [
    {
     "data": {
      "text/plain": [
       "7.584269662921349"
      ]
     },
     "execution_count": 358,
     "metadata": {},
     "output_type": "execute_result"
    }
   ],
   "source": [
    "27 / (27+144 +185)*100\n"
   ]
  },
  {
   "cell_type": "code",
   "execution_count": null,
   "metadata": {
    "collapsed": true
   },
   "outputs": [],
   "source": []
  }
 ],
 "metadata": {
  "kernelspec": {
   "display_name": "Python 3",
   "language": "python",
   "name": "python3"
  },
  "language_info": {
   "codemirror_mode": {
    "name": "ipython",
    "version": 3
   },
   "file_extension": ".py",
   "mimetype": "text/x-python",
   "name": "python",
   "nbconvert_exporter": "python",
   "pygments_lexer": "ipython3",
   "version": "3.8.8"
  }
 },
 "nbformat": 4,
 "nbformat_minor": 2
}
