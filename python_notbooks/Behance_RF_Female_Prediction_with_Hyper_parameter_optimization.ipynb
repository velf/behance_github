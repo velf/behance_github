{
 "cells": [
  {
   "cell_type": "markdown",
   "metadata": {},
   "source": [
    "# Predicting gender with Random Forest"
   ]
  },
  {
   "cell_type": "code",
   "execution_count": 109,
   "metadata": {
    "collapsed": true
   },
   "outputs": [],
   "source": [
    "import numpy as np\n",
    "import pandas as pd\n",
    "\n",
    "from sklearn.preprocessing import LabelBinarizer\n",
    "from sklearn.ensemble import RandomForestClassifier, RandomForestRegressor\n",
    "from sklearn.model_selection import train_test_split, GridSearchCV, StratifiedKFold\n",
    "from sklearn.metrics import roc_curve, precision_recall_curve, auc, make_scorer, recall_score, accuracy_score, precision_score, confusion_matrix\n",
    "\n",
    "import matplotlib.pyplot as plt"
   ]
  },
  {
   "cell_type": "code",
   "execution_count": 4,
   "metadata": {
    "collapsed": true
   },
   "outputs": [],
   "source": [
    "import numpy as np"
   ]
  },
  {
   "cell_type": "code",
   "execution_count": 5,
   "metadata": {},
   "outputs": [
    {
     "data": {
      "text/plain": [
       "'/Users/orsi/Dropbox/behance-data'"
      ]
     },
     "execution_count": 5,
     "metadata": {},
     "output_type": "execute_result"
    }
   ],
   "source": [
    "pwd"
   ]
  },
  {
   "cell_type": "code",
   "execution_count": 10,
   "metadata": {},
   "outputs": [],
   "source": [
    "import pandas as pd\n",
    "data_in=\"/Users/orsi/Dropbox/behance-data/\"\n",
    "data=pd.read_csv(data_in+\"behance_filtered_sample_min10_act_max5000_following_sample0.csv\").set_index('user_id')"
   ]
  },
  {
   "cell_type": "code",
   "execution_count": 14,
   "metadata": {},
   "outputs": [],
   "source": [
    "data=data.join(pd.get_dummies(data['gender'], prefix='gender'))"
   ]
  },
  {
   "cell_type": "code",
   "execution_count": 15,
   "metadata": {},
   "outputs": [
    {
     "data": {
      "text/plain": [
       "Index(['fields', 'followers', 'following', 'username', 'gender', 'country',\n",
       "       'comments', 'project_counts', 'project_views', 'project_appreciations',\n",
       "       'project_comments', 'created_on', 'created2', 'tenure', 'appreciate',\n",
       "       'total_activity', 'graphic_design', 'illustration', 'branding',\n",
       "       'art_direction', 'digital_art', 'photography', 'advertising', 'drawing',\n",
       "       'typography', 'print_design', 'web_design', 'character_design',\n",
       "       'editorial_design', 'fashion', 'packaging', 'fine_arts',\n",
       "       'digital_photography', 'painting', 'creative_direction', 'animation',\n",
       "       'ui_ux', 'product_design', 'architecture', 'motion_graphics',\n",
       "       'cartooning', 'interaction_design', 'retouching', 'icon_design',\n",
       "       'industrial_design', 'interior_design', 'music', 'film', 'calligraphy',\n",
       "       'design', 'crafts', 'visual_effects', 'game_design',\n",
       "       'exhibition_design', 'pattern_design', 'sculpting', 'furniture_design',\n",
       "       'copywriting', 'computer_animation', 'web_development',\n",
       "       'fashion_styling', 'textile_design', 'cinematography',\n",
       "       'photojournalism', 'street_art', 'landscape_design',\n",
       "       'automotive_design', 'Photography', 'Graphic_Design', 'Branding',\n",
       "       'Art_Direction', 'Digital_Art', 'Fashion_Photography', 'Fine_Arts',\n",
       "       'Web_design_UX', 'Advertising', 'gender_female', 'gender_male'],\n",
       "      dtype='object')"
      ]
     },
     "execution_count": 15,
     "metadata": {},
     "output_type": "execute_result"
    }
   ],
   "source": [
    "data.columns"
   ]
  },
  {
   "cell_type": "code",
   "execution_count": 16,
   "metadata": {
    "collapsed": true
   },
   "outputs": [],
   "source": [
    "target='gender_female'\n",
    "cs=['total_activity', 'project_counts','comments', \"following\", 'Photography', 'Graphic_Design', 'Branding',\n",
    "       'Art_Direction', 'Digital_Art', 'Fashion_Photography', 'Fine_Arts',\n",
    "       'Web_design_UX', 'Advertising' ]"
   ]
  },
  {
   "cell_type": "code",
   "execution_count": 19,
   "metadata": {
    "collapsed": true
   },
   "outputs": [],
   "source": [
    "data_to_predict=data.replace(np.nan,0)"
   ]
  },
  {
   "cell_type": "code",
   "execution_count": 65,
   "metadata": {
    "scrolled": true
   },
   "outputs": [
    {
     "name": "stderr",
     "output_type": "stream",
     "text": [
      "/Users/orsi/anaconda3/lib/python3.6/site-packages/ipykernel_launcher.py:6: FutureWarning: Method .as_matrix will be removed in a future version. Use .values instead.\n",
      "  \n"
     ]
    }
   ],
   "source": [
    "from sklearn.preprocessing import StandardScaler\n",
    "\n",
    "y = data_to_predict[target]\n",
    "churn_feat_space = data_to_predict[cs]\n",
    "features = churn_feat_space.columns\n",
    "X = churn_feat_space.as_matrix().astype(np.float)\n",
    "scaler = StandardScaler()\n",
    "X = scaler.fit_transform(X)"
   ]
  },
  {
   "cell_type": "code",
   "execution_count": 64,
   "metadata": {},
   "outputs": [
    {
     "data": {
      "text/plain": [
       "1    6000\n",
       "0    6000\n",
       "Name: gender_female, dtype: int64"
      ]
     },
     "execution_count": 64,
     "metadata": {},
     "output_type": "execute_result"
    }
   ],
   "source": [
    "data_to_predict[target].value_counts()"
   ]
  },
  {
   "cell_type": "code",
   "execution_count": 48,
   "metadata": {
    "collapsed": true
   },
   "outputs": [],
   "source": [
    "# implementing train-test-split\n",
    "X_train, X_test, y_train, y_test = train_test_split(X, y, test_size=0.5, random_state=66)"
   ]
  },
  {
   "cell_type": "code",
   "execution_count": 22,
   "metadata": {
    "collapsed": true
   },
   "outputs": [],
   "source": [
    "from sklearn import model_selection\n",
    "# random forest model creation\n",
    "rfc = RandomForestClassifier(\n",
    "    n_estimators=1000,\n",
    "    criterion='gini',\n",
    "    max_depth=10,\n",
    "    min_samples_split=100,\n",
    "    min_samples_leaf=10,\n",
    "    min_weight_fraction_leaf=0.0,\n",
    "    max_features='auto',\n",
    "    max_leaf_nodes=None,\n",
    "    random_state=1,\n",
    "    min_impurity_decrease=0.0,\n",
    "    min_impurity_split=None,\n",
    "    bootstrap=True,\n",
    "    oob_score=False,\n",
    "    n_jobs=-1,\n",
    "    verbose=0,\n",
    "    warm_start=False,\n",
    "    class_weight='balanced'\n",
    ")\n",
    "rfc.fit(X_train,y_train)\n",
    "# predictions\n",
    "rfc_predict = rfc.predict(X_test)"
   ]
  },
  {
   "cell_type": "code",
   "execution_count": 23,
   "metadata": {},
   "outputs": [
    {
     "name": "stdout",
     "output_type": "stream",
     "text": [
      "=== Confusion Matrix ===\n",
      "[[1827 1176]\n",
      " [1018 1979]]\n",
      "\n",
      "\n",
      "=== Classification Report ===\n",
      "             precision    recall  f1-score   support\n",
      "\n",
      "          0       0.64      0.61      0.62      3003\n",
      "          1       0.63      0.66      0.64      2997\n",
      "\n",
      "avg / total       0.63      0.63      0.63      6000\n",
      "\n",
      "\n",
      "\n",
      "=== All AUC Scores ===\n",
      "[0.69389444 0.67029722 0.69674722 0.67574028 0.67220278 0.68863333\n",
      " 0.67955278 0.70315833 0.69754722 0.69921667]\n",
      "\n",
      "\n",
      "=== Mean AUC Score ===\n",
      "Mean AUC Score - Random Forest:  0.6876990277777778\n"
     ]
    }
   ],
   "source": [
    "# Evaluating Performance\n",
    "\n",
    "from sklearn.model_selection import cross_val_score\n",
    "from sklearn.metrics import classification_report, confusion_matrix\n",
    "rfc_cv_score = cross_val_score(rfc, X, y, cv=10, scoring='roc_auc', n_jobs=-1)\n",
    "print(\"=== Confusion Matrix ===\")\n",
    "print(confusion_matrix(y_test, rfc_predict))\n",
    "print('\\n')\n",
    "print(\"=== Classification Report ===\")\n",
    "print(classification_report(y_test, rfc_predict))\n",
    "print('\\n')\n",
    "print(\"=== All AUC Scores ===\")\n",
    "print(rfc_cv_score)\n",
    "print('\\n')\n",
    "print(\"=== Mean AUC Score ===\")\n",
    "print(\"Mean AUC Score - Random Forest: \", rfc_cv_score.mean())"
   ]
  },
  {
   "cell_type": "code",
   "execution_count": 24,
   "metadata": {},
   "outputs": [
    {
     "name": "stdout",
     "output_type": "stream",
     "text": [
      "Fitting 3 folds for each of 100 candidates, totalling 300 fits\n",
      "[CV] n_estimators=1000, max_features=auto, max_depth=140 .............\n",
      "[CV] n_estimators=1000, max_features=auto, max_depth=140 .............\n",
      "[CV] n_estimators=1000, max_features=auto, max_depth=140 .............\n",
      "[CV] n_estimators=1400, max_features=auto, max_depth=100 .............\n",
      "[CV]  n_estimators=1000, max_features=auto, max_depth=140, total=  12.6s\n",
      "[CV] n_estimators=1400, max_features=auto, max_depth=100 .............\n",
      "[CV]  n_estimators=1000, max_features=auto, max_depth=140, total=  12.8s\n",
      "[CV] n_estimators=1400, max_features=auto, max_depth=100 .............\n",
      "[CV]  n_estimators=1000, max_features=auto, max_depth=140, total=  13.4s\n",
      "[CV] n_estimators=800, max_features=sqrt, max_depth=260 ..............\n",
      "[CV]  n_estimators=1400, max_features=auto, max_depth=100, total=  17.8s\n",
      "[CV] n_estimators=800, max_features=sqrt, max_depth=260 ..............\n",
      "[CV]  n_estimators=800, max_features=sqrt, max_depth=260, total=   9.0s\n",
      "[CV] n_estimators=800, max_features=sqrt, max_depth=260 ..............\n",
      "[CV]  n_estimators=800, max_features=sqrt, max_depth=260, total=  13.0s\n",
      "[CV] n_estimators=2000, max_features=auto, max_depth=300 .............\n",
      "[CV]  n_estimators=1400, max_features=auto, max_depth=100, total=  18.1s\n",
      "[CV] n_estimators=2000, max_features=auto, max_depth=300 .............\n",
      "[CV]  n_estimators=1400, max_features=auto, max_depth=100, total=  19.2s\n",
      "[CV] n_estimators=2000, max_features=auto, max_depth=300 .............\n",
      "[CV]  n_estimators=800, max_features=sqrt, max_depth=260, total=  12.0s\n",
      "[CV] n_estimators=1000, max_features=auto, max_depth=300 .............\n",
      "[CV]  n_estimators=1000, max_features=auto, max_depth=300, total=  13.4s\n",
      "[CV] n_estimators=1000, max_features=auto, max_depth=300 .............\n",
      "[CV]  n_estimators=2000, max_features=auto, max_depth=300, total=  24.9s\n",
      "[CV] n_estimators=1000, max_features=auto, max_depth=300 .............\n",
      "[CV]  n_estimators=2000, max_features=auto, max_depth=300, total=  25.1s\n",
      "[CV] n_estimators=600, max_features=sqrt, max_depth=420 ..............\n",
      "[CV]  n_estimators=2000, max_features=auto, max_depth=300, total=  26.7s\n",
      "[CV] n_estimators=600, max_features=sqrt, max_depth=420 ..............\n",
      "[CV]  n_estimators=1000, max_features=auto, max_depth=300, total=  14.6s\n",
      "[CV] n_estimators=600, max_features=sqrt, max_depth=420 ..............\n",
      "[CV]  n_estimators=600, max_features=sqrt, max_depth=420, total=   7.3s\n",
      "[CV] n_estimators=800, max_features=sqrt, max_depth=None .............\n",
      "[CV]  n_estimators=600, max_features=sqrt, max_depth=420, total=   7.6s\n",
      "[CV] n_estimators=800, max_features=sqrt, max_depth=None .............\n",
      "[CV]  n_estimators=1000, max_features=auto, max_depth=300, total=  12.3s\n",
      "[CV] n_estimators=800, max_features=sqrt, max_depth=None .............\n",
      "[CV]  n_estimators=600, max_features=sqrt, max_depth=420, total=   7.8s\n",
      "[CV] n_estimators=1400, max_features=auto, max_depth=260 .............\n",
      "[CV]  n_estimators=800, max_features=sqrt, max_depth=None, total=   9.7s\n",
      "[CV] n_estimators=1400, max_features=auto, max_depth=260 .............\n",
      "[CV]  n_estimators=800, max_features=sqrt, max_depth=None, total=   9.7s\n",
      "[CV] n_estimators=1400, max_features=auto, max_depth=260 .............\n",
      "[CV]  n_estimators=800, max_features=sqrt, max_depth=None, total=   9.6s\n",
      "[CV] n_estimators=2000, max_features=auto, max_depth=100 .............\n",
      "[CV]  n_estimators=1400, max_features=auto, max_depth=260, total=  17.1s\n",
      "[CV] n_estimators=2000, max_features=auto, max_depth=100 .............\n",
      "[CV]  n_estimators=1400, max_features=auto, max_depth=260, total=  16.8s\n",
      "[CV] n_estimators=2000, max_features=auto, max_depth=100 .............\n",
      "[CV]  n_estimators=1400, max_features=auto, max_depth=260, total=  17.1s\n",
      "[CV] n_estimators=800, max_features=auto, max_depth=380 ..............\n",
      "[CV]  n_estimators=800, max_features=auto, max_depth=380, total=  10.0s\n",
      "[CV] n_estimators=800, max_features=auto, max_depth=380 ..............\n",
      "[CV]  n_estimators=2000, max_features=auto, max_depth=100, total=  26.6s\n",
      "[CV] n_estimators=800, max_features=auto, max_depth=380 ..............\n",
      "[CV]  n_estimators=2000, max_features=auto, max_depth=100, total=  26.2s\n",
      "[CV] n_estimators=1200, max_features=auto, max_depth=180 .............\n",
      "[CV]  n_estimators=800, max_features=auto, max_depth=380, total=  12.3s\n",
      "[CV] n_estimators=1200, max_features=auto, max_depth=180 .............\n",
      "[CV]  n_estimators=800, max_features=auto, max_depth=380, total=  12.1s\n",
      "[CV] n_estimators=1200, max_features=auto, max_depth=180 .............\n",
      "[CV]  n_estimators=2000, max_features=auto, max_depth=100, total=  28.3s\n",
      "[CV] n_estimators=1400, max_features=auto, max_depth=500 .............\n",
      "[CV]  n_estimators=1200, max_features=auto, max_depth=180, total=  13.8s\n",
      "[CV] n_estimators=1400, max_features=auto, max_depth=500 .............\n",
      "[CV]  n_estimators=1200, max_features=auto, max_depth=180, total=  13.2s\n",
      "[CV] n_estimators=1400, max_features=auto, max_depth=500 .............\n",
      "[CV]  n_estimators=1200, max_features=auto, max_depth=180, total=  14.6s\n",
      "[CV] n_estimators=1000, max_features=sqrt, max_depth=300 .............\n"
     ]
    },
    {
     "name": "stderr",
     "output_type": "stream",
     "text": [
      "[Parallel(n_jobs=-1)]: Done  33 tasks      | elapsed:  2.3min\n"
     ]
    },
    {
     "name": "stdout",
     "output_type": "stream",
     "text": [
      "[CV]  n_estimators=1400, max_features=auto, max_depth=500, total=  18.0s\n",
      "[CV] n_estimators=1000, max_features=sqrt, max_depth=300 .............\n",
      "[CV]  n_estimators=1000, max_features=sqrt, max_depth=300, total=  13.9s\n",
      "[CV] n_estimators=1000, max_features=sqrt, max_depth=300 .............\n",
      "[CV]  n_estimators=1400, max_features=auto, max_depth=500, total=  18.7s\n",
      "[CV] n_estimators=1800, max_features=auto, max_depth=420 .............\n",
      "[CV]  n_estimators=1400, max_features=auto, max_depth=500, total=  19.4s\n",
      "[CV] n_estimators=1800, max_features=auto, max_depth=420 .............\n",
      "[CV]  n_estimators=1000, max_features=sqrt, max_depth=300, total=  15.8s\n",
      "[CV] n_estimators=1800, max_features=auto, max_depth=420 .............\n",
      "[CV]  n_estimators=1000, max_features=sqrt, max_depth=300, total=  12.1s\n",
      "[CV] n_estimators=800, max_features=sqrt, max_depth=300 ..............\n",
      "[CV]  n_estimators=800, max_features=sqrt, max_depth=300, total=  14.1s\n",
      "[CV] n_estimators=800, max_features=sqrt, max_depth=300 ..............\n",
      "[CV]  n_estimators=1800, max_features=auto, max_depth=420, total=  25.4s\n",
      "[CV] n_estimators=800, max_features=sqrt, max_depth=300 ..............\n",
      "[CV]  n_estimators=1800, max_features=auto, max_depth=420, total=  25.9s\n",
      "[CV] n_estimators=200, max_features=sqrt, max_depth=None .............\n",
      "[CV]  n_estimators=200, max_features=sqrt, max_depth=None, total=   1.8s\n",
      "[CV] n_estimators=200, max_features=sqrt, max_depth=None .............\n",
      "[CV]  n_estimators=1800, max_features=auto, max_depth=420, total=  26.2s\n",
      "[CV] n_estimators=200, max_features=sqrt, max_depth=None .............\n",
      "[CV]  n_estimators=200, max_features=sqrt, max_depth=None, total=   3.2s\n",
      "[CV] n_estimators=1200, max_features=auto, max_depth=460 .............\n",
      "[CV]  n_estimators=200, max_features=sqrt, max_depth=None, total=   2.6s\n",
      "[CV] n_estimators=1200, max_features=auto, max_depth=460 .............\n",
      "[CV]  n_estimators=800, max_features=sqrt, max_depth=300, total=  10.5s\n",
      "[CV] n_estimators=1200, max_features=auto, max_depth=460 .............\n",
      "[CV]  n_estimators=800, max_features=sqrt, max_depth=300, total=  10.8s\n",
      "[CV] n_estimators=1200, max_features=sqrt, max_depth=100 .............\n",
      "[CV]  n_estimators=1200, max_features=auto, max_depth=460, total=  14.1s\n",
      "[CV] n_estimators=1200, max_features=sqrt, max_depth=100 .............\n",
      "[CV]  n_estimators=1200, max_features=auto, max_depth=460, total=  14.1s\n",
      "[CV] n_estimators=1200, max_features=sqrt, max_depth=100 .............\n",
      "[CV]  n_estimators=1200, max_features=auto, max_depth=460, total=  15.3s\n",
      "[CV] n_estimators=600, max_features=sqrt, max_depth=380 ..............\n",
      "[CV]  n_estimators=1200, max_features=sqrt, max_depth=100, total=  15.5s\n",
      "[CV] n_estimators=600, max_features=sqrt, max_depth=380 ..............\n",
      "[CV]  n_estimators=600, max_features=sqrt, max_depth=380, total=   8.6s\n",
      "[CV] n_estimators=600, max_features=sqrt, max_depth=380 ..............\n",
      "[CV]  n_estimators=600, max_features=sqrt, max_depth=380, total=   9.1s\n",
      "[CV] n_estimators=1200, max_features=auto, max_depth=340 .............\n",
      "[CV]  n_estimators=1200, max_features=sqrt, max_depth=100, total=  15.6s\n",
      "[CV] n_estimators=1200, max_features=auto, max_depth=340 .............\n",
      "[CV]  n_estimators=1200, max_features=sqrt, max_depth=100, total=  14.9s\n",
      "[CV] n_estimators=1200, max_features=auto, max_depth=340 .............\n",
      "[CV]  n_estimators=600, max_features=sqrt, max_depth=380, total=   6.1s\n",
      "[CV] n_estimators=1600, max_features=auto, max_depth=340 .............\n",
      "[CV]  n_estimators=1200, max_features=auto, max_depth=340, total=  13.3s\n",
      "[CV] n_estimators=1600, max_features=auto, max_depth=340 .............\n",
      "[CV]  n_estimators=1200, max_features=auto, max_depth=340, total=  13.6s\n",
      "[CV] n_estimators=1600, max_features=auto, max_depth=340 .............\n",
      "[CV]  n_estimators=1200, max_features=auto, max_depth=340, total=  14.4s\n",
      "[CV] n_estimators=2000, max_features=sqrt, max_depth=100 .............\n",
      "[CV]  n_estimators=1600, max_features=auto, max_depth=340, total=  19.9s\n",
      "[CV] n_estimators=2000, max_features=sqrt, max_depth=100 .............\n",
      "[CV]  n_estimators=1600, max_features=auto, max_depth=340, total=  20.2s\n",
      "[CV] n_estimators=2000, max_features=sqrt, max_depth=100 .............\n",
      "[CV]  n_estimators=1600, max_features=auto, max_depth=340, total=  21.2s\n",
      "[CV] n_estimators=1200, max_features=sqrt, max_depth=None ............\n",
      "[CV]  n_estimators=2000, max_features=sqrt, max_depth=100, total=  26.9s\n",
      "[CV] n_estimators=1200, max_features=sqrt, max_depth=None ............\n",
      "[CV]  n_estimators=1200, max_features=sqrt, max_depth=None, total=  16.6s\n",
      "[CV] n_estimators=1200, max_features=sqrt, max_depth=None ............\n",
      "[CV]  n_estimators=2000, max_features=sqrt, max_depth=100, total=  28.5s\n",
      "[CV] n_estimators=200, max_features=sqrt, max_depth=140 ..............\n",
      "[CV]  n_estimators=200, max_features=sqrt, max_depth=140, total=   2.4s\n",
      "[CV] n_estimators=200, max_features=sqrt, max_depth=140 ..............\n",
      "[CV]  n_estimators=200, max_features=sqrt, max_depth=140, total=   2.5s\n",
      "[CV] n_estimators=200, max_features=sqrt, max_depth=140 ..............\n",
      "[CV]  n_estimators=200, max_features=sqrt, max_depth=140, total=   2.6s\n",
      "[CV] n_estimators=1400, max_features=sqrt, max_depth=420 .............\n",
      "[CV]  n_estimators=2000, max_features=sqrt, max_depth=100, total=  28.4s\n",
      "[CV] n_estimators=1400, max_features=sqrt, max_depth=420 .............\n",
      "[CV]  n_estimators=1200, max_features=sqrt, max_depth=None, total=  17.8s\n",
      "[CV] n_estimators=1400, max_features=sqrt, max_depth=420 .............\n",
      "[CV]  n_estimators=1200, max_features=sqrt, max_depth=None, total=  15.1s\n",
      "[CV] n_estimators=200, max_features=sqrt, max_depth=380 ..............\n",
      "[CV]  n_estimators=200, max_features=sqrt, max_depth=380, total=   3.5s\n",
      "[CV] n_estimators=200, max_features=sqrt, max_depth=380 ..............\n",
      "[CV]  n_estimators=200, max_features=sqrt, max_depth=380, total=   3.2s\n",
      "[CV] n_estimators=200, max_features=sqrt, max_depth=380 ..............\n",
      "[CV]  n_estimators=200, max_features=sqrt, max_depth=380, total=   3.1s\n",
      "[CV] n_estimators=200, max_features=sqrt, max_depth=100 ..............\n",
      "[CV]  n_estimators=1400, max_features=sqrt, max_depth=420, total=  17.1s\n",
      "[CV] n_estimators=200, max_features=sqrt, max_depth=100 ..............\n",
      "[CV]  n_estimators=1400, max_features=sqrt, max_depth=420, total=  17.5s\n",
      "[CV] n_estimators=200, max_features=sqrt, max_depth=100 ..............\n",
      "[CV]  n_estimators=1400, max_features=sqrt, max_depth=420, total=  18.1s\n",
      "[CV] n_estimators=400, max_features=auto, max_depth=500 ..............\n",
      "[CV]  n_estimators=200, max_features=sqrt, max_depth=100, total=   2.4s\n",
      "[CV] n_estimators=400, max_features=auto, max_depth=500 ..............\n",
      "[CV]  n_estimators=200, max_features=sqrt, max_depth=100, total=   2.6s\n",
      "[CV] n_estimators=400, max_features=auto, max_depth=500 ..............\n",
      "[CV]  n_estimators=200, max_features=sqrt, max_depth=100, total=   2.4s\n",
      "[CV] n_estimators=1600, max_features=sqrt, max_depth=None ............\n",
      "[CV]  n_estimators=400, max_features=auto, max_depth=500, total=   4.7s\n",
      "[CV] n_estimators=1600, max_features=sqrt, max_depth=None ............\n",
      "[CV]  n_estimators=400, max_features=auto, max_depth=500, total=   4.5s\n",
      "[CV] n_estimators=1600, max_features=sqrt, max_depth=None ............\n",
      "[CV]  n_estimators=400, max_features=auto, max_depth=500, total=   4.6s\n",
      "[CV] n_estimators=800, max_features=sqrt, max_depth=380 ..............\n",
      "[CV]  n_estimators=800, max_features=sqrt, max_depth=380, total=   8.3s\n",
      "[CV] n_estimators=800, max_features=sqrt, max_depth=380 ..............\n",
      "[CV]  n_estimators=1600, max_features=sqrt, max_depth=None, total=  18.9s\n",
      "[CV] n_estimators=800, max_features=sqrt, max_depth=380 ..............\n",
      "[CV]  n_estimators=1600, max_features=sqrt, max_depth=None, total=  19.2s\n",
      "[CV] n_estimators=1400, max_features=sqrt, max_depth=260 .............\n",
      "[CV]  n_estimators=1600, max_features=sqrt, max_depth=None, total=  19.5s\n",
      "[CV] n_estimators=1400, max_features=sqrt, max_depth=260 .............\n",
      "[CV]  n_estimators=800, max_features=sqrt, max_depth=380, total=  11.9s\n",
      "[CV] n_estimators=1400, max_features=sqrt, max_depth=260 .............\n",
      "[CV]  n_estimators=800, max_features=sqrt, max_depth=380, total=   9.1s\n",
      "[CV] n_estimators=1800, max_features=auto, max_depth=None ............\n"
     ]
    },
    {
     "name": "stdout",
     "output_type": "stream",
     "text": [
      "[CV]  n_estimators=1400, max_features=sqrt, max_depth=260, total=  15.4s\n",
      "[CV] n_estimators=1800, max_features=auto, max_depth=None ............\n",
      "[CV]  n_estimators=1400, max_features=sqrt, max_depth=260, total=  15.7s\n",
      "[CV] n_estimators=1800, max_features=auto, max_depth=None ............\n",
      "[CV]  n_estimators=1400, max_features=sqrt, max_depth=260, total=  16.3s\n",
      "[CV] n_estimators=1200, max_features=auto, max_depth=140 .............\n",
      "[CV]  n_estimators=1800, max_features=auto, max_depth=None, total=  23.3s\n",
      "[CV] n_estimators=1200, max_features=auto, max_depth=140 .............\n",
      "[CV]  n_estimators=1200, max_features=auto, max_depth=140, total=  14.7s\n",
      "[CV] n_estimators=1200, max_features=auto, max_depth=140 .............\n",
      "[CV]  n_estimators=1800, max_features=auto, max_depth=None, total=  21.1s\n",
      "[CV] n_estimators=600, max_features=auto, max_depth=460 ..............\n",
      "[CV]  n_estimators=1800, max_features=auto, max_depth=None, total=  21.7s\n",
      "[CV] n_estimators=600, max_features=auto, max_depth=460 ..............\n",
      "[CV]  n_estimators=600, max_features=auto, max_depth=460, total=   7.4s\n",
      "[CV] n_estimators=600, max_features=auto, max_depth=460 ..............\n",
      "[CV]  n_estimators=1200, max_features=auto, max_depth=140, total=  16.0s\n",
      "[CV] n_estimators=1800, max_features=sqrt, max_depth=100 .............\n",
      "[CV]  n_estimators=600, max_features=auto, max_depth=460, total=   8.8s\n",
      "[CV] n_estimators=1800, max_features=sqrt, max_depth=100 .............\n",
      "[CV]  n_estimators=1200, max_features=auto, max_depth=140, total=  15.3s\n",
      "[CV] n_estimators=1800, max_features=sqrt, max_depth=100 .............\n",
      "[CV]  n_estimators=600, max_features=auto, max_depth=460, total=   6.1s\n",
      "[CV] n_estimators=2000, max_features=auto, max_depth=220 .............\n",
      "[CV]  n_estimators=1800, max_features=sqrt, max_depth=100, total=  19.4s\n",
      "[CV] n_estimators=2000, max_features=auto, max_depth=220 .............\n",
      "[CV]  n_estimators=1800, max_features=sqrt, max_depth=100, total=  19.7s\n",
      "[CV] n_estimators=2000, max_features=auto, max_depth=220 .............\n",
      "[CV]  n_estimators=1800, max_features=sqrt, max_depth=100, total=  20.9s\n",
      "[CV] n_estimators=600, max_features=sqrt, max_depth=460 ..............\n",
      "[CV]  n_estimators=600, max_features=sqrt, max_depth=460, total=   5.9s\n",
      "[CV] n_estimators=600, max_features=sqrt, max_depth=460 ..............\n",
      "[CV]  n_estimators=2000, max_features=auto, max_depth=220, total=  25.1s\n",
      "[CV] n_estimators=600, max_features=sqrt, max_depth=460 ..............\n",
      "[CV]  n_estimators=600, max_features=sqrt, max_depth=460, total=   8.8s\n",
      "[CV] n_estimators=1200, max_features=sqrt, max_depth=180 .............\n",
      "[CV]  n_estimators=600, max_features=sqrt, max_depth=460, total=   9.0s\n",
      "[CV] n_estimators=1200, max_features=sqrt, max_depth=180 .............\n",
      "[CV]  n_estimators=2000, max_features=auto, max_depth=220, total=  24.4s\n",
      "[CV] n_estimators=1200, max_features=sqrt, max_depth=180 .............\n",
      "[CV]  n_estimators=2000, max_features=auto, max_depth=220, total=  24.1s\n",
      "[CV] n_estimators=2000, max_features=sqrt, max_depth=220 .............\n",
      "[CV]  n_estimators=1200, max_features=sqrt, max_depth=180, total=  13.4s\n",
      "[CV] n_estimators=2000, max_features=sqrt, max_depth=220 .............\n",
      "[CV]  n_estimators=1200, max_features=sqrt, max_depth=180, total=  13.3s\n",
      "[CV] n_estimators=2000, max_features=sqrt, max_depth=220 .............\n",
      "[CV]  n_estimators=1200, max_features=sqrt, max_depth=180, total=  14.0s\n",
      "[CV] n_estimators=1200, max_features=sqrt, max_depth=420 .............\n",
      "[CV]  n_estimators=2000, max_features=sqrt, max_depth=220, total=  24.2s\n",
      "[CV] n_estimators=1200, max_features=sqrt, max_depth=420 .............\n",
      "[CV]  n_estimators=1200, max_features=sqrt, max_depth=420, total=  18.3s\n",
      "[CV] n_estimators=1200, max_features=sqrt, max_depth=420 .............\n",
      "[CV]  n_estimators=2000, max_features=sqrt, max_depth=220, total=  25.3s\n",
      "[CV] n_estimators=1600, max_features=auto, max_depth=None ............\n",
      "[CV]  n_estimators=2000, max_features=sqrt, max_depth=220, total=  25.7s\n",
      "[CV] n_estimators=1600, max_features=auto, max_depth=None ............\n",
      "[CV]  n_estimators=1200, max_features=sqrt, max_depth=420, total=  13.8s\n",
      "[CV] n_estimators=1600, max_features=auto, max_depth=None ............\n",
      "[CV]  n_estimators=1200, max_features=sqrt, max_depth=420, total=  12.5s\n",
      "[CV] n_estimators=600, max_features=sqrt, max_depth=300 ..............\n",
      "[CV]  n_estimators=1600, max_features=auto, max_depth=None, total=  18.1s\n",
      "[CV] n_estimators=600, max_features=sqrt, max_depth=300 ..............\n",
      "[CV]  n_estimators=600, max_features=sqrt, max_depth=300, total=   8.1s\n",
      "[CV] n_estimators=600, max_features=sqrt, max_depth=300 ..............\n",
      "[CV]  n_estimators=1600, max_features=auto, max_depth=None, total=  19.1s\n",
      "[CV] n_estimators=400, max_features=auto, max_depth=None .............\n",
      "[CV]  n_estimators=400, max_features=auto, max_depth=None, total=   5.2s\n",
      "[CV] n_estimators=400, max_features=auto, max_depth=None .............\n",
      "[CV]  n_estimators=600, max_features=sqrt, max_depth=300, total=   8.0s\n",
      "[CV] n_estimators=400, max_features=auto, max_depth=None .............\n",
      "[CV]  n_estimators=600, max_features=sqrt, max_depth=300, total=   8.4s\n",
      "[CV] n_estimators=1400, max_features=sqrt, max_depth=100 .............\n",
      "[CV]  n_estimators=1600, max_features=auto, max_depth=None, total=  23.0s\n",
      "[CV] n_estimators=1400, max_features=sqrt, max_depth=100 .............\n",
      "[CV]  n_estimators=400, max_features=auto, max_depth=None, total=   5.0s\n",
      "[CV] n_estimators=1400, max_features=sqrt, max_depth=100 .............\n",
      "[CV]  n_estimators=400, max_features=auto, max_depth=None, total=   4.6s\n",
      "[CV] n_estimators=1400, max_features=sqrt, max_depth=380 .............\n",
      "[CV]  n_estimators=1400, max_features=sqrt, max_depth=100, total=  16.1s\n",
      "[CV] n_estimators=1400, max_features=sqrt, max_depth=380 .............\n",
      "[CV]  n_estimators=1400, max_features=sqrt, max_depth=100, total=  15.7s\n",
      "[CV] n_estimators=1400, max_features=sqrt, max_depth=380 .............\n",
      "[CV]  n_estimators=1400, max_features=sqrt, max_depth=100, total=  17.0s\n",
      "[CV] n_estimators=1400, max_features=auto, max_depth=220 .............\n",
      "[CV]  n_estimators=1400, max_features=sqrt, max_depth=380, total=  17.6s\n",
      "[CV] n_estimators=1400, max_features=auto, max_depth=220 .............\n",
      "[CV]  n_estimators=1400, max_features=sqrt, max_depth=380, total=  14.9s\n",
      "[CV] n_estimators=1400, max_features=auto, max_depth=220 .............\n",
      "[CV]  n_estimators=1400, max_features=sqrt, max_depth=380, total=  15.3s\n",
      "[CV] n_estimators=1200, max_features=auto, max_depth=420 .............\n",
      "[CV]  n_estimators=1400, max_features=auto, max_depth=220, total=  16.4s\n",
      "[CV] n_estimators=1200, max_features=auto, max_depth=420 .............\n",
      "[CV]  n_estimators=1400, max_features=auto, max_depth=220, total=  17.9s\n",
      "[CV] n_estimators=1200, max_features=auto, max_depth=420 .............\n",
      "[CV]  n_estimators=1200, max_features=auto, max_depth=420, total=  13.5s\n",
      "[CV] n_estimators=1800, max_features=sqrt, max_depth=140 .............\n",
      "[CV]  n_estimators=1400, max_features=auto, max_depth=220, total=  17.3s\n",
      "[CV] n_estimators=1800, max_features=sqrt, max_depth=140 .............\n",
      "[CV]  n_estimators=1200, max_features=auto, max_depth=420, total=  14.9s\n",
      "[CV] n_estimators=1800, max_features=sqrt, max_depth=140 .............\n",
      "[CV]  n_estimators=1200, max_features=auto, max_depth=420, total=  15.1s\n",
      "[CV] n_estimators=2000, max_features=sqrt, max_depth=340 .............\n",
      "[CV]  n_estimators=1800, max_features=sqrt, max_depth=140, total=  21.0s\n",
      "[CV] n_estimators=2000, max_features=sqrt, max_depth=340 .............\n",
      "[CV]  n_estimators=1800, max_features=sqrt, max_depth=140, total=  20.7s\n",
      "[CV] n_estimators=2000, max_features=sqrt, max_depth=340 .............\n",
      "[CV]  n_estimators=1800, max_features=sqrt, max_depth=140, total=  22.0s\n",
      "[CV] n_estimators=200, max_features=auto, max_depth=220 ..............\n",
      "[CV]  n_estimators=200, max_features=auto, max_depth=220, total=   2.1s\n",
      "[CV] n_estimators=200, max_features=auto, max_depth=220 ..............\n",
      "[CV]  n_estimators=200, max_features=auto, max_depth=220, total=   2.0s\n",
      "[CV] n_estimators=200, max_features=auto, max_depth=220 ..............\n",
      "[CV]  n_estimators=200, max_features=auto, max_depth=220, total=   2.4s\n",
      "[CV] n_estimators=1000, max_features=auto, max_depth=500 .............\n"
     ]
    },
    {
     "name": "stdout",
     "output_type": "stream",
     "text": [
      "[CV]  n_estimators=2000, max_features=sqrt, max_depth=340, total=  27.4s\n",
      "[CV] n_estimators=1000, max_features=auto, max_depth=500 .............\n",
      "[CV]  n_estimators=2000, max_features=sqrt, max_depth=340, total=  26.3s\n",
      "[CV] n_estimators=1000, max_features=auto, max_depth=500 .............\n",
      "[CV]  n_estimators=1000, max_features=auto, max_depth=500, total=  14.8s\n",
      "[CV] n_estimators=1400, max_features=auto, max_depth=460 .............\n",
      "[CV]  n_estimators=1000, max_features=auto, max_depth=500, total=  14.9s\n",
      "[CV] n_estimators=1400, max_features=auto, max_depth=460 .............\n",
      "[CV]  n_estimators=2000, max_features=sqrt, max_depth=340, total=  26.9s\n",
      "[CV] n_estimators=1400, max_features=auto, max_depth=460 .............\n",
      "[CV]  n_estimators=1000, max_features=auto, max_depth=500, total=   8.8s\n",
      "[CV] n_estimators=1600, max_features=auto, max_depth=500 .............\n",
      "[CV]  n_estimators=1400, max_features=auto, max_depth=460, total=  14.2s\n",
      "[CV] n_estimators=1600, max_features=auto, max_depth=500 .............\n"
     ]
    },
    {
     "name": "stderr",
     "output_type": "stream",
     "text": [
      "[Parallel(n_jobs=-1)]: Done 154 tasks      | elapsed: 10.1min\n"
     ]
    },
    {
     "name": "stdout",
     "output_type": "stream",
     "text": [
      "[CV]  n_estimators=1400, max_features=auto, max_depth=460, total=  16.0s\n",
      "[CV] n_estimators=1600, max_features=auto, max_depth=500 .............\n",
      "[CV]  n_estimators=1400, max_features=auto, max_depth=460, total=  16.9s\n",
      "[CV] n_estimators=800, max_features=sqrt, max_depth=460 ..............\n",
      "[CV]  n_estimators=1600, max_features=auto, max_depth=500, total=  20.3s\n",
      "[CV] n_estimators=800, max_features=sqrt, max_depth=460 ..............\n",
      "[CV]  n_estimators=800, max_features=sqrt, max_depth=460, total=  10.3s\n",
      "[CV] n_estimators=800, max_features=sqrt, max_depth=460 ..............\n",
      "[CV]  n_estimators=1600, max_features=auto, max_depth=500, total=  18.8s\n",
      "[CV] n_estimators=1000, max_features=auto, max_depth=None ............\n",
      "[CV]  n_estimators=1600, max_features=auto, max_depth=500, total=  20.9s\n",
      "[CV] n_estimators=1000, max_features=auto, max_depth=None ............\n",
      "[CV]  n_estimators=800, max_features=sqrt, max_depth=460, total=  10.0s\n",
      "[CV] n_estimators=1000, max_features=auto, max_depth=None ............\n",
      "[CV]  n_estimators=800, max_features=sqrt, max_depth=460, total=  10.3s\n",
      "[CV] n_estimators=2000, max_features=auto, max_depth=500 .............\n",
      "[CV]  n_estimators=1000, max_features=auto, max_depth=None, total=  12.1s\n",
      "[CV] n_estimators=2000, max_features=auto, max_depth=500 .............\n",
      "[CV]  n_estimators=1000, max_features=auto, max_depth=None, total=  10.3s\n",
      "[CV] n_estimators=2000, max_features=auto, max_depth=500 .............\n",
      "[CV]  n_estimators=1000, max_features=auto, max_depth=None, total=  10.6s\n",
      "[CV] n_estimators=1200, max_features=sqrt, max_depth=300 .............\n",
      "[CV]  n_estimators=2000, max_features=auto, max_depth=500, total=  23.0s\n",
      "[CV] n_estimators=1200, max_features=sqrt, max_depth=300 .............\n",
      "[CV]  n_estimators=1200, max_features=sqrt, max_depth=300, total=  14.5s\n",
      "[CV] n_estimators=1200, max_features=sqrt, max_depth=300 .............\n",
      "[CV]  n_estimators=2000, max_features=auto, max_depth=500, total=  24.1s\n",
      "[CV] n_estimators=2000, max_features=sqrt, max_depth=500 .............\n",
      "[CV]  n_estimators=2000, max_features=auto, max_depth=500, total=  24.4s\n",
      "[CV] n_estimators=2000, max_features=sqrt, max_depth=500 .............\n",
      "[CV]  n_estimators=1200, max_features=sqrt, max_depth=300, total=  14.8s\n",
      "[CV] n_estimators=2000, max_features=sqrt, max_depth=500 .............\n",
      "[CV]  n_estimators=1200, max_features=sqrt, max_depth=300, total=  13.9s\n",
      "[CV] n_estimators=800, max_features=sqrt, max_depth=220 ..............\n",
      "[CV]  n_estimators=800, max_features=sqrt, max_depth=220, total=   9.0s\n",
      "[CV] n_estimators=800, max_features=sqrt, max_depth=220 ..............\n",
      "[CV]  n_estimators=2000, max_features=sqrt, max_depth=500, total=  24.4s\n",
      "[CV] n_estimators=800, max_features=sqrt, max_depth=220 ..............\n",
      "[CV]  n_estimators=2000, max_features=sqrt, max_depth=500, total=  23.6s\n",
      "[CV] n_estimators=1400, max_features=sqrt, max_depth=340 .............\n",
      "[CV]  n_estimators=800, max_features=sqrt, max_depth=220, total=  12.3s\n",
      "[CV] n_estimators=1400, max_features=sqrt, max_depth=340 .............\n",
      "[CV]  n_estimators=2000, max_features=sqrt, max_depth=500, total=  26.5s\n",
      "[CV] n_estimators=1400, max_features=sqrt, max_depth=340 .............\n",
      "[CV]  n_estimators=800, max_features=sqrt, max_depth=220, total=  10.3s\n",
      "[CV] n_estimators=1200, max_features=sqrt, max_depth=260 .............\n",
      "[CV]  n_estimators=1400, max_features=sqrt, max_depth=340, total=  16.3s\n",
      "[CV] n_estimators=1200, max_features=sqrt, max_depth=260 .............\n",
      "[CV]  n_estimators=1400, max_features=sqrt, max_depth=340, total=  16.9s\n",
      "[CV] n_estimators=1200, max_features=sqrt, max_depth=260 .............\n",
      "[CV]  n_estimators=1200, max_features=sqrt, max_depth=260, total=  16.0s\n",
      "[CV] n_estimators=1400, max_features=auto, max_depth=340 .............\n",
      "[CV]  n_estimators=1400, max_features=sqrt, max_depth=340, total=  18.7s\n",
      "[CV] n_estimators=1400, max_features=auto, max_depth=340 .............\n",
      "[CV]  n_estimators=1200, max_features=sqrt, max_depth=260, total=  14.6s\n",
      "[CV] n_estimators=1400, max_features=auto, max_depth=340 .............\n",
      "[CV]  n_estimators=1200, max_features=sqrt, max_depth=260, total=  14.2s\n",
      "[CV] n_estimators=200, max_features=auto, max_depth=340 ..............\n",
      "[CV]  n_estimators=200, max_features=auto, max_depth=340, total=   2.6s\n",
      "[CV] n_estimators=200, max_features=auto, max_depth=340 ..............\n",
      "[CV]  n_estimators=200, max_features=auto, max_depth=340, total=   2.4s\n",
      "[CV] n_estimators=200, max_features=auto, max_depth=340 ..............\n",
      "[CV]  n_estimators=1400, max_features=auto, max_depth=340, total=  17.8s\n",
      "[CV] n_estimators=1600, max_features=auto, max_depth=220 .............\n",
      "[CV]  n_estimators=200, max_features=auto, max_depth=340, total=   2.8s\n",
      "[CV] n_estimators=1600, max_features=auto, max_depth=220 .............\n",
      "[CV]  n_estimators=1400, max_features=auto, max_depth=340, total=  18.5s\n",
      "[CV] n_estimators=1600, max_features=auto, max_depth=220 .............\n",
      "[CV]  n_estimators=1400, max_features=auto, max_depth=340, total=  17.2s\n",
      "[CV] n_estimators=400, max_features=auto, max_depth=300 ..............\n",
      "[CV]  n_estimators=400, max_features=auto, max_depth=300, total=   6.3s\n",
      "[CV] n_estimators=400, max_features=auto, max_depth=300 ..............\n",
      "[CV]  n_estimators=1600, max_features=auto, max_depth=220, total=  19.6s\n",
      "[CV] n_estimators=400, max_features=auto, max_depth=300 ..............\n",
      "[CV]  n_estimators=1600, max_features=auto, max_depth=220, total=  19.3s\n",
      "[CV] n_estimators=1800, max_features=auto, max_depth=220 .............\n",
      "[CV]  n_estimators=400, max_features=auto, max_depth=300, total=   6.5s\n",
      "[CV] n_estimators=1800, max_features=auto, max_depth=220 .............\n",
      "[CV]  n_estimators=1600, max_features=auto, max_depth=220, total=  20.7s\n",
      "[CV] n_estimators=1800, max_features=auto, max_depth=220 .............\n",
      "[CV]  n_estimators=400, max_features=auto, max_depth=300, total=   4.3s\n",
      "[CV] n_estimators=1800, max_features=auto, max_depth=300 .............\n",
      "[CV]  n_estimators=1800, max_features=auto, max_depth=220, total=  19.9s\n",
      "[CV] n_estimators=1800, max_features=auto, max_depth=300 .............\n",
      "[CV]  n_estimators=1800, max_features=auto, max_depth=220, total=  19.9s\n",
      "[CV] n_estimators=1800, max_features=auto, max_depth=300 .............\n",
      "[CV]  n_estimators=1800, max_features=auto, max_depth=220, total=  22.4s\n",
      "[CV] n_estimators=1000, max_features=auto, max_depth=260 .............\n",
      "[CV]  n_estimators=1800, max_features=auto, max_depth=300, total=  22.3s\n",
      "[CV] n_estimators=1000, max_features=auto, max_depth=260 .............\n",
      "[CV]  n_estimators=1000, max_features=auto, max_depth=260, total=  14.3s\n",
      "[CV] n_estimators=1000, max_features=auto, max_depth=260 .............\n",
      "[CV]  n_estimators=1000, max_features=auto, max_depth=260, total=  14.4s\n",
      "[CV] n_estimators=1600, max_features=sqrt, max_depth=300 .............\n",
      "[CV]  n_estimators=1800, max_features=auto, max_depth=300, total=  21.1s\n",
      "[CV] n_estimators=1600, max_features=sqrt, max_depth=300 .............\n",
      "[CV]  n_estimators=1800, max_features=auto, max_depth=300, total=  21.8s\n",
      "[CV] n_estimators=1600, max_features=sqrt, max_depth=300 .............\n",
      "[CV]  n_estimators=1000, max_features=auto, max_depth=260, total=   9.4s\n",
      "[CV] n_estimators=1000, max_features=sqrt, max_depth=460 .............\n",
      "[CV]  n_estimators=1600, max_features=sqrt, max_depth=300, total=  17.3s\n",
      "[CV] n_estimators=1000, max_features=sqrt, max_depth=460 .............\n",
      "[CV]  n_estimators=1600, max_features=sqrt, max_depth=300, total=  19.1s\n",
      "[CV] n_estimators=1000, max_features=sqrt, max_depth=460 .............\n",
      "[CV]  n_estimators=1600, max_features=sqrt, max_depth=300, total=  20.9s\n",
      "[CV] n_estimators=1600, max_features=sqrt, max_depth=420 .............\n",
      "[CV]  n_estimators=1000, max_features=sqrt, max_depth=460, total=  14.3s\n",
      "[CV] n_estimators=1600, max_features=sqrt, max_depth=420 .............\n",
      "[CV]  n_estimators=1000, max_features=sqrt, max_depth=460, total=  11.3s\n",
      "[CV] n_estimators=1600, max_features=sqrt, max_depth=420 .............\n",
      "[CV]  n_estimators=1000, max_features=sqrt, max_depth=460, total=  10.2s\n",
      "[CV] n_estimators=400, max_features=sqrt, max_depth=300 ..............\n",
      "[CV]  n_estimators=400, max_features=sqrt, max_depth=300, total=   5.1s\n",
      "[CV] n_estimators=400, max_features=sqrt, max_depth=300 ..............\n"
     ]
    },
    {
     "name": "stdout",
     "output_type": "stream",
     "text": [
      "[CV]  n_estimators=400, max_features=sqrt, max_depth=300, total=   6.3s\n",
      "[CV] n_estimators=400, max_features=sqrt, max_depth=300 ..............\n",
      "[CV]  n_estimators=1600, max_features=sqrt, max_depth=420, total=  19.3s\n",
      "[CV] n_estimators=2000, max_features=auto, max_depth=140 .............\n",
      "[CV]  n_estimators=1600, max_features=sqrt, max_depth=420, total=  19.7s\n",
      "[CV] n_estimators=2000, max_features=auto, max_depth=140 .............\n",
      "[CV]  n_estimators=400, max_features=sqrt, max_depth=300, total=   4.1s\n",
      "[CV] n_estimators=2000, max_features=auto, max_depth=140 .............\n",
      "[CV]  n_estimators=1600, max_features=sqrt, max_depth=420, total=  20.4s\n",
      "[CV] n_estimators=1000, max_features=auto, max_depth=340 .............\n",
      "[CV]  n_estimators=1000, max_features=auto, max_depth=340, total=  14.6s\n",
      "[CV] n_estimators=1000, max_features=auto, max_depth=340 .............\n",
      "[CV]  n_estimators=2000, max_features=auto, max_depth=140, total=  23.9s\n",
      "[CV] n_estimators=1000, max_features=auto, max_depth=340 .............\n",
      "[CV]  n_estimators=2000, max_features=auto, max_depth=140, total=  23.8s\n",
      "[CV] n_estimators=1200, max_features=sqrt, max_depth=220 .............\n",
      "[CV]  n_estimators=2000, max_features=auto, max_depth=140, total=  24.5s\n",
      "[CV] n_estimators=1200, max_features=sqrt, max_depth=220 .............\n",
      "[CV]  n_estimators=1000, max_features=auto, max_depth=340, total=  11.1s\n",
      "[CV] n_estimators=1200, max_features=sqrt, max_depth=220 .............\n",
      "[CV]  n_estimators=1000, max_features=auto, max_depth=340, total=  11.1s\n",
      "[CV] n_estimators=600, max_features=auto, max_depth=260 ..............\n",
      "[CV]  n_estimators=1200, max_features=sqrt, max_depth=220, total=  13.6s\n",
      "[CV] n_estimators=600, max_features=auto, max_depth=260 ..............\n",
      "[CV]  n_estimators=600, max_features=auto, max_depth=260, total=   7.7s\n",
      "[CV] n_estimators=600, max_features=auto, max_depth=260 ..............\n",
      "[CV]  n_estimators=1200, max_features=sqrt, max_depth=220, total=  15.1s\n",
      "[CV] n_estimators=1200, max_features=auto, max_depth=100 .............\n",
      "[CV]  n_estimators=600, max_features=auto, max_depth=260, total=   8.2s\n",
      "[CV] n_estimators=1200, max_features=auto, max_depth=100 .............\n",
      "[CV]  n_estimators=1200, max_features=sqrt, max_depth=220, total=  15.4s\n",
      "[CV] n_estimators=1200, max_features=auto, max_depth=100 .............\n",
      "[CV]  n_estimators=600, max_features=auto, max_depth=260, total=   6.8s\n",
      "[CV] n_estimators=1400, max_features=sqrt, max_depth=180 .............\n",
      "[CV]  n_estimators=1200, max_features=auto, max_depth=100, total=  13.2s\n",
      "[CV] n_estimators=1400, max_features=sqrt, max_depth=180 .............\n",
      "[CV]  n_estimators=1200, max_features=auto, max_depth=100, total=  13.5s\n",
      "[CV] n_estimators=1400, max_features=sqrt, max_depth=180 .............\n",
      "[CV]  n_estimators=1200, max_features=auto, max_depth=100, total=  14.6s\n",
      "[CV] n_estimators=1000, max_features=auto, max_depth=420 .............\n",
      "[CV]  n_estimators=1400, max_features=sqrt, max_depth=180, total=  16.9s\n",
      "[CV] n_estimators=1000, max_features=auto, max_depth=420 .............\n",
      "[CV]  n_estimators=1400, max_features=sqrt, max_depth=180, total=  17.4s\n",
      "[CV] n_estimators=1000, max_features=auto, max_depth=420 .............\n",
      "[CV]  n_estimators=1000, max_features=auto, max_depth=420, total=  12.2s\n",
      "[CV] n_estimators=2000, max_features=sqrt, max_depth=380 .............\n",
      "[CV]  n_estimators=1400, max_features=sqrt, max_depth=180, total=  17.6s\n",
      "[CV] n_estimators=2000, max_features=sqrt, max_depth=380 .............\n",
      "[CV]  n_estimators=1000, max_features=auto, max_depth=420, total=  13.3s\n",
      "[CV] n_estimators=2000, max_features=sqrt, max_depth=380 .............\n",
      "[CV]  n_estimators=1000, max_features=auto, max_depth=420, total=  10.8s\n",
      "[CV] n_estimators=1600, max_features=sqrt, max_depth=260 .............\n",
      "[CV]  n_estimators=2000, max_features=sqrt, max_depth=380, total=  22.6s\n",
      "[CV] n_estimators=1600, max_features=sqrt, max_depth=260 .............\n",
      "[CV]  n_estimators=2000, max_features=sqrt, max_depth=380, total=  23.3s\n",
      "[CV] n_estimators=1600, max_features=sqrt, max_depth=260 .............\n",
      "[CV]  n_estimators=2000, max_features=sqrt, max_depth=380, total=  24.8s\n",
      "[CV] n_estimators=1200, max_features=auto, max_depth=220 .............\n",
      "[CV]  n_estimators=1600, max_features=sqrt, max_depth=260, total=  22.1s\n",
      "[CV] n_estimators=1200, max_features=auto, max_depth=220 .............\n",
      "[CV]  n_estimators=1600, max_features=sqrt, max_depth=260, total=  19.0s\n",
      "[CV] n_estimators=1200, max_features=auto, max_depth=220 .............\n",
      "[CV]  n_estimators=1200, max_features=auto, max_depth=220, total=  15.7s\n",
      "[CV] n_estimators=600, max_features=sqrt, max_depth=500 ..............\n",
      "[CV]  n_estimators=1600, max_features=sqrt, max_depth=260, total=  19.8s\n",
      "[CV] n_estimators=600, max_features=sqrt, max_depth=500 ..............\n",
      "[CV]  n_estimators=1200, max_features=auto, max_depth=220, total=  16.3s\n",
      "[CV] n_estimators=600, max_features=sqrt, max_depth=500 ..............\n",
      "[CV]  n_estimators=600, max_features=sqrt, max_depth=500, total=   7.6s\n",
      "[CV] n_estimators=1800, max_features=auto, max_depth=500 .............\n",
      "[CV]  n_estimators=600, max_features=sqrt, max_depth=500, total=   8.0s\n",
      "[CV] n_estimators=1800, max_features=auto, max_depth=500 .............\n",
      "[CV]  n_estimators=1200, max_features=auto, max_depth=220, total=  15.5s\n",
      "[CV] n_estimators=1800, max_features=auto, max_depth=500 .............\n",
      "[CV]  n_estimators=600, max_features=sqrt, max_depth=500, total=   9.3s\n",
      "[CV] n_estimators=600, max_features=auto, max_depth=380 ..............\n",
      "[CV]  n_estimators=600, max_features=auto, max_depth=380, total=   5.4s\n",
      "[CV] n_estimators=600, max_features=auto, max_depth=380 ..............\n",
      "[CV]  n_estimators=600, max_features=auto, max_depth=380, total=   9.6s\n",
      "[CV] n_estimators=600, max_features=auto, max_depth=380 ..............\n",
      "[CV]  n_estimators=1800, max_features=auto, max_depth=500, total=  21.9s\n",
      "[CV] n_estimators=400, max_features=sqrt, max_depth=140 ..............\n",
      "[CV]  n_estimators=1800, max_features=auto, max_depth=500, total=  21.6s\n",
      "[CV] n_estimators=400, max_features=sqrt, max_depth=140 ..............\n",
      "[CV]  n_estimators=400, max_features=sqrt, max_depth=140, total=   5.8s\n",
      "[CV] n_estimators=400, max_features=sqrt, max_depth=140 ..............\n",
      "[CV]  n_estimators=600, max_features=auto, max_depth=380, total=   8.8s\n",
      "[CV] n_estimators=600, max_features=sqrt, max_depth=100 ..............\n",
      "[CV]  n_estimators=1800, max_features=auto, max_depth=500, total=  24.1s\n",
      "[CV] n_estimators=600, max_features=sqrt, max_depth=100 ..............\n",
      "[CV]  n_estimators=400, max_features=sqrt, max_depth=140, total=   6.3s\n",
      "[CV] n_estimators=600, max_features=sqrt, max_depth=100 ..............\n",
      "[CV]  n_estimators=400, max_features=sqrt, max_depth=140, total=   4.4s\n",
      "[CV] n_estimators=1200, max_features=sqrt, max_depth=140 .............\n",
      "[CV]  n_estimators=600, max_features=sqrt, max_depth=100, total=   7.3s\n",
      "[CV] n_estimators=1200, max_features=sqrt, max_depth=140 .............\n",
      "[CV]  n_estimators=600, max_features=sqrt, max_depth=100, total=   7.5s\n",
      "[CV] n_estimators=1200, max_features=sqrt, max_depth=140 .............\n",
      "[CV]  n_estimators=600, max_features=sqrt, max_depth=100, total=   8.1s\n",
      "[CV] n_estimators=1800, max_features=auto, max_depth=140 .............\n",
      "[CV]  n_estimators=1200, max_features=sqrt, max_depth=140, total=  14.6s\n",
      "[CV] n_estimators=1800, max_features=auto, max_depth=140 .............\n",
      "[CV]  n_estimators=1200, max_features=sqrt, max_depth=140, total=  13.7s\n",
      "[CV] n_estimators=1800, max_features=auto, max_depth=140 .............\n",
      "[CV]  n_estimators=1200, max_features=sqrt, max_depth=140, total=  13.9s\n",
      "[CV] n_estimators=600, max_features=auto, max_depth=180 ..............\n",
      "[CV]  n_estimators=600, max_features=auto, max_depth=180, total=   5.7s\n",
      "[CV] n_estimators=600, max_features=auto, max_depth=180 ..............\n",
      "[CV]  n_estimators=1800, max_features=auto, max_depth=140, total=  22.7s\n",
      "[CV] n_estimators=600, max_features=auto, max_depth=180 ..............\n",
      "[CV]  n_estimators=600, max_features=auto, max_depth=180, total=   9.6s\n",
      "[CV] n_estimators=800, max_features=auto, max_depth=None .............\n",
      "[CV]  n_estimators=600, max_features=auto, max_depth=180, total=  10.1s\n",
      "[CV] n_estimators=800, max_features=auto, max_depth=None .............\n",
      "[CV]  n_estimators=1800, max_features=auto, max_depth=140, total=  24.2s\n"
     ]
    },
    {
     "name": "stdout",
     "output_type": "stream",
     "text": [
      "[CV] n_estimators=800, max_features=auto, max_depth=None .............\n",
      "[CV]  n_estimators=1800, max_features=auto, max_depth=140, total=  24.8s\n",
      "[CV] n_estimators=1800, max_features=auto, max_depth=380 .............\n",
      "[CV]  n_estimators=800, max_features=auto, max_depth=None, total=  11.1s\n",
      "[CV] n_estimators=1800, max_features=auto, max_depth=380 .............\n",
      "[CV]  n_estimators=800, max_features=auto, max_depth=None, total=   9.4s\n",
      "[CV] n_estimators=1800, max_features=auto, max_depth=380 .............\n",
      "[CV]  n_estimators=800, max_features=auto, max_depth=None, total=   9.5s\n",
      "[CV] n_estimators=400, max_features=auto, max_depth=420 ..............\n",
      "[CV]  n_estimators=400, max_features=auto, max_depth=420, total=   4.5s\n",
      "[CV] n_estimators=400, max_features=auto, max_depth=420 ..............\n",
      "[CV]  n_estimators=400, max_features=auto, max_depth=420, total=   6.5s\n",
      "[CV] n_estimators=400, max_features=auto, max_depth=420 ..............\n",
      "[CV]  n_estimators=1800, max_features=auto, max_depth=380, total=  22.6s\n",
      "[CV] n_estimators=400, max_features=sqrt, max_depth=180 ..............\n",
      "[CV]  n_estimators=400, max_features=auto, max_depth=420, total=   6.7s\n",
      "[CV] n_estimators=400, max_features=sqrt, max_depth=180 ..............\n",
      "[CV]  n_estimators=1800, max_features=auto, max_depth=380, total=  22.6s\n",
      "[CV] n_estimators=400, max_features=sqrt, max_depth=180 ..............\n",
      "[CV]  n_estimators=400, max_features=sqrt, max_depth=180, total=   5.4s\n",
      "[CV] n_estimators=1600, max_features=sqrt, max_depth=340 .............\n",
      "[CV]  n_estimators=400, max_features=sqrt, max_depth=180, total=   5.7s\n",
      "[CV] n_estimators=1600, max_features=sqrt, max_depth=340 .............\n",
      "[CV]  n_estimators=1800, max_features=auto, max_depth=380, total=  24.9s\n",
      "[CV] n_estimators=1600, max_features=sqrt, max_depth=340 .............\n",
      "[CV]  n_estimators=400, max_features=sqrt, max_depth=180, total=   6.0s\n",
      "[CV] n_estimators=200, max_features=sqrt, max_depth=460 ..............\n",
      "[CV]  n_estimators=200, max_features=sqrt, max_depth=460, total=   1.3s\n",
      "[CV] n_estimators=200, max_features=sqrt, max_depth=460 ..............\n",
      "[CV]  n_estimators=200, max_features=sqrt, max_depth=460, total=   1.3s\n",
      "[CV] n_estimators=200, max_features=sqrt, max_depth=460 ..............\n",
      "[CV]  n_estimators=200, max_features=sqrt, max_depth=460, total=   1.9s\n",
      "[CV] n_estimators=1400, max_features=sqrt, max_depth=220 .............\n",
      "[CV]  n_estimators=1600, max_features=sqrt, max_depth=340, total=  19.6s\n",
      "[CV] n_estimators=1400, max_features=sqrt, max_depth=220 .............\n",
      "[CV]  n_estimators=1600, max_features=sqrt, max_depth=340, total=  19.3s\n",
      "[CV] n_estimators=1400, max_features=sqrt, max_depth=220 .............\n",
      "[CV]  n_estimators=1600, max_features=sqrt, max_depth=340, total=  20.1s\n",
      "[CV] n_estimators=400, max_features=auto, max_depth=180 ..............\n",
      "[CV]  n_estimators=400, max_features=auto, max_depth=180, total=   3.7s\n",
      "[CV] n_estimators=400, max_features=auto, max_depth=180 ..............\n",
      "[CV]  n_estimators=1400, max_features=sqrt, max_depth=220, total=  20.7s\n",
      "[CV] n_estimators=400, max_features=auto, max_depth=180 ..............\n",
      "[CV]  n_estimators=400, max_features=auto, max_depth=180, total=   5.6s\n",
      "[CV] n_estimators=600, max_features=auto, max_depth=420 ..............\n",
      "[CV]  n_estimators=400, max_features=auto, max_depth=180, total=   6.7s\n",
      "[CV] n_estimators=600, max_features=auto, max_depth=420 ..............\n",
      "[CV]  n_estimators=1400, max_features=sqrt, max_depth=220, total=  18.6s\n",
      "[CV] n_estimators=600, max_features=auto, max_depth=420 ..............\n",
      "[CV]  n_estimators=1400, max_features=sqrt, max_depth=220, total=  19.0s\n",
      "[CV] n_estimators=1400, max_features=auto, max_depth=380 .............\n",
      "[CV]  n_estimators=600, max_features=auto, max_depth=420, total=  10.1s\n",
      "[CV] n_estimators=1400, max_features=auto, max_depth=380 .............\n",
      "[CV]  n_estimators=600, max_features=auto, max_depth=420, total=   9.0s\n",
      "[CV] n_estimators=1400, max_features=auto, max_depth=380 .............\n",
      "[CV]  n_estimators=600, max_features=auto, max_depth=420, total=   6.4s\n",
      "[CV]  n_estimators=1400, max_features=auto, max_depth=380, total=  15.2s\n",
      "[CV]  n_estimators=1400, max_features=auto, max_depth=380, total=  15.2s\n",
      "[CV]  n_estimators=1400, max_features=auto, max_depth=380, total=  16.4s\n"
     ]
    },
    {
     "name": "stderr",
     "output_type": "stream",
     "text": [
      "[Parallel(n_jobs=-1)]: Done 300 out of 300 | elapsed: 19.3min finished\n"
     ]
    },
    {
     "name": "stdout",
     "output_type": "stream",
     "text": [
      "{'n_estimators': 1400, 'max_features': 'auto', 'max_depth': 100}\n"
     ]
    }
   ],
   "source": [
    "# Hyperparameter Optimization\n",
    "\n",
    "from sklearn.model_selection import RandomizedSearchCV\n",
    "# number of trees in random forest\n",
    "n_estimators = [int(x) for x in np.linspace(start = 200, stop = 2000, num = 10)]\n",
    "# number of features at every split\n",
    "max_features = ['auto', 'sqrt']\n",
    "\n",
    "# max depth\n",
    "max_depth = [int(x) for x in np.linspace(100, 500, num = 11)]\n",
    "max_depth.append(None)\n",
    "# create random grid\n",
    "random_grid = {\n",
    " 'n_estimators': n_estimators,\n",
    " 'max_features': max_features,\n",
    " 'max_depth': max_depth\n",
    " }\n",
    "# Random search of parameters\n",
    "rfc_random = RandomizedSearchCV(estimator = rfc, param_distributions = random_grid, n_iter = 100, cv = 3, verbose=2, random_state=42, n_jobs = -1)\n",
    "# Fit the model\n",
    "rfc_random.fit(X_train, y_train)\n",
    "# print results\n",
    "print(rfc_random.best_params_)"
   ]
  },
  {
   "cell_type": "markdown",
   "metadata": {},
   "source": [
    "### BEST FEATURES: {'n_estimators': 1400, 'max_features': 'auto', 'max_depth': 100}"
   ]
  },
  {
   "cell_type": "code",
   "execution_count": 25,
   "metadata": {
    "collapsed": true
   },
   "outputs": [],
   "source": [
    "rfc2 = RandomForestClassifier(\n",
    "    n_estimators=1400,\n",
    "    criterion='gini',\n",
    "    max_depth=100,\n",
    "    min_samples_split=100,\n",
    "    min_samples_leaf=10,\n",
    "    min_weight_fraction_leaf=0.0,\n",
    "    max_features='auto',\n",
    "    max_leaf_nodes=None,\n",
    "    random_state=1,\n",
    "    min_impurity_decrease=0.0,\n",
    "    min_impurity_split=None,\n",
    "    bootstrap=True,\n",
    "    oob_score=False,\n",
    "    n_jobs=-1,\n",
    "    verbose=0,\n",
    "    warm_start=False,\n",
    "    class_weight='balanced'\n",
    ")\n",
    "rfc2.fit(X_train,y_train)\n",
    "# predictions\n",
    "rfc_predict = rfc2.predict(X_test)"
   ]
  },
  {
   "cell_type": "code",
   "execution_count": 144,
   "metadata": {
    "collapsed": true
   },
   "outputs": [],
   "source": [
    "#len(rfc_predict)"
   ]
  },
  {
   "cell_type": "code",
   "execution_count": 26,
   "metadata": {
    "collapsed": true
   },
   "outputs": [],
   "source": [
    "rfc_predict = rfc2.predict(X_test)"
   ]
  },
  {
   "cell_type": "code",
   "execution_count": 27,
   "metadata": {},
   "outputs": [
    {
     "name": "stdout",
     "output_type": "stream",
     "text": [
      "=== Confusion Matrix ===\n",
      "[[1851 1152]\n",
      " [1046 1951]]\n",
      "\n",
      "\n",
      "=== Classification Report ===\n",
      "             precision    recall  f1-score   support\n",
      "\n",
      "          0       0.64      0.62      0.63      3003\n",
      "          1       0.63      0.65      0.64      2997\n",
      "\n",
      "avg / total       0.63      0.63      0.63      6000\n",
      "\n",
      "\n",
      "\n",
      "=== All AUC Scores ===\n",
      "[0.69721389 0.67062778 0.69619167 0.67878889 0.67185833 0.686725\n",
      " 0.68041944 0.70328333 0.69780556 0.69972222]\n",
      "\n",
      "\n",
      "=== Mean AUC Score ===\n",
      "Mean AUC Score - Random Forest:  0.6882636111111111\n"
     ]
    }
   ],
   "source": [
    "from sklearn.model_selection import cross_val_score\n",
    "from sklearn.metrics import classification_report, confusion_matrix\n",
    "rfc_cv_score = cross_val_score(rfc2, X, y, cv=10, scoring='roc_auc', n_jobs=-1)\n",
    "print(\"=== Confusion Matrix ===\")\n",
    "print(confusion_matrix(y_test, rfc_predict))\n",
    "print('\\n')\n",
    "print(\"=== Classification Report ===\")\n",
    "print(classification_report(y_test, rfc_predict))\n",
    "print('\\n')\n",
    "print(\"=== All AUC Scores ===\")\n",
    "print(rfc_cv_score)\n",
    "print('\\n')\n",
    "print(\"=== Mean AUC Score ===\")\n",
    "print(\"Mean AUC Score - Random Forest: \", rfc_cv_score.mean())"
   ]
  },
  {
   "cell_type": "code",
   "execution_count": 28,
   "metadata": {},
   "outputs": [
    {
     "name": "stdout",
     "output_type": "stream",
     "text": [
      "Average precision-recall score: 0.58\n"
     ]
    }
   ],
   "source": [
    "from sklearn.metrics import average_precision_score\n",
    "average_precision = average_precision_score(y_test, rfc_predict)\n",
    "\n",
    "print('Average precision-recall score: {0:0.2f}'.format(\n",
    "      average_precision))"
   ]
  },
  {
   "cell_type": "code",
   "execution_count": 29,
   "metadata": {
    "collapsed": true
   },
   "outputs": [],
   "source": [
    "import matplotlib.pyplot as plt\n",
    "%matplotlib inline"
   ]
  },
  {
   "cell_type": "code",
   "execution_count": 30,
   "metadata": {},
   "outputs": [
    {
     "data": {
      "text/plain": [
       "Text(0.5,1,'2-class Precision-Recall curve: AP=0.58')"
      ]
     },
     "execution_count": 30,
     "metadata": {},
     "output_type": "execute_result"
    },
    {
     "data": {
      "image/png": "[encoded data removed]",
      "text/plain": [
       "<Figure size 432x288 with 1 Axes>"
      ]
     },
     "metadata": {},
     "output_type": "display_data"
    }
   ],
   "source": [
    "from sklearn.metrics import precision_recall_curve\n",
    "import matplotlib.pyplot as plt\n",
    "from sklearn.utils.fixes import signature\n",
    "\n",
    "precision, recall, _ = precision_recall_curve(y_test, rfc_predict)\n",
    "\n",
    "# In matplotlib < 1.5, plt.fill_between does not have a 'step' argument\n",
    "step_kwargs = ({'step': 'post'}\n",
    "               if 'step' in signature(plt.fill_between).parameters\n",
    "               else {})\n",
    "plt.step(recall, precision, color='grey',\n",
    "         where='post')\n",
    "plt.fill_between(recall, precision, alpha=0.1, color='b', **step_kwargs)\n",
    "\n",
    "plt.xlabel('Recall')\n",
    "plt.ylabel('Precision')\n",
    "plt.ylim([0.0, 1.05])\n",
    "plt.xlim([0.0, 1.0])\n",
    "plt.title('2-class Precision-Recall curve: AP={0:0.2f}'.format(\n",
    "          average_precision))"
   ]
  },
  {
   "cell_type": "code",
   "execution_count": 31,
   "metadata": {
    "collapsed": true
   },
   "outputs": [],
   "source": [
    "def adjusted_classes(y_scores, t):\n",
    "    \"\"\"\n",
    "    This function adjusts class predictions based on the prediction threshold (t).\n",
    "    Will only work for binary classification problems.\n",
    "    \"\"\"\n",
    "    return [1 if y >= t else 0 for y in y_scores]\n",
    "\n",
    "def precision_recall_threshold(p, r, thresholds, t=0.5):\n",
    "    \"\"\"\n",
    "    plots the precision recall curve and shows the current value for each\n",
    "    by identifying the classifier's threshold (t).\n",
    "    \"\"\"\n",
    "    \n",
    "    # generate new class predictions based on the adjusted_classes\n",
    "    # function above and view the resulting confusion matrix.\n",
    "    y_pred_adj = adjusted_classes(y_scores, t)\n",
    "    print(pd.DataFrame(confusion_matrix(y_test, y_pred_adj),\n",
    "                       columns=['pred_neg', 'pred_pos'], \n",
    "                       index=['neg', 'pos']))\n",
    "    \n",
    "    # plot the curve\n",
    "    plt.figure(figsize=(8,8))\n",
    "    plt.title(\"Precision and Recall curve ^ = current threshold\")\n",
    "    plt.step(r, p, color='b', alpha=0.2,\n",
    "             where='post')\n",
    "    plt.fill_between(r, p, step='post', alpha=0.2,\n",
    "                     color='b')\n",
    "    plt.ylim([0.5, 1.01]);\n",
    "    plt.xlim([0.5, 1.01]);\n",
    "    plt.xlabel('Recall');\n",
    "    plt.ylabel('Precision');\n",
    "    \n",
    "    # plot the current threshold on the line\n",
    "    close_default_clf = np.argmin(np.abs(thresholds - t))\n",
    "    plt.plot(r[close_default_clf], p[close_default_clf], '^', c='k',\n",
    "            markersize=15)"
   ]
  },
  {
   "cell_type": "code",
   "execution_count": 32,
   "metadata": {
    "collapsed": true
   },
   "outputs": [],
   "source": [
    "y_scores=rfc_predict"
   ]
  },
  {
   "cell_type": "code",
   "execution_count": 33,
   "metadata": {
    "collapsed": true
   },
   "outputs": [],
   "source": [
    "p, r, thresholds = precision_recall_curve(y_test, y_scores)"
   ]
  },
  {
   "cell_type": "code",
   "execution_count": 34,
   "metadata": {
    "collapsed": true
   },
   "outputs": [],
   "source": [
    "def plot_precision_recall_vs_threshold(precisions, recalls, thresholds):\n",
    "    \"\"\"\n",
    "    Modified from:\n",
    "    Hands-On Machine learning with Scikit-Learn\n",
    "    and TensorFlow; p.89\n",
    "    \"\"\"\n",
    "    plt.figure(figsize=(8, 8))\n",
    "    plt.title(\"Precision and Recall Scores as a function of the decision threshold\")\n",
    "    plt.plot(thresholds, precisions[:-1], \"b--\", label=\"Precision\")\n",
    "    plt.plot(thresholds, recalls[:-1], \"g-\", label=\"Recall\")\n",
    "    #plt.hlines(0.5, 0, 1, 'red')\n",
    "    plt.ylabel(\"Score\")\n",
    "    plt.ylim(0,1)\n",
    "    plt.xlabel(\"Decision Threshold\")\n",
    "    plt.legend(loc='best')"
   ]
  },
  {
   "cell_type": "code",
   "execution_count": 35,
   "metadata": {
    "collapsed": true
   },
   "outputs": [],
   "source": [
    "p, r, thresholds = precision_recall_curve(y_test, y_scores)"
   ]
  },
  {
   "cell_type": "code",
   "execution_count": 36,
   "metadata": {
    "collapsed": true
   },
   "outputs": [],
   "source": [
    "# recall : how many relevant items are selected?\n",
    "# precision: How many selected items are relevant?"
   ]
  },
  {
   "cell_type": "code",
   "execution_count": 37,
   "metadata": {
    "collapsed": true
   },
   "outputs": [],
   "source": [
    "#https://upload.wikimedia.org/wikipedia/commons/thumb/2/26/Precisionrecall.svg/350px-Precisionrecall.svg.png"
   ]
  },
  {
   "cell_type": "code",
   "execution_count": 38,
   "metadata": {},
   "outputs": [
    {
     "data": {
      "image/png": "[encoded data removed]",
      "text/plain": [
       "<Figure size 576x576 with 1 Axes>"
      ]
     },
     "metadata": {},
     "output_type": "display_data"
    }
   ],
   "source": [
    "p, r, thresholds = precision_recall_curve(y_test, y_scores)\n",
    "plot_precision_recall_vs_threshold(p, r, thresholds)"
   ]
  },
  {
   "cell_type": "code",
   "execution_count": 39,
   "metadata": {
    "collapsed": true
   },
   "outputs": [],
   "source": [
    "from sklearn.metrics import roc_curve, auc\n",
    "\n",
    "def plot_roc_curve(fprs, tprs):\n",
    "    \"\"\"Plot the Receiver Operating Characteristic from a list\n",
    "    of true positive rates and false positive rates.\"\"\"\n",
    "    \n",
    "    # Initialize useful lists + the plot axes.\n",
    "    tprs_interp = []\n",
    "    aucs = []\n",
    "    mean_fpr = np.linspace(0, 1, 100)\n",
    "    f, ax = plt.subplots(figsize=(14,10))\n",
    "    \n",
    "    # Plot ROC for each K-Fold + compute AUC scores.\n",
    "    for i, (fpr, tpr) in enumerate(zip(fprs, tprs)):\n",
    "        tprs_interp.append(np.interp(mean_fpr, fpr, tpr))\n",
    "        tprs_interp[-1][0] = 0.0\n",
    "        roc_auc = auc(fpr, tpr)\n",
    "        aucs.append(roc_auc)\n",
    "        ax.plot(fpr, tpr, lw=1, alpha=0.3,\n",
    "                 label='ROC fold %d (AUC = %0.2f)' % (i, roc_auc))\n",
    "        \n",
    "    # Plot the luck line.\n",
    "    plt.plot([0, 1], [0, 1], linestyle='--', lw=2, color='r',\n",
    "             label='Luck', alpha=.8)\n",
    "    \n",
    "    # Plot the mean ROC.\n",
    "    mean_tpr = np.mean(tprs_interp, axis=0)\n",
    "    mean_tpr[-1] = 1.0\n",
    "    mean_auc = auc(mean_fpr, mean_tpr)\n",
    "    std_auc = np.std(aucs)\n",
    "    ax.plot(mean_fpr, mean_tpr, color='b',\n",
    "             label=r'Mean ROC (AUC = %0.2f $\\pm$ %0.2f)' % (mean_auc, std_auc),\n",
    "             lw=2, alpha=.8)\n",
    "    \n",
    "    # Plot the standard deviation around the mean ROC.\n",
    "    std_tpr = np.std(tprs_interp, axis=0)\n",
    "    tprs_upper = np.minimum(mean_tpr + std_tpr, 1)\n",
    "    tprs_lower = np.maximum(mean_tpr - std_tpr, 0)\n",
    "    ax.fill_between(mean_fpr, tprs_lower, tprs_upper, color='grey', alpha=.2,\n",
    "                     label=r'$\\pm$ 1 std. dev.')\n",
    "    \n",
    "    # Fine tune and show the plot.\n",
    "    ax.set_xlim([-0.05, 1.05])\n",
    "    ax.set_ylim([-0.05, 1.05])\n",
    "    ax.set_xlabel('False Positive Rate')\n",
    "    ax.set_ylabel('True Positive Rate')\n",
    "    ax.set_title('Receiver operating characteristic')\n",
    "    ax.legend(loc=\"lower right\")\n",
    "    plt.show()\n",
    "    return (f, ax)\n",
    "\n",
    "def compute_roc_auc(index):\n",
    "    y_predict = clf.predict_proba(X[index])[:,1]\n",
    "    fpr, tpr, thresholds = roc_curve(y[index], y_predict)\n",
    "    auc_score = auc(fpr, tpr)\n",
    "    return fpr, tpr, auc_score"
   ]
  },
  {
   "cell_type": "code",
   "execution_count": 45,
   "metadata": {
    "collapsed": true
   },
   "outputs": [],
   "source": [
    "results = pd.DataFrame(columns=['training_score', 'test_score'])\n",
    "fprs, tprs, scores = [], [], []"
   ]
  },
  {
   "cell_type": "code",
   "execution_count": 101,
   "metadata": {
    "scrolled": true
   },
   "outputs": [
    {
     "name": "stderr",
     "output_type": "stream",
     "text": [
      "/Users/orsi/anaconda3/lib/python3.6/site-packages/ipykernel_launcher.py:4: FutureWarning: Method .as_matrix will be removed in a future version. Use .values instead.\n",
      "  after removing the cwd from sys.path.\n",
      "/Users/orsi/anaconda3/lib/python3.6/site-packages/ipykernel_launcher.py:8: FutureWarning: Method .as_matrix will be removed in a future version. Use .values instead.\n",
      "  \n"
     ]
    }
   ],
   "source": [
    "#data_to_predict_shuffled=data_to_predict.sample(frac=1)\n",
    "from sklearn.preprocessing import StandardScaler\n",
    "\n",
    "y = data_to_predict[target].as_matrix().astype(np.float)\n",
    "churn_feat_space = data_to_predict[cs]\n",
    "\n",
    "features = churn_feat_space.columns\n",
    "X = churn_feat_space.as_matrix().astype(np.float)\n",
    "scaler = StandardScaler()\n",
    "X = scaler.fit_transform(X)"
   ]
  },
  {
   "cell_type": "code",
   "execution_count": 102,
   "metadata": {
    "scrolled": true
   },
   "outputs": [
    {
     "name": "stdout",
     "output_type": "stream",
     "text": [
      "TRAIN: [  600   601   602 ... 11997 11998 11999] TEST: [   0    1    2 ... 6597 6598 6599]\n",
      "TRAIN: [    0     1     2 ... 11997 11998 11999] TEST: [ 600  601  602 ... 7197 7198 7199]\n",
      "TRAIN: [    0     1     2 ... 11997 11998 11999] TEST: [1200 1201 1202 ... 7797 7798 7799]\n",
      "TRAIN: [    0     1     2 ... 11997 11998 11999] TEST: [1800 1801 1802 ... 8397 8398 8399]\n",
      "TRAIN: [    0     1     2 ... 11997 11998 11999] TEST: [2400 2401 2402 ... 8997 8998 8999]\n",
      "TRAIN: [    0     1     2 ... 11997 11998 11999] TEST: [3000 3001 3002 ... 9597 9598 9599]\n",
      "TRAIN: [    0     1     2 ... 11997 11998 11999] TEST: [ 3600  3601  3602 ... 10197 10198 10199]\n",
      "TRAIN: [    0     1     2 ... 11997 11998 11999] TEST: [ 4200  4201  4202 ... 10797 10798 10799]\n",
      "TRAIN: [    0     1     2 ... 11997 11998 11999] TEST: [ 4800  4801  4802 ... 11397 11398 11399]\n",
      "TRAIN: [    0     1     2 ... 11397 11398 11399] TEST: [ 5400  5401  5402 ... 11997 11998 11999]\n"
     ]
    },
    {
     "data": {
      "image/png": "[encoded data removed]",
      "text/plain": [
       "<Figure size 1008x720 with 1 Axes>"
      ]
     },
     "metadata": {},
     "output_type": "display_data"
    },
    {
     "data": {
      "text/html": [
       "<div>\n",
       "<style scoped>\n",
       "    .dataframe tbody tr th:only-of-type {\n",
       "        vertical-align: middle;\n",
       "    }\n",
       "\n",
       "    .dataframe tbody tr th {\n",
       "        vertical-align: top;\n",
       "    }\n",
       "\n",
       "    .dataframe thead th {\n",
       "        text-align: right;\n",
       "    }\n",
       "</style>\n",
       "<table border=\"1\" class=\"dataframe\">\n",
       "  <thead>\n",
       "    <tr style=\"text-align: right;\">\n",
       "      <th></th>\n",
       "      <th>AUC Train</th>\n",
       "      <th>AUC Test</th>\n",
       "    </tr>\n",
       "  </thead>\n",
       "  <tbody>\n",
       "    <tr>\n",
       "      <th>0</th>\n",
       "      <td>0.803761</td>\n",
       "      <td>0.697214</td>\n",
       "    </tr>\n",
       "    <tr>\n",
       "      <th>1</th>\n",
       "      <td>0.805195</td>\n",
       "      <td>0.670628</td>\n",
       "    </tr>\n",
       "    <tr>\n",
       "      <th>2</th>\n",
       "      <td>0.805110</td>\n",
       "      <td>0.696192</td>\n",
       "    </tr>\n",
       "    <tr>\n",
       "      <th>3</th>\n",
       "      <td>0.803838</td>\n",
       "      <td>0.678789</td>\n",
       "    </tr>\n",
       "    <tr>\n",
       "      <th>4</th>\n",
       "      <td>0.804437</td>\n",
       "      <td>0.671858</td>\n",
       "    </tr>\n",
       "    <tr>\n",
       "      <th>5</th>\n",
       "      <td>0.804708</td>\n",
       "      <td>0.686725</td>\n",
       "    </tr>\n",
       "    <tr>\n",
       "      <th>6</th>\n",
       "      <td>0.806288</td>\n",
       "      <td>0.680419</td>\n",
       "    </tr>\n",
       "    <tr>\n",
       "      <th>7</th>\n",
       "      <td>0.803613</td>\n",
       "      <td>0.703283</td>\n",
       "    </tr>\n",
       "    <tr>\n",
       "      <th>8</th>\n",
       "      <td>0.804453</td>\n",
       "      <td>0.697806</td>\n",
       "    </tr>\n",
       "    <tr>\n",
       "      <th>9</th>\n",
       "      <td>0.804613</td>\n",
       "      <td>0.699722</td>\n",
       "    </tr>\n",
       "  </tbody>\n",
       "</table>\n",
       "</div>"
      ],
      "text/plain": [
       "   AUC Train  AUC Test\n",
       "0   0.803761  0.697214\n",
       "1   0.805195  0.670628\n",
       "2   0.805110  0.696192\n",
       "3   0.803838  0.678789\n",
       "4   0.804437  0.671858\n",
       "5   0.804708  0.686725\n",
       "6   0.806288  0.680419\n",
       "7   0.803613  0.703283\n",
       "8   0.804453  0.697806\n",
       "9   0.804613  0.699722"
      ]
     },
     "execution_count": 102,
     "metadata": {},
     "output_type": "execute_result"
    }
   ],
   "source": [
    "clf=rfc2\n",
    "skf = StratifiedKFold(n_splits=10)\n",
    "for train, test in skf.split(X, y):\n",
    "    print(\"TRAIN:\", train, \"TEST:\", test)\n",
    "    X_train, X_test = X[train], X[test] \n",
    "    y_train, y_test = y[train], y[test]\n",
    "    rfc2.fit(X_train, y_train)\n",
    "    _, _, auc_score_train = compute_roc_auc(train)\n",
    "    fpr, tpr, auc_score = compute_roc_auc(test)\n",
    "    scores.append((auc_score_train, auc_score))\n",
    "    fprs.append(fpr)\n",
    "    tprs.append(tpr)\n",
    "\n",
    "plot_roc_curve(fprs, tprs);\n",
    "pd.DataFrame(scores, columns=['AUC Train', 'AUC Test'])\n",
    "    "
   ]
  },
  {
   "cell_type": "code",
   "execution_count": 103,
   "metadata": {
    "collapsed": true
   },
   "outputs": [],
   "source": [
    "from collections import defaultdict\n",
    "import seaborn as sns\n",
    "def importance_plot(clf):\n",
    "    importances = clf.feature_importances_\n",
    "    std = np.std([tree.feature_importances_ for tree in clf.estimators_],\n",
    "             axis=0)\n",
    "    indices = np.argsort(importances)[::-1]\n",
    "\n",
    "    importance_d=defaultdict(int)\n",
    "    for f in range(0,len(cs)):\n",
    "        #print(\"%d. feature %d (%f)\" % (f+1, indices[f], importances[indices[f]]), cs[indices[f]])\n",
    "        importance_d[cs[indices[f]]]=importances[indices[f]]\n",
    "    D=pd.DataFrame.from_dict(importance_d, \"index\")\n",
    "    D=D.rename(columns={0:\"importance\"})\n",
    "    ax=D.sort_values(\"importance\", ascending=False)[:25].plot(kind=\"bar\", \n",
    "                            figsize=(10,7), title=\"Importance of Variables in Predicting Gender on Gitub (N=20 000)\")\n",
    "    plt.tight_layout()\n",
    "    fig = ax.get_figure()\n",
    "    #fig.savefig(pathdataout+\"importance_PC_SAMPLE\"+str(k)+'.pdf')\n",
    "    sns.despine()\n",
    "    fig.show() \n",
    "    plt.show()\n",
    "    plt.close(fig)\n",
    "    return D"
   ]
  },
  {
   "cell_type": "code",
   "execution_count": 104,
   "metadata": {
    "scrolled": true
   },
   "outputs": [
    {
     "name": "stderr",
     "output_type": "stream",
     "text": [
      "/Users/orsi/anaconda3/lib/python3.6/site-packages/matplotlib/figure.py:459: UserWarning: matplotlib is currently using a non-GUI backend, so cannot show the figure\n",
      "  \"matplotlib is currently using a non-GUI backend, \"\n"
     ]
    },
    {
     "data": {
      "image/png": "[encoded data removed]",
      "text/plain": [
       "<Figure size 720x504 with 1 Axes>"
      ]
     },
     "metadata": {},
     "output_type": "display_data"
    },
    {
     "data": {
      "text/html": [
       "<div>\n",
       "<style scoped>\n",
       "    .dataframe tbody tr th:only-of-type {\n",
       "        vertical-align: middle;\n",
       "    }\n",
       "\n",
       "    .dataframe tbody tr th {\n",
       "        vertical-align: top;\n",
       "    }\n",
       "\n",
       "    .dataframe thead th {\n",
       "        text-align: right;\n",
       "    }\n",
       "</style>\n",
       "<table border=\"1\" class=\"dataframe\">\n",
       "  <thead>\n",
       "    <tr style=\"text-align: right;\">\n",
       "      <th></th>\n",
       "      <th>importance</th>\n",
       "    </tr>\n",
       "  </thead>\n",
       "  <tbody>\n",
       "    <tr>\n",
       "      <th>following</th>\n",
       "      <td>0.164140</td>\n",
       "    </tr>\n",
       "    <tr>\n",
       "      <th>comments</th>\n",
       "      <td>0.097937</td>\n",
       "    </tr>\n",
       "    <tr>\n",
       "      <th>Digital_Art</th>\n",
       "      <td>0.095924</td>\n",
       "    </tr>\n",
       "    <tr>\n",
       "      <th>Branding</th>\n",
       "      <td>0.089360</td>\n",
       "    </tr>\n",
       "    <tr>\n",
       "      <th>Art_Direction</th>\n",
       "      <td>0.079772</td>\n",
       "    </tr>\n",
       "    <tr>\n",
       "      <th>Fashion_Photography</th>\n",
       "      <td>0.079084</td>\n",
       "    </tr>\n",
       "    <tr>\n",
       "      <th>Web_design_UX</th>\n",
       "      <td>0.077362</td>\n",
       "    </tr>\n",
       "    <tr>\n",
       "      <th>Photography</th>\n",
       "      <td>0.073295</td>\n",
       "    </tr>\n",
       "    <tr>\n",
       "      <th>Fine_Arts</th>\n",
       "      <td>0.057215</td>\n",
       "    </tr>\n",
       "    <tr>\n",
       "      <th>Advertising</th>\n",
       "      <td>0.056820</td>\n",
       "    </tr>\n",
       "    <tr>\n",
       "      <th>Graphic_Design</th>\n",
       "      <td>0.052044</td>\n",
       "    </tr>\n",
       "    <tr>\n",
       "      <th>total_activity</th>\n",
       "      <td>0.045635</td>\n",
       "    </tr>\n",
       "    <tr>\n",
       "      <th>project_counts</th>\n",
       "      <td>0.031412</td>\n",
       "    </tr>\n",
       "  </tbody>\n",
       "</table>\n",
       "</div>"
      ],
      "text/plain": [
       "                     importance\n",
       "following              0.164140\n",
       "comments               0.097937\n",
       "Digital_Art            0.095924\n",
       "Branding               0.089360\n",
       "Art_Direction          0.079772\n",
       "Fashion_Photography    0.079084\n",
       "Web_design_UX          0.077362\n",
       "Photography            0.073295\n",
       "Fine_Arts              0.057215\n",
       "Advertising            0.056820\n",
       "Graphic_Design         0.052044\n",
       "total_activity         0.045635\n",
       "project_counts         0.031412"
      ]
     },
     "execution_count": 104,
     "metadata": {},
     "output_type": "execute_result"
    }
   ],
   "source": [
    "importance_plot(rfc2)"
   ]
  },
  {
   "cell_type": "code",
   "execution_count": 105,
   "metadata": {},
   "outputs": [
    {
     "data": {
      "text/plain": [
       "12000"
      ]
     },
     "execution_count": 105,
     "metadata": {},
     "output_type": "execute_result"
    }
   ],
   "source": [
    "len(data_to_predict)"
   ]
  },
  {
   "cell_type": "code",
   "execution_count": 106,
   "metadata": {
    "collapsed": true
   },
   "outputs": [],
   "source": [
    "data_to_predict_shuffled=data_to_predict.sample(frac=1)\n",
    "X_train, X_test, y_train, y_test = train_test_split(X, y, test_size=0.5, random_state=66)"
   ]
  },
  {
   "cell_type": "code",
   "execution_count": 107,
   "metadata": {},
   "outputs": [
    {
     "name": "stderr",
     "output_type": "stream",
     "text": [
      "/Users/orsi/anaconda3/lib/python3.6/site-packages/ipykernel_launcher.py:7: FutureWarning: Method .as_matrix will be removed in a future version. Use .values instead.\n",
      "  import sys\n"
     ]
    }
   ],
   "source": [
    "\n",
    "from sklearn.preprocessing import StandardScaler\n",
    "\n",
    "y = data_to_predict_shuffled[target]\n",
    "churn_feat_space = data_to_predict_shuffled[cs]\n",
    "features = churn_feat_space.columns\n",
    "X = churn_feat_space.as_matrix().astype(np.float)\n",
    "scaler = StandardScaler()\n",
    "X = scaler.fit_transform(X)\n",
    "\n",
    "X_train, X_test, y_train, y_test = train_test_split(X, y, test_size=0.50, random_state=1)"
   ]
  },
  {
   "cell_type": "code",
   "execution_count": 273,
   "metadata": {
    "collapsed": true
   },
   "outputs": [],
   "source": [
    "#y_test.index"
   ]
  },
  {
   "cell_type": "code",
   "execution_count": 110,
   "metadata": {},
   "outputs": [
    {
     "name": "stderr",
     "output_type": "stream",
     "text": [
      "/Users/orsi/anaconda3/lib/python3.6/site-packages/ipykernel_launcher.py:8: FutureWarning: Method .as_matrix will be removed in a future version. Use .values instead.\n",
      "  \n"
     ]
    }
   ],
   "source": [
    "#Final model for regressor\n",
    "\n",
    "from sklearn.preprocessing import StandardScaler\n",
    "\n",
    "y = data_to_predict_shuffled[target]\n",
    "churn_feat_space = data_to_predict_shuffled[cs]\n",
    "features = churn_feat_space.columns\n",
    "X = churn_feat_space.as_matrix().astype(np.float)\n",
    "scaler = StandardScaler()\n",
    "X = scaler.fit_transform(X)\n",
    "\n",
    "X_train, X_test, y_train, y_test = train_test_split(X, y, test_size=0.50, random_state=1)\n",
    "\n",
    "rfc4 = RandomForestRegressor(\n",
    "    n_estimators=1400,\n",
    "    max_depth=100,\n",
    "    max_features='auto',\n",
    "    random_state=1,\n",
    "    n_jobs=-1,\n",
    "    min_samples_leaf=10,\n",
    "    warm_start= False\n",
    ")\n",
    "rfc4.fit(X_train,y_train)\n",
    "# predictions\n",
    "rfc_predict = rfc4.predict(X_test)\n",
    "\n",
    "y_pred=y.copy()\n",
    "y_pred[y.index] = rfc4.predict(X)\n",
    "data_to_predict['femaleness_2_new']=y_pred"
   ]
  },
  {
   "cell_type": "code",
   "execution_count": 111,
   "metadata": {
    "scrolled": true
   },
   "outputs": [
    {
     "data": {
      "text/plain": [
       "<matplotlib.axes._subplots.AxesSubplot at 0x1a2a895518>"
      ]
     },
     "execution_count": 111,
     "metadata": {},
     "output_type": "execute_result"
    },
    {
     "data": {
      "image/png": "[encoded data removed]",
      "text/plain": [
       "<Figure size 432x288 with 1 Axes>"
      ]
     },
     "metadata": {},
     "output_type": "display_data"
    }
   ],
   "source": [
    "ax=data_to_predict[data_to_predict['gender']=='female']['femaleness_2_new'].hist(log=True, color=\"red\", alpha=0.3)\n",
    "data_to_predict[data_to_predict['gender']=='male']['femaleness_2_new'].hist(ax=ax, log=True, color=\"blue\", alpha=0.3)"
   ]
  },
  {
   "cell_type": "code",
   "execution_count": 113,
   "metadata": {},
   "outputs": [],
   "source": [
    "data_to_predict.to_csv('behance_sample1_with_femaleness.csv')"
   ]
  },
  {
   "cell_type": "code",
   "execution_count": 115,
   "metadata": {},
   "outputs": [
    {
     "data": {
      "text/plain": [
       "count    6000.000000\n",
       "mean        0.598007\n",
       "std         0.151688\n",
       "min         0.071127\n",
       "25%         0.495467\n",
       "50%         0.611726\n",
       "75%         0.713898\n",
       "max         0.935816\n",
       "Name: femaleness_2_new, dtype: float64"
      ]
     },
     "execution_count": 115,
     "metadata": {},
     "output_type": "execute_result"
    }
   ],
   "source": [
    "data_to_predict[data_to_predict['gender']=='female']['femaleness_2_new'].describe()"
   ]
  },
  {
   "cell_type": "code",
   "execution_count": 116,
   "metadata": {},
   "outputs": [
    {
     "data": {
      "text/plain": [
       "count    6000.000000\n",
       "mean        0.393310\n",
       "std         0.155680\n",
       "min         0.046444\n",
       "25%         0.279893\n",
       "50%         0.380639\n",
       "75%         0.496087\n",
       "max         0.907388\n",
       "Name: femaleness_2_new, dtype: float64"
      ]
     },
     "execution_count": 116,
     "metadata": {},
     "output_type": "execute_result"
    }
   ],
   "source": [
    "data_to_predict[data_to_predict['gender']=='male']['femaleness_2_new'].describe()"
   ]
  },
  {
   "cell_type": "code",
   "execution_count": null,
   "metadata": {
    "collapsed": true
   },
   "outputs": [],
   "source": []
  }
 ],
 "metadata": {
  "kernelspec": {
   "display_name": "Python 3",
   "language": "python",
   "name": "python3"
  },
  "language_info": {
   "codemirror_mode": {
    "name": "ipython",
    "version": 3
   },
   "file_extension": ".py",
   "mimetype": "text/x-python",
   "name": "python",
   "nbconvert_exporter": "python",
   "pygments_lexer": "ipython3",
   "version": "3.8.8"
  }
 },
 "nbformat": 4,
 "nbformat_minor": 2
}
